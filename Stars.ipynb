{
 "cells": [
  {
   "cell_type": "code",
   "execution_count": 37,
   "id": "80717544-d2a0-4a27-beb1-9f2f2f4e7a6d",
   "metadata": {},
   "outputs": [],
   "source": [
    "import pandas as pd\n",
    "import pandas as pd\n",
    "import numpy as np\n",
    "from scipy import stats\n",
    "import matplotlib.pyplot as plt\n",
    "import plotly.express as px\n",
    "df = pd.read_csv(r\"C:\\Users\\gezze\\Desktop\\Аналитика\\Stars.csv\")"
   ]
  },
  {
   "cell_type": "code",
   "execution_count": 9,
   "id": "c6631f5f-60e2-42ff-b945-fb6004ef1cac",
   "metadata": {},
   "outputs": [
    {
     "data": {
      "text/html": [
       "<div>\n",
       "<style scoped>\n",
       "    .dataframe tbody tr th:only-of-type {\n",
       "        vertical-align: middle;\n",
       "    }\n",
       "\n",
       "    .dataframe tbody tr th {\n",
       "        vertical-align: top;\n",
       "    }\n",
       "\n",
       "    .dataframe thead th {\n",
       "        text-align: right;\n",
       "    }\n",
       "</style>\n",
       "<table border=\"1\" class=\"dataframe\">\n",
       "  <thead>\n",
       "    <tr style=\"text-align: right;\">\n",
       "      <th></th>\n",
       "      <th>Temperature</th>\n",
       "      <th>L</th>\n",
       "      <th>R</th>\n",
       "      <th>A_M</th>\n",
       "      <th>Color</th>\n",
       "      <th>Spectral_Class</th>\n",
       "      <th>Type</th>\n",
       "    </tr>\n",
       "  </thead>\n",
       "  <tbody>\n",
       "    <tr>\n",
       "      <th>0</th>\n",
       "      <td>3068</td>\n",
       "      <td>0.002400</td>\n",
       "      <td>0.1700</td>\n",
       "      <td>16.120</td>\n",
       "      <td>Red</td>\n",
       "      <td>M</td>\n",
       "      <td>0</td>\n",
       "    </tr>\n",
       "    <tr>\n",
       "      <th>1</th>\n",
       "      <td>3042</td>\n",
       "      <td>0.000500</td>\n",
       "      <td>0.1542</td>\n",
       "      <td>16.600</td>\n",
       "      <td>Red</td>\n",
       "      <td>M</td>\n",
       "      <td>0</td>\n",
       "    </tr>\n",
       "    <tr>\n",
       "      <th>2</th>\n",
       "      <td>2600</td>\n",
       "      <td>0.000300</td>\n",
       "      <td>0.1020</td>\n",
       "      <td>18.700</td>\n",
       "      <td>Red</td>\n",
       "      <td>M</td>\n",
       "      <td>0</td>\n",
       "    </tr>\n",
       "    <tr>\n",
       "      <th>3</th>\n",
       "      <td>2800</td>\n",
       "      <td>0.000200</td>\n",
       "      <td>0.1600</td>\n",
       "      <td>16.650</td>\n",
       "      <td>Red</td>\n",
       "      <td>M</td>\n",
       "      <td>0</td>\n",
       "    </tr>\n",
       "    <tr>\n",
       "      <th>4</th>\n",
       "      <td>1939</td>\n",
       "      <td>0.000138</td>\n",
       "      <td>0.1030</td>\n",
       "      <td>20.060</td>\n",
       "      <td>Red</td>\n",
       "      <td>M</td>\n",
       "      <td>0</td>\n",
       "    </tr>\n",
       "    <tr>\n",
       "      <th>5</th>\n",
       "      <td>2840</td>\n",
       "      <td>0.000650</td>\n",
       "      <td>0.1100</td>\n",
       "      <td>16.980</td>\n",
       "      <td>Red</td>\n",
       "      <td>M</td>\n",
       "      <td>0</td>\n",
       "    </tr>\n",
       "    <tr>\n",
       "      <th>6</th>\n",
       "      <td>2637</td>\n",
       "      <td>0.000730</td>\n",
       "      <td>0.1270</td>\n",
       "      <td>17.220</td>\n",
       "      <td>Red</td>\n",
       "      <td>M</td>\n",
       "      <td>0</td>\n",
       "    </tr>\n",
       "    <tr>\n",
       "      <th>7</th>\n",
       "      <td>2600</td>\n",
       "      <td>0.000400</td>\n",
       "      <td>0.0960</td>\n",
       "      <td>17.400</td>\n",
       "      <td>Red</td>\n",
       "      <td>M</td>\n",
       "      <td>0</td>\n",
       "    </tr>\n",
       "    <tr>\n",
       "      <th>8</th>\n",
       "      <td>2650</td>\n",
       "      <td>0.000690</td>\n",
       "      <td>0.1100</td>\n",
       "      <td>17.450</td>\n",
       "      <td>Red</td>\n",
       "      <td>M</td>\n",
       "      <td>0</td>\n",
       "    </tr>\n",
       "    <tr>\n",
       "      <th>9</th>\n",
       "      <td>2700</td>\n",
       "      <td>0.000180</td>\n",
       "      <td>0.1300</td>\n",
       "      <td>16.050</td>\n",
       "      <td>Red</td>\n",
       "      <td>M</td>\n",
       "      <td>0</td>\n",
       "    </tr>\n",
       "    <tr>\n",
       "      <th>10</th>\n",
       "      <td>3600</td>\n",
       "      <td>0.002900</td>\n",
       "      <td>0.5100</td>\n",
       "      <td>10.690</td>\n",
       "      <td>Red</td>\n",
       "      <td>M</td>\n",
       "      <td>1</td>\n",
       "    </tr>\n",
       "    <tr>\n",
       "      <th>11</th>\n",
       "      <td>3129</td>\n",
       "      <td>0.012200</td>\n",
       "      <td>0.3761</td>\n",
       "      <td>11.790</td>\n",
       "      <td>Red</td>\n",
       "      <td>M</td>\n",
       "      <td>1</td>\n",
       "    </tr>\n",
       "    <tr>\n",
       "      <th>12</th>\n",
       "      <td>3134</td>\n",
       "      <td>0.000400</td>\n",
       "      <td>0.1960</td>\n",
       "      <td>13.210</td>\n",
       "      <td>Red</td>\n",
       "      <td>M</td>\n",
       "      <td>1</td>\n",
       "    </tr>\n",
       "    <tr>\n",
       "      <th>13</th>\n",
       "      <td>3628</td>\n",
       "      <td>0.005500</td>\n",
       "      <td>0.3930</td>\n",
       "      <td>10.480</td>\n",
       "      <td>Red</td>\n",
       "      <td>M</td>\n",
       "      <td>1</td>\n",
       "    </tr>\n",
       "    <tr>\n",
       "      <th>14</th>\n",
       "      <td>2650</td>\n",
       "      <td>0.000600</td>\n",
       "      <td>0.1400</td>\n",
       "      <td>11.782</td>\n",
       "      <td>Red</td>\n",
       "      <td>M</td>\n",
       "      <td>1</td>\n",
       "    </tr>\n",
       "    <tr>\n",
       "      <th>15</th>\n",
       "      <td>3340</td>\n",
       "      <td>0.003800</td>\n",
       "      <td>0.2400</td>\n",
       "      <td>13.070</td>\n",
       "      <td>Red</td>\n",
       "      <td>M</td>\n",
       "      <td>1</td>\n",
       "    </tr>\n",
       "    <tr>\n",
       "      <th>16</th>\n",
       "      <td>2799</td>\n",
       "      <td>0.001800</td>\n",
       "      <td>0.1600</td>\n",
       "      <td>14.790</td>\n",
       "      <td>Red</td>\n",
       "      <td>M</td>\n",
       "      <td>1</td>\n",
       "    </tr>\n",
       "    <tr>\n",
       "      <th>17</th>\n",
       "      <td>3692</td>\n",
       "      <td>0.003670</td>\n",
       "      <td>0.4700</td>\n",
       "      <td>10.800</td>\n",
       "      <td>Red</td>\n",
       "      <td>M</td>\n",
       "      <td>1</td>\n",
       "    </tr>\n",
       "    <tr>\n",
       "      <th>18</th>\n",
       "      <td>3192</td>\n",
       "      <td>0.003620</td>\n",
       "      <td>0.1967</td>\n",
       "      <td>13.530</td>\n",
       "      <td>Red</td>\n",
       "      <td>M</td>\n",
       "      <td>1</td>\n",
       "    </tr>\n",
       "    <tr>\n",
       "      <th>19</th>\n",
       "      <td>3441</td>\n",
       "      <td>0.039000</td>\n",
       "      <td>0.3510</td>\n",
       "      <td>11.180</td>\n",
       "      <td>Red</td>\n",
       "      <td>M</td>\n",
       "      <td>1</td>\n",
       "    </tr>\n",
       "  </tbody>\n",
       "</table>\n",
       "</div>"
      ],
      "text/plain": [
       "    Temperature         L       R     A_M Color Spectral_Class  Type\n",
       "0          3068  0.002400  0.1700  16.120   Red              M     0\n",
       "1          3042  0.000500  0.1542  16.600   Red              M     0\n",
       "2          2600  0.000300  0.1020  18.700   Red              M     0\n",
       "3          2800  0.000200  0.1600  16.650   Red              M     0\n",
       "4          1939  0.000138  0.1030  20.060   Red              M     0\n",
       "5          2840  0.000650  0.1100  16.980   Red              M     0\n",
       "6          2637  0.000730  0.1270  17.220   Red              M     0\n",
       "7          2600  0.000400  0.0960  17.400   Red              M     0\n",
       "8          2650  0.000690  0.1100  17.450   Red              M     0\n",
       "9          2700  0.000180  0.1300  16.050   Red              M     0\n",
       "10         3600  0.002900  0.5100  10.690   Red              M     1\n",
       "11         3129  0.012200  0.3761  11.790   Red              M     1\n",
       "12         3134  0.000400  0.1960  13.210   Red              M     1\n",
       "13         3628  0.005500  0.3930  10.480   Red              M     1\n",
       "14         2650  0.000600  0.1400  11.782   Red              M     1\n",
       "15         3340  0.003800  0.2400  13.070   Red              M     1\n",
       "16         2799  0.001800  0.1600  14.790   Red              M     1\n",
       "17         3692  0.003670  0.4700  10.800   Red              M     1\n",
       "18         3192  0.003620  0.1967  13.530   Red              M     1\n",
       "19         3441  0.039000  0.3510  11.180   Red              M     1"
      ]
     },
     "execution_count": 9,
     "metadata": {},
     "output_type": "execute_result"
    }
   ],
   "source": [
    "df.head(20)"
   ]
  },
  {
   "cell_type": "code",
   "execution_count": 11,
   "id": "58fcc747-c127-4b19-bb29-ae2f52f38087",
   "metadata": {},
   "outputs": [
    {
     "data": {
      "text/html": [
       "<div>\n",
       "<style scoped>\n",
       "    .dataframe tbody tr th:only-of-type {\n",
       "        vertical-align: middle;\n",
       "    }\n",
       "\n",
       "    .dataframe tbody tr th {\n",
       "        vertical-align: top;\n",
       "    }\n",
       "\n",
       "    .dataframe thead th {\n",
       "        text-align: right;\n",
       "    }\n",
       "</style>\n",
       "<table border=\"1\" class=\"dataframe\">\n",
       "  <thead>\n",
       "    <tr style=\"text-align: right;\">\n",
       "      <th></th>\n",
       "      <th>Temperature</th>\n",
       "      <th>L</th>\n",
       "      <th>R</th>\n",
       "      <th>A_M</th>\n",
       "      <th>Type</th>\n",
       "    </tr>\n",
       "  </thead>\n",
       "  <tbody>\n",
       "    <tr>\n",
       "      <th>count</th>\n",
       "      <td>240.000000</td>\n",
       "      <td>240.000000</td>\n",
       "      <td>240.000000</td>\n",
       "      <td>240.000000</td>\n",
       "      <td>240.000000</td>\n",
       "    </tr>\n",
       "    <tr>\n",
       "      <th>mean</th>\n",
       "      <td>10497.462500</td>\n",
       "      <td>107188.361635</td>\n",
       "      <td>237.157781</td>\n",
       "      <td>4.382396</td>\n",
       "      <td>2.500000</td>\n",
       "    </tr>\n",
       "    <tr>\n",
       "      <th>std</th>\n",
       "      <td>9552.425037</td>\n",
       "      <td>179432.244940</td>\n",
       "      <td>517.155763</td>\n",
       "      <td>10.532512</td>\n",
       "      <td>1.711394</td>\n",
       "    </tr>\n",
       "    <tr>\n",
       "      <th>min</th>\n",
       "      <td>1939.000000</td>\n",
       "      <td>0.000080</td>\n",
       "      <td>0.008400</td>\n",
       "      <td>-11.920000</td>\n",
       "      <td>0.000000</td>\n",
       "    </tr>\n",
       "    <tr>\n",
       "      <th>25%</th>\n",
       "      <td>3344.250000</td>\n",
       "      <td>0.000865</td>\n",
       "      <td>0.102750</td>\n",
       "      <td>-6.232500</td>\n",
       "      <td>1.000000</td>\n",
       "    </tr>\n",
       "    <tr>\n",
       "      <th>50%</th>\n",
       "      <td>5776.000000</td>\n",
       "      <td>0.070500</td>\n",
       "      <td>0.762500</td>\n",
       "      <td>8.313000</td>\n",
       "      <td>2.500000</td>\n",
       "    </tr>\n",
       "    <tr>\n",
       "      <th>75%</th>\n",
       "      <td>15055.500000</td>\n",
       "      <td>198050.000000</td>\n",
       "      <td>42.750000</td>\n",
       "      <td>13.697500</td>\n",
       "      <td>4.000000</td>\n",
       "    </tr>\n",
       "    <tr>\n",
       "      <th>max</th>\n",
       "      <td>40000.000000</td>\n",
       "      <td>849420.000000</td>\n",
       "      <td>1948.500000</td>\n",
       "      <td>20.060000</td>\n",
       "      <td>5.000000</td>\n",
       "    </tr>\n",
       "  </tbody>\n",
       "</table>\n",
       "</div>"
      ],
      "text/plain": [
       "        Temperature              L            R         A_M        Type\n",
       "count    240.000000     240.000000   240.000000  240.000000  240.000000\n",
       "mean   10497.462500  107188.361635   237.157781    4.382396    2.500000\n",
       "std     9552.425037  179432.244940   517.155763   10.532512    1.711394\n",
       "min     1939.000000       0.000080     0.008400  -11.920000    0.000000\n",
       "25%     3344.250000       0.000865     0.102750   -6.232500    1.000000\n",
       "50%     5776.000000       0.070500     0.762500    8.313000    2.500000\n",
       "75%    15055.500000  198050.000000    42.750000   13.697500    4.000000\n",
       "max    40000.000000  849420.000000  1948.500000   20.060000    5.000000"
      ]
     },
     "execution_count": 11,
     "metadata": {},
     "output_type": "execute_result"
    }
   ],
   "source": [
    "df.describe()"
   ]
  },
  {
   "cell_type": "code",
   "execution_count": 13,
   "id": "4a429de7-c065-48e2-aa07-9eede8e24cdd",
   "metadata": {},
   "outputs": [
    {
     "name": "stdout",
     "output_type": "stream",
     "text": [
      "<class 'pandas.core.frame.DataFrame'>\n",
      "RangeIndex: 240 entries, 0 to 239\n",
      "Data columns (total 7 columns):\n",
      " #   Column          Non-Null Count  Dtype  \n",
      "---  ------          --------------  -----  \n",
      " 0   Temperature     240 non-null    int64  \n",
      " 1   L               240 non-null    float64\n",
      " 2   R               240 non-null    float64\n",
      " 3   A_M             240 non-null    float64\n",
      " 4   Color           240 non-null    object \n",
      " 5   Spectral_Class  240 non-null    object \n",
      " 6   Type            240 non-null    int64  \n",
      "dtypes: float64(3), int64(2), object(2)\n",
      "memory usage: 13.3+ KB\n"
     ]
    }
   ],
   "source": [
    "df.info()"
   ]
  },
  {
   "cell_type": "code",
   "execution_count": 15,
   "id": "ba9c1879-2e00-4c65-8414-245718acfa05",
   "metadata": {},
   "outputs": [
    {
     "data": {
      "text/html": [
       "<div>\n",
       "<style scoped>\n",
       "    .dataframe tbody tr th:only-of-type {\n",
       "        vertical-align: middle;\n",
       "    }\n",
       "\n",
       "    .dataframe tbody tr th {\n",
       "        vertical-align: top;\n",
       "    }\n",
       "\n",
       "    .dataframe thead th {\n",
       "        text-align: right;\n",
       "    }\n",
       "</style>\n",
       "<table border=\"1\" class=\"dataframe\">\n",
       "  <thead>\n",
       "    <tr style=\"text-align: right;\">\n",
       "      <th></th>\n",
       "      <th>Temperature</th>\n",
       "      <th>L</th>\n",
       "      <th>R</th>\n",
       "      <th>A_M</th>\n",
       "      <th>Color</th>\n",
       "      <th>Spectral_Class</th>\n",
       "      <th>Type</th>\n",
       "    </tr>\n",
       "  </thead>\n",
       "  <tbody>\n",
       "    <tr>\n",
       "      <th>230</th>\n",
       "      <td>24145</td>\n",
       "      <td>382993.0</td>\n",
       "      <td>1494.0</td>\n",
       "      <td>-8.84</td>\n",
       "      <td>Blue-white</td>\n",
       "      <td>B</td>\n",
       "      <td>5</td>\n",
       "    </tr>\n",
       "    <tr>\n",
       "      <th>231</th>\n",
       "      <td>38234</td>\n",
       "      <td>272830.0</td>\n",
       "      <td>1356.0</td>\n",
       "      <td>-9.29</td>\n",
       "      <td>Blue</td>\n",
       "      <td>O</td>\n",
       "      <td>5</td>\n",
       "    </tr>\n",
       "    <tr>\n",
       "      <th>232</th>\n",
       "      <td>32489</td>\n",
       "      <td>648430.0</td>\n",
       "      <td>1948.5</td>\n",
       "      <td>-10.84</td>\n",
       "      <td>Blue</td>\n",
       "      <td>O</td>\n",
       "      <td>5</td>\n",
       "    </tr>\n",
       "    <tr>\n",
       "      <th>233</th>\n",
       "      <td>27739</td>\n",
       "      <td>849420.0</td>\n",
       "      <td>1252.0</td>\n",
       "      <td>-7.59</td>\n",
       "      <td>Blue-white</td>\n",
       "      <td>B</td>\n",
       "      <td>5</td>\n",
       "    </tr>\n",
       "    <tr>\n",
       "      <th>234</th>\n",
       "      <td>21904</td>\n",
       "      <td>748490.0</td>\n",
       "      <td>1130.0</td>\n",
       "      <td>-7.67</td>\n",
       "      <td>Blue-white</td>\n",
       "      <td>B</td>\n",
       "      <td>5</td>\n",
       "    </tr>\n",
       "    <tr>\n",
       "      <th>235</th>\n",
       "      <td>38940</td>\n",
       "      <td>374830.0</td>\n",
       "      <td>1356.0</td>\n",
       "      <td>-9.93</td>\n",
       "      <td>Blue</td>\n",
       "      <td>O</td>\n",
       "      <td>5</td>\n",
       "    </tr>\n",
       "    <tr>\n",
       "      <th>236</th>\n",
       "      <td>30839</td>\n",
       "      <td>834042.0</td>\n",
       "      <td>1194.0</td>\n",
       "      <td>-10.63</td>\n",
       "      <td>Blue</td>\n",
       "      <td>O</td>\n",
       "      <td>5</td>\n",
       "    </tr>\n",
       "    <tr>\n",
       "      <th>237</th>\n",
       "      <td>8829</td>\n",
       "      <td>537493.0</td>\n",
       "      <td>1423.0</td>\n",
       "      <td>-10.73</td>\n",
       "      <td>White</td>\n",
       "      <td>A</td>\n",
       "      <td>5</td>\n",
       "    </tr>\n",
       "    <tr>\n",
       "      <th>238</th>\n",
       "      <td>9235</td>\n",
       "      <td>404940.0</td>\n",
       "      <td>1112.0</td>\n",
       "      <td>-11.23</td>\n",
       "      <td>White</td>\n",
       "      <td>A</td>\n",
       "      <td>5</td>\n",
       "    </tr>\n",
       "    <tr>\n",
       "      <th>239</th>\n",
       "      <td>37882</td>\n",
       "      <td>294903.0</td>\n",
       "      <td>1783.0</td>\n",
       "      <td>-7.80</td>\n",
       "      <td>Blue</td>\n",
       "      <td>O</td>\n",
       "      <td>5</td>\n",
       "    </tr>\n",
       "  </tbody>\n",
       "</table>\n",
       "</div>"
      ],
      "text/plain": [
       "     Temperature         L       R    A_M       Color Spectral_Class  Type\n",
       "230        24145  382993.0  1494.0  -8.84  Blue-white              B     5\n",
       "231        38234  272830.0  1356.0  -9.29        Blue              O     5\n",
       "232        32489  648430.0  1948.5 -10.84        Blue              O     5\n",
       "233        27739  849420.0  1252.0  -7.59  Blue-white              B     5\n",
       "234        21904  748490.0  1130.0  -7.67  Blue-white              B     5\n",
       "235        38940  374830.0  1356.0  -9.93        Blue              O     5\n",
       "236        30839  834042.0  1194.0 -10.63        Blue              O     5\n",
       "237         8829  537493.0  1423.0 -10.73       White              A     5\n",
       "238         9235  404940.0  1112.0 -11.23       White              A     5\n",
       "239        37882  294903.0  1783.0  -7.80        Blue              O     5"
      ]
     },
     "execution_count": 15,
     "metadata": {},
     "output_type": "execute_result"
    }
   ],
   "source": [
    "df.tail(10)\n"
   ]
  },
  {
   "cell_type": "code",
   "execution_count": 17,
   "id": "1ff154c8-b310-4f3a-b211-a4fb93594920",
   "metadata": {},
   "outputs": [
    {
     "data": {
      "text/plain": [
       "Index(['Temperature', 'L', 'R', 'A_M', 'Color', 'Spectral_Class', 'Type'], dtype='object')"
      ]
     },
     "execution_count": 17,
     "metadata": {},
     "output_type": "execute_result"
    }
   ],
   "source": [
    "df.columns"
   ]
  },
  {
   "cell_type": "code",
   "execution_count": 19,
   "id": "9c7767e6-9301-4f1e-8576-34ada2f60484",
   "metadata": {},
   "outputs": [
    {
     "data": {
      "text/plain": [
       "(240, 7)"
      ]
     },
     "execution_count": 19,
     "metadata": {},
     "output_type": "execute_result"
    }
   ],
   "source": [
    "df.shape"
   ]
  },
  {
   "cell_type": "code",
   "execution_count": 21,
   "id": "29f405c1-0228-41aa-a4ee-52aa8ede4711",
   "metadata": {},
   "outputs": [
    {
     "data": {
      "text/plain": [
       "Temperature         int64\n",
       "L                 float64\n",
       "R                 float64\n",
       "A_M               float64\n",
       "Color              object\n",
       "Spectral_Class     object\n",
       "Type                int64\n",
       "dtype: object"
      ]
     },
     "execution_count": 21,
     "metadata": {},
     "output_type": "execute_result"
    }
   ],
   "source": [
    "df.dtypes"
   ]
  },
  {
   "cell_type": "code",
   "execution_count": 29,
   "id": "421b7713-16d6-46ea-97d1-6af5f8fbc508",
   "metadata": {},
   "outputs": [
    {
     "name": "stdout",
     "output_type": "stream",
     "text": [
      "Temperature: 228 уникальных значений\n",
      "L: 208 уникальных значений\n",
      "R: 216 уникальных значений\n",
      "A_M: 228 уникальных значений\n",
      "Color: 17 уникальных значений\n",
      "Spectral_Class: 7 уникальных значений\n",
      "Type: 6 уникальных значений\n"
     ]
    }
   ],
   "source": [
    "for n in df.columns:\n",
    "    print(f\"{n}: {df[n].nunique()} уникальных значений\")"
   ]
  },
  {
   "cell_type": "code",
   "execution_count": 31,
   "id": "37f56c98-df99-4c16-9d6f-9cb5295ab972",
   "metadata": {},
   "outputs": [
    {
     "data": {
      "text/plain": [
       "Temperature       0\n",
       "L                 0\n",
       "R                 0\n",
       "A_M               0\n",
       "Color             0\n",
       "Spectral_Class    0\n",
       "Type              0\n",
       "dtype: int64"
      ]
     },
     "execution_count": 31,
     "metadata": {},
     "output_type": "execute_result"
    }
   ],
   "source": [
    "df.isnull().sum()"
   ]
  },
  {
   "cell_type": "code",
   "execution_count": 35,
   "id": "e2a91b37-abb2-4e11-b535-8a078ac70431",
   "metadata": {},
   "outputs": [
    {
     "name": "stdout",
     "output_type": "stream",
     "text": [
      "Средняя температура: 10497.4625\n"
     ]
    }
   ],
   "source": [
    "temp = df['Temperature']\n",
    "print(\"Средняя температура:\", temp.mean())"
   ]
  },
  {
   "cell_type": "code",
   "execution_count": 41,
   "id": "4ed23f62-8e36-4863-983f-f33af10f7787",
   "metadata": {
    "collapsed": true,
    "jupyter": {
     "outputs_hidden": true
    }
   },
   "outputs": [
    {
     "name": "stdout",
     "output_type": "stream",
     "text": [
      "Средняя температура: 10497.4625\n",
      "Первая строка:\n",
      "Temperature         3068\n",
      "L                 0.0024\n",
      "R                   0.17\n",
      "A_M                16.12\n",
      "Color                Red\n",
      "Spectral_Class         M\n",
      "Type                   0\n",
      "Name: 0, dtype: object\n"
     ]
    }
   ],
   "source": [
    "temp = df['Temperature']\n",
    "print(\"Средняя температура:\", temp.mean())\n",
    "print(\"Первая строка:\")\n",
    "print(df.iloc[0])"
   ]
  },
  {
   "cell_type": "code",
   "execution_count": 55,
   "id": "fe7bb6e1-1b59-4cc3-a62e-6bbda65b35c4",
   "metadata": {},
   "outputs": [
    {
     "data": {
      "text/plain": [
       "0    3068\n",
       "1    3042\n",
       "2    2600\n",
       "3    2800\n",
       "4    1939\n",
       "Name: Temperature, dtype: int64"
      ]
     },
     "execution_count": 55,
     "metadata": {},
     "output_type": "execute_result"
    }
   ],
   "source": [
    "df['Temperature'].head()"
   ]
  },
  {
   "cell_type": "code",
   "execution_count": 57,
   "id": "2aa20632-805a-4bf0-9a1a-b62ac46e68c8",
   "metadata": {},
   "outputs": [
    {
     "data": {
      "text/plain": [
       "Temperature           1939\n",
       "L                 0.000138\n",
       "R                    0.103\n",
       "A_M                  20.06\n",
       "Color                  Red\n",
       "Spectral_Class           M\n",
       "Type                     0\n",
       "Name: 4, dtype: object"
      ]
     },
     "execution_count": 57,
     "metadata": {},
     "output_type": "execute_result"
    }
   ],
   "source": [
    "df.iloc[4]"
   ]
  },
  {
   "cell_type": "code",
   "execution_count": 61,
   "id": "27b1f3cd-eae9-458f-a152-6d3eecaa5355",
   "metadata": {},
   "outputs": [
    {
     "data": {
      "text/plain": [
       "107188.36163460833"
      ]
     },
     "execution_count": 61,
     "metadata": {},
     "output_type": "execute_result"
    }
   ],
   "source": [
    "L_array = df['L'].to_numpy()\n",
    "np.mean(L_array)"
   ]
  },
  {
   "cell_type": "code",
   "execution_count": 65,
   "id": "1181f668-fe18-4509-b65a-979c8ed1f2b2",
   "metadata": {},
   "outputs": [
    {
     "data": {
      "text/plain": [
       "ShapiroResult(statistic=0.5021535961081504, pvalue=1.655239147135894e-25)"
      ]
     },
     "execution_count": 65,
     "metadata": {},
     "output_type": "execute_result"
    }
   ],
   "source": [
    "# Проверка нормальности распределения столбца 'R'\n",
    "stats.shapiro(df['R'])"
   ]
  },
  {
   "cell_type": "code",
   "execution_count": 67,
   "id": "a370502e-b792-4488-802c-eafe7388b4ad",
   "metadata": {},
   "outputs": [
    {
     "data": {
      "text/plain": [
       "['Red', 'Red', 'Red', 'Red', 'Red', 'Red', 'Red', 'Red', 'Red', 'Red']"
      ]
     },
     "execution_count": 67,
     "metadata": {},
     "output_type": "execute_result"
    }
   ],
   "source": [
    "color_list = df['Color'].tolist()\n",
    "color_list[:10]"
   ]
  },
  {
   "cell_type": "code",
   "execution_count": 71,
   "id": "12004464-6fd6-439e-b2a9-8fb6b9faaf3f",
   "metadata": {},
   "outputs": [],
   "source": [
    "df['L_times_R'] = df['L'] * df['R']\n",
    "new_row = pd.Series([5000, 1.2, 0.8, 1.0, 'White', 'G', 2, np.log10(5000), 1.2*0.8],\n",
    "                    index=df.columns)\n",
    "df.loc[len(df)] = new_row"
   ]
  },
  {
   "cell_type": "code",
   "execution_count": 73,
   "id": "27f97d55-c780-4f43-a404-40c9f28ed0fb",
   "metadata": {},
   "outputs": [],
   "source": [
    "df = df.drop(index=0)"
   ]
  },
  {
   "cell_type": "code",
   "execution_count": 75,
   "id": "74310490-df8a-425e-9511-a33033157ae0",
   "metadata": {},
   "outputs": [],
   "source": [
    "df = df.drop(columns='L_times_R')"
   ]
  },
  {
   "cell_type": "code",
   "execution_count": 77,
   "id": "beaa7c11-5d55-47c8-ad5a-f41a7c97e848",
   "metadata": {},
   "outputs": [
    {
     "data": {
      "text/plain": [
       "array(['Red', 'Blue White', 'White', 'Yellowish White', 'Blue white',\n",
       "       'Pale yellow orange', 'Blue', 'Blue-white', 'Whitish',\n",
       "       'yellow-white', 'Orange', 'White-Yellow', 'white', 'yellowish',\n",
       "       'Yellowish', 'Orange-Red', 'Blue-White'], dtype=object)"
      ]
     },
     "execution_count": 77,
     "metadata": {},
     "output_type": "execute_result"
    }
   ],
   "source": [
    "df['Color'].unique()"
   ]
  },
  {
   "cell_type": "code",
   "execution_count": 79,
   "id": "e58ce592-5839-496b-8f37-82fe8e8f0230",
   "metadata": {},
   "outputs": [
    {
     "data": {
      "text/plain": [
       "Color\n",
       "Blue                  21918.339286\n",
       "Blue White            14638.900000\n",
       "Blue white            10576.500000\n",
       "Blue-White             8945.000000\n",
       "Blue-white            18669.923077\n",
       "Orange                 4018.000000\n",
       "Orange-Red             5112.000000\n",
       "Pale yellow orange     7230.000000\n",
       "Red                    3293.801802\n",
       "White                  8102.625000\n",
       "White-Yellow           7100.000000\n",
       "Whitish                8876.000000\n",
       "Yellowish              4980.000000\n",
       "Yellowish White       10826.666667\n",
       "white                 12460.666667\n",
       "yellow-white           6466.250000\n",
       "yellowish              4301.500000\n",
       "Name: Temperature, dtype: float64"
      ]
     },
     "execution_count": 79,
     "metadata": {},
     "output_type": "execute_result"
    }
   ],
   "source": [
    "df.groupby('Color')['Temperature'].mean()"
   ]
  },
  {
   "cell_type": "code",
   "execution_count": 81,
   "id": "f7015467-25bb-43a2-8f6c-f6d59aee15ca",
   "metadata": {},
   "outputs": [
    {
     "data": {
      "text/html": [
       "<div>\n",
       "<style scoped>\n",
       "    .dataframe tbody tr th:only-of-type {\n",
       "        vertical-align: middle;\n",
       "    }\n",
       "\n",
       "    .dataframe tbody tr th {\n",
       "        vertical-align: top;\n",
       "    }\n",
       "\n",
       "    .dataframe thead th {\n",
       "        text-align: right;\n",
       "    }\n",
       "</style>\n",
       "<table border=\"1\" class=\"dataframe\">\n",
       "  <thead>\n",
       "    <tr style=\"text-align: right;\">\n",
       "      <th>Type</th>\n",
       "      <th>0</th>\n",
       "      <th>1</th>\n",
       "      <th>2</th>\n",
       "      <th>3</th>\n",
       "      <th>4</th>\n",
       "      <th>5</th>\n",
       "    </tr>\n",
       "    <tr>\n",
       "      <th>Spectral_Class</th>\n",
       "      <th></th>\n",
       "      <th></th>\n",
       "      <th></th>\n",
       "      <th></th>\n",
       "      <th></th>\n",
       "      <th></th>\n",
       "    </tr>\n",
       "  </thead>\n",
       "  <tbody>\n",
       "    <tr>\n",
       "      <th>A</th>\n",
       "      <td>NaN</td>\n",
       "      <td>NaN</td>\n",
       "      <td>14.308571</td>\n",
       "      <td>-0.058100</td>\n",
       "      <td>NaN</td>\n",
       "      <td>-10.980000</td>\n",
       "    </tr>\n",
       "    <tr>\n",
       "      <th>B</th>\n",
       "      <td>NaN</td>\n",
       "      <td>NaN</td>\n",
       "      <td>11.815417</td>\n",
       "      <td>-3.119231</td>\n",
       "      <td>-6.300000</td>\n",
       "      <td>-8.454286</td>\n",
       "    </tr>\n",
       "    <tr>\n",
       "      <th>F</th>\n",
       "      <td>NaN</td>\n",
       "      <td>NaN</td>\n",
       "      <td>13.285556</td>\n",
       "      <td>3.353750</td>\n",
       "      <td>NaN</td>\n",
       "      <td>NaN</td>\n",
       "    </tr>\n",
       "    <tr>\n",
       "      <th>G</th>\n",
       "      <td>NaN</td>\n",
       "      <td>NaN</td>\n",
       "      <td>1.000000</td>\n",
       "      <td>NaN</td>\n",
       "      <td>NaN</td>\n",
       "      <td>-10.070000</td>\n",
       "    </tr>\n",
       "    <tr>\n",
       "      <th>K</th>\n",
       "      <td>NaN</td>\n",
       "      <td>NaN</td>\n",
       "      <td>NaN</td>\n",
       "      <td>5.548500</td>\n",
       "      <td>NaN</td>\n",
       "      <td>-10.295000</td>\n",
       "    </tr>\n",
       "    <tr>\n",
       "      <th>M</th>\n",
       "      <td>17.600513</td>\n",
       "      <td>12.539975</td>\n",
       "      <td>NaN</td>\n",
       "      <td>NaN</td>\n",
       "      <td>-6.414444</td>\n",
       "      <td>-9.890000</td>\n",
       "    </tr>\n",
       "    <tr>\n",
       "      <th>O</th>\n",
       "      <td>NaN</td>\n",
       "      <td>NaN</td>\n",
       "      <td>NaN</td>\n",
       "      <td>-4.518000</td>\n",
       "      <td>-6.360931</td>\n",
       "      <td>-9.465000</td>\n",
       "    </tr>\n",
       "  </tbody>\n",
       "</table>\n",
       "</div>"
      ],
      "text/plain": [
       "Type                    0          1          2         3         4          5\n",
       "Spectral_Class                                                                \n",
       "A                     NaN        NaN  14.308571 -0.058100       NaN -10.980000\n",
       "B                     NaN        NaN  11.815417 -3.119231 -6.300000  -8.454286\n",
       "F                     NaN        NaN  13.285556  3.353750       NaN        NaN\n",
       "G                     NaN        NaN   1.000000       NaN       NaN -10.070000\n",
       "K                     NaN        NaN        NaN  5.548500       NaN -10.295000\n",
       "M               17.600513  12.539975        NaN       NaN -6.414444  -9.890000\n",
       "O                     NaN        NaN        NaN -4.518000 -6.360931  -9.465000"
      ]
     },
     "execution_count": 81,
     "metadata": {},
     "output_type": "execute_result"
    }
   ],
   "source": [
    "pd.pivot_table(df, values='A_M', index='Spectral_Class', columns='Type', aggfunc='mean')"
   ]
  },
  {
   "cell_type": "code",
   "execution_count": 83,
   "id": "e8e0c4be-f9f1-4844-ad78-f73f4a1dc81f",
   "metadata": {},
   "outputs": [
    {
     "data": {
      "text/html": [
       "<div>\n",
       "<style scoped>\n",
       "    .dataframe tbody tr th:only-of-type {\n",
       "        vertical-align: middle;\n",
       "    }\n",
       "\n",
       "    .dataframe tbody tr th {\n",
       "        vertical-align: top;\n",
       "    }\n",
       "\n",
       "    .dataframe thead th {\n",
       "        text-align: right;\n",
       "    }\n",
       "</style>\n",
       "<table border=\"1\" class=\"dataframe\">\n",
       "  <thead>\n",
       "    <tr style=\"text-align: right;\">\n",
       "      <th></th>\n",
       "      <th>Temperature</th>\n",
       "      <th>L</th>\n",
       "      <th>R</th>\n",
       "      <th>A_M</th>\n",
       "      <th>Color</th>\n",
       "      <th>Spectral_Class</th>\n",
       "      <th>Type</th>\n",
       "      <th>Log_Temperature</th>\n",
       "    </tr>\n",
       "  </thead>\n",
       "  <tbody>\n",
       "    <tr>\n",
       "      <th>101</th>\n",
       "      <td>40000</td>\n",
       "      <td>813000.0</td>\n",
       "      <td>14.0</td>\n",
       "      <td>-6.23</td>\n",
       "      <td>Blue</td>\n",
       "      <td>O</td>\n",
       "      <td>4</td>\n",
       "      <td>4.602060</td>\n",
       "    </tr>\n",
       "    <tr>\n",
       "      <th>30</th>\n",
       "      <td>39000</td>\n",
       "      <td>204000.0</td>\n",
       "      <td>10.6</td>\n",
       "      <td>-4.70</td>\n",
       "      <td>Blue</td>\n",
       "      <td>O</td>\n",
       "      <td>3</td>\n",
       "      <td>4.591065</td>\n",
       "    </tr>\n",
       "    <tr>\n",
       "      <th>235</th>\n",
       "      <td>38940</td>\n",
       "      <td>374830.0</td>\n",
       "      <td>1356.0</td>\n",
       "      <td>-9.93</td>\n",
       "      <td>Blue</td>\n",
       "      <td>O</td>\n",
       "      <td>5</td>\n",
       "      <td>4.590396</td>\n",
       "    </tr>\n",
       "    <tr>\n",
       "      <th>231</th>\n",
       "      <td>38234</td>\n",
       "      <td>272830.0</td>\n",
       "      <td>1356.0</td>\n",
       "      <td>-9.29</td>\n",
       "      <td>Blue</td>\n",
       "      <td>O</td>\n",
       "      <td>5</td>\n",
       "      <td>4.582450</td>\n",
       "    </tr>\n",
       "    <tr>\n",
       "      <th>239</th>\n",
       "      <td>37882</td>\n",
       "      <td>294903.0</td>\n",
       "      <td>1783.0</td>\n",
       "      <td>-7.80</td>\n",
       "      <td>Blue</td>\n",
       "      <td>O</td>\n",
       "      <td>5</td>\n",
       "      <td>4.578433</td>\n",
       "    </tr>\n",
       "  </tbody>\n",
       "</table>\n",
       "</div>"
      ],
      "text/plain": [
       "     Temperature         L       R   A_M Color Spectral_Class  Type  \\\n",
       "101        40000  813000.0    14.0 -6.23  Blue              O     4   \n",
       "30         39000  204000.0    10.6 -4.70  Blue              O     3   \n",
       "235        38940  374830.0  1356.0 -9.93  Blue              O     5   \n",
       "231        38234  272830.0  1356.0 -9.29  Blue              O     5   \n",
       "239        37882  294903.0  1783.0 -7.80  Blue              O     5   \n",
       "\n",
       "     Log_Temperature  \n",
       "101         4.602060  \n",
       "30          4.591065  \n",
       "235         4.590396  \n",
       "231         4.582450  \n",
       "239         4.578433  "
      ]
     },
     "execution_count": 83,
     "metadata": {},
     "output_type": "execute_result"
    }
   ],
   "source": [
    "df.sort_values(by='Temperature', ascending=False).head()"
   ]
  },
  {
   "cell_type": "code",
   "execution_count": 95,
   "id": "760fb5f5-bb1d-47f3-92d8-c40cb744e9ef",
   "metadata": {},
   "outputs": [
    {
     "data": {
      "text/html": [
       "<div>\n",
       "<style scoped>\n",
       "    .dataframe tbody tr th:only-of-type {\n",
       "        vertical-align: middle;\n",
       "    }\n",
       "\n",
       "    .dataframe tbody tr th {\n",
       "        vertical-align: top;\n",
       "    }\n",
       "\n",
       "    .dataframe thead th {\n",
       "        text-align: right;\n",
       "    }\n",
       "</style>\n",
       "<table border=\"1\" class=\"dataframe\">\n",
       "  <thead>\n",
       "    <tr style=\"text-align: right;\">\n",
       "      <th></th>\n",
       "      <th>Temperature</th>\n",
       "      <th>L</th>\n",
       "      <th>R</th>\n",
       "      <th>A_M</th>\n",
       "      <th>Color</th>\n",
       "      <th>Spectral_Class</th>\n",
       "      <th>Type</th>\n",
       "      <th>Log_Temperature</th>\n",
       "    </tr>\n",
       "  </thead>\n",
       "  <tbody>\n",
       "    <tr>\n",
       "      <th>30</th>\n",
       "      <td>39000</td>\n",
       "      <td>204000.0</td>\n",
       "      <td>10.60</td>\n",
       "      <td>-4.70</td>\n",
       "      <td>Blue</td>\n",
       "      <td>O</td>\n",
       "      <td>3</td>\n",
       "      <td>4.591065</td>\n",
       "    </tr>\n",
       "    <tr>\n",
       "      <th>99</th>\n",
       "      <td>36108</td>\n",
       "      <td>198000.0</td>\n",
       "      <td>10.20</td>\n",
       "      <td>-4.40</td>\n",
       "      <td>Blue</td>\n",
       "      <td>O</td>\n",
       "      <td>3</td>\n",
       "      <td>4.557603</td>\n",
       "    </tr>\n",
       "    <tr>\n",
       "      <th>101</th>\n",
       "      <td>40000</td>\n",
       "      <td>813000.0</td>\n",
       "      <td>14.00</td>\n",
       "      <td>-6.23</td>\n",
       "      <td>Blue</td>\n",
       "      <td>O</td>\n",
       "      <td>4</td>\n",
       "      <td>4.602060</td>\n",
       "    </tr>\n",
       "    <tr>\n",
       "      <th>159</th>\n",
       "      <td>37800</td>\n",
       "      <td>202900.0</td>\n",
       "      <td>6.86</td>\n",
       "      <td>-4.56</td>\n",
       "      <td>Blue</td>\n",
       "      <td>O</td>\n",
       "      <td>3</td>\n",
       "      <td>4.577492</td>\n",
       "    </tr>\n",
       "    <tr>\n",
       "      <th>231</th>\n",
       "      <td>38234</td>\n",
       "      <td>272830.0</td>\n",
       "      <td>1356.00</td>\n",
       "      <td>-9.29</td>\n",
       "      <td>Blue</td>\n",
       "      <td>O</td>\n",
       "      <td>5</td>\n",
       "      <td>4.582450</td>\n",
       "    </tr>\n",
       "    <tr>\n",
       "      <th>235</th>\n",
       "      <td>38940</td>\n",
       "      <td>374830.0</td>\n",
       "      <td>1356.00</td>\n",
       "      <td>-9.93</td>\n",
       "      <td>Blue</td>\n",
       "      <td>O</td>\n",
       "      <td>5</td>\n",
       "      <td>4.590396</td>\n",
       "    </tr>\n",
       "    <tr>\n",
       "      <th>239</th>\n",
       "      <td>37882</td>\n",
       "      <td>294903.0</td>\n",
       "      <td>1783.00</td>\n",
       "      <td>-7.80</td>\n",
       "      <td>Blue</td>\n",
       "      <td>O</td>\n",
       "      <td>5</td>\n",
       "      <td>4.578433</td>\n",
       "    </tr>\n",
       "  </tbody>\n",
       "</table>\n",
       "</div>"
      ],
      "text/plain": [
       "     Temperature         L        R   A_M Color Spectral_Class  Type  \\\n",
       "30         39000  204000.0    10.60 -4.70  Blue              O     3   \n",
       "99         36108  198000.0    10.20 -4.40  Blue              O     3   \n",
       "101        40000  813000.0    14.00 -6.23  Blue              O     4   \n",
       "159        37800  202900.0     6.86 -4.56  Blue              O     3   \n",
       "231        38234  272830.0  1356.00 -9.29  Blue              O     5   \n",
       "235        38940  374830.0  1356.00 -9.93  Blue              O     5   \n",
       "239        37882  294903.0  1783.00 -7.80  Blue              O     5   \n",
       "\n",
       "     Log_Temperature  \n",
       "30          4.591065  \n",
       "99          4.557603  \n",
       "101         4.602060  \n",
       "159         4.577492  \n",
       "231         4.582450  \n",
       "235         4.590396  \n",
       "239         4.578433  "
      ]
     },
     "execution_count": 95,
     "metadata": {},
     "output_type": "execute_result"
    }
   ],
   "source": [
    "df[df['Temperature'] > 35000].head(10)"
   ]
  },
  {
   "cell_type": "code",
   "execution_count": 97,
   "id": "b6a0b903-8021-4a85-bdfe-6ffdb419c31a",
   "metadata": {},
   "outputs": [],
   "source": [
    "def kelvin_to_celsius(k):\n",
    "    return k - 273.15\n",
    "\n",
    "df['Temperature_C'] = df['Temperature'].apply(kelvin_to_celsius)"
   ]
  },
  {
   "cell_type": "code",
   "execution_count": 260,
   "id": "f362813f-258f-41b9-9070-97a9e6a20b26",
   "metadata": {},
   "outputs": [
    {
     "data": {
      "image/png": "[encoded data removed]",
      "text/plain": [
       "<Figure size 800x600 with 2 Axes>"
      ]
     },
     "metadata": {},
     "output_type": "display_data"
    }
   ],
   "source": [
    "import matplotlib.pyplot as plt\n",
    "import seaborn as sns\n",
    "import plotly.express as px\n",
    "import pandas as pd\n",
    "import numpy as np\n",
    "\n",
    "sns.set(style=\"whitegrid\")\n",
    "# Корреляционная тепловая карта\n",
    "plt.figure(figsize=(8, 6))\n",
    "corr = df[['Temperature', 'L', 'R', 'A_M']].corr()\n",
    "sns.heatmap(corr, annot=True, cmap='coolwarm', vmin=-1, vmax=1, center=0)\n",
    "plt.title('Корреляционная тепловая карта числовых признаков')\n",
    "plt.tight_layout()\n",
    "plt.show()"
   ]
  },
  {
   "cell_type": "code",
   "execution_count": 103,
   "id": "d74e4bbc-de02-48ed-a98d-5ae1614c3990",
   "metadata": {},
   "outputs": [
    {
     "data": {
      "text/html": [
       "<div>\n",
       "<style scoped>\n",
       "    .dataframe tbody tr th:only-of-type {\n",
       "        vertical-align: middle;\n",
       "    }\n",
       "\n",
       "    .dataframe tbody tr th {\n",
       "        vertical-align: top;\n",
       "    }\n",
       "\n",
       "    .dataframe thead th {\n",
       "        text-align: right;\n",
       "    }\n",
       "</style>\n",
       "<table border=\"1\" class=\"dataframe\">\n",
       "  <thead>\n",
       "    <tr style=\"text-align: right;\">\n",
       "      <th></th>\n",
       "      <th>Temperature</th>\n",
       "      <th>L</th>\n",
       "      <th>R</th>\n",
       "      <th>A_M</th>\n",
       "      <th>Color</th>\n",
       "      <th>Spectral_Class</th>\n",
       "      <th>Type</th>\n",
       "      <th>Log_Temperature</th>\n",
       "      <th>Temperature_C</th>\n",
       "    </tr>\n",
       "  </thead>\n",
       "  <tbody>\n",
       "    <tr>\n",
       "      <th>101</th>\n",
       "      <td>40000</td>\n",
       "      <td>813000.0</td>\n",
       "      <td>14.0</td>\n",
       "      <td>-6.23</td>\n",
       "      <td>Blue</td>\n",
       "      <td>O</td>\n",
       "      <td>4</td>\n",
       "      <td>4.602060</td>\n",
       "      <td>39726.85</td>\n",
       "    </tr>\n",
       "    <tr>\n",
       "      <th>30</th>\n",
       "      <td>39000</td>\n",
       "      <td>204000.0</td>\n",
       "      <td>10.6</td>\n",
       "      <td>-4.70</td>\n",
       "      <td>Blue</td>\n",
       "      <td>O</td>\n",
       "      <td>3</td>\n",
       "      <td>4.591065</td>\n",
       "      <td>38726.85</td>\n",
       "    </tr>\n",
       "    <tr>\n",
       "      <th>235</th>\n",
       "      <td>38940</td>\n",
       "      <td>374830.0</td>\n",
       "      <td>1356.0</td>\n",
       "      <td>-9.93</td>\n",
       "      <td>Blue</td>\n",
       "      <td>O</td>\n",
       "      <td>5</td>\n",
       "      <td>4.590396</td>\n",
       "      <td>38666.85</td>\n",
       "    </tr>\n",
       "    <tr>\n",
       "      <th>231</th>\n",
       "      <td>38234</td>\n",
       "      <td>272830.0</td>\n",
       "      <td>1356.0</td>\n",
       "      <td>-9.29</td>\n",
       "      <td>Blue</td>\n",
       "      <td>O</td>\n",
       "      <td>5</td>\n",
       "      <td>4.582450</td>\n",
       "      <td>37960.85</td>\n",
       "    </tr>\n",
       "    <tr>\n",
       "      <th>239</th>\n",
       "      <td>37882</td>\n",
       "      <td>294903.0</td>\n",
       "      <td>1783.0</td>\n",
       "      <td>-7.80</td>\n",
       "      <td>Blue</td>\n",
       "      <td>O</td>\n",
       "      <td>5</td>\n",
       "      <td>4.578433</td>\n",
       "      <td>37608.85</td>\n",
       "    </tr>\n",
       "  </tbody>\n",
       "</table>\n",
       "</div>"
      ],
      "text/plain": [
       "     Temperature         L       R   A_M Color Spectral_Class  Type  \\\n",
       "101        40000  813000.0    14.0 -6.23  Blue              O     4   \n",
       "30         39000  204000.0    10.6 -4.70  Blue              O     3   \n",
       "235        38940  374830.0  1356.0 -9.93  Blue              O     5   \n",
       "231        38234  272830.0  1356.0 -9.29  Blue              O     5   \n",
       "239        37882  294903.0  1783.0 -7.80  Blue              O     5   \n",
       "\n",
       "     Log_Temperature  Temperature_C  \n",
       "101         4.602060       39726.85  \n",
       "30          4.591065       38726.85  \n",
       "235         4.590396       38666.85  \n",
       "231         4.582450       37960.85  \n",
       "239         4.578433       37608.85  "
      ]
     },
     "execution_count": 103,
     "metadata": {},
     "output_type": "execute_result"
    }
   ],
   "source": [
    "df.sort_values(by='Temperature_C', ascending=False).head()"
   ]
  },
  {
   "cell_type": "code",
   "execution_count": 278,
   "id": "e05dd01e-086a-4acc-841a-8743310bb159",
   "metadata": {},
   "outputs": [
    {
     "data": {
      "image/png": "[encoded data removed]",
      "text/plain": [
       "<Figure size 1200x700 with 1 Axes>"
      ]
     },
     "metadata": {},
     "output_type": "display_data"
    }
   ],
   "source": [
    "# Гистограмма распределения классов Type\n",
    "\n",
    "import matplotlib.pyplot as plt\n",
    "import seaborn as sns\n",
    "import pandas as pd\n",
    "\n",
    "# Копия df\n",
    "df_viz = df.copy()\n",
    "# Type_Encoded в Type\n",
    "df_viz['Type'] = le_type.inverse_transform(df['Type_Encoded'])\n",
    "\n",
    "# Размер и фон\n",
    "plt.figure(figsize=(12, 7), facecolor='white')\n",
    "\n",
    "ax = sns.countplot(\n",
    "    data=df_viz,  \n",
    "    x='Type',  \n",
    "    order=df_viz['Type'].value_counts().index,  # Сортировка по убыванию\n",
    "    palette='rocket', \n",
    "    edgecolor='black',  \n",
    "    linewidth=1.2,  \n",
    "    alpha=0.9  \n",
    ")\n",
    "\n",
    "# аннотации\n",
    "total = len(df_viz)  \n",
    "for p in ax.patches:  \n",
    "    height = p.get_height()  # Высота столбца\n",
    "    percentage = (height / total) * 100  # Процент\n",
    "    ax.annotate(\n",
    "        f'{int(height)}\\n({percentage:.1f}%)',  # Текст\n",
    "        (p.get_x() + p.get_width() / 2., height),  # Центр столбца\n",
    "        ha='center',  # Горизонтальное выравнивание по центру\n",
    "        va='bottom',  # Вертикальное выравнивание над столбцом\n",
    "        fontsize=12, \n",
    "        fontweight='bold',  \n",
    "        color='black', \n",
    "        xytext=(0, 5),  # Смещение текста вверх на 5 пунктов\n",
    "        textcoords='offset points'  # Координаты относительно точки\n",
    "    )\n",
    "\n",
    "# График\n",
    "plt.title('Распределение классов в Type', fontsize=16, pad=20, fontweight='bold') \n",
    "plt.xlabel('Тип звезды', fontsize=14, labelpad=10)  # Ось Х\n",
    "plt.ylabel('Количество объектов', fontsize=14, labelpad=10)  # Ось У\n",
    "plt.xticks(rotation=45, ha='right', fontsize=12)  # Поворот меток на 45 градусов\n",
    "plt.yticks(fontsize=12)  \n",
    "ax.set_facecolor('#f5f5f5')  # Светло-серый фон\n",
    "ax.grid(True, axis='y', linestyle='--', alpha=0.7)  # Горизонтальная сетка\n",
    "ax.spines['top'].set_visible(False) \n",
    "ax.spines['right'].set_visible(False) \n",
    "ax.spines['left'].set_color('gray') \n",
    "ax.spines['bottom'].set_color('gray')\n",
    "\n",
    "plt.tight_layout()  \n",
    "plt.show()  "
   ]
  },
  {
   "cell_type": "code",
   "execution_count": 105,
   "id": "d316d711-de08-4e79-a601-e3fd9e6129e2",
   "metadata": {},
   "outputs": [
    {
     "data": {
      "image/png": "[encoded data removed]",
      "text/plain": [
       "<Figure size 640x480 with 1 Axes>"
      ]
     },
     "metadata": {},
     "output_type": "display_data"
    }
   ],
   "source": [
    "# Гистограмма распределения температуры\n",
    "plt.hist(df['Temperature'], bins=30, color='skyblue')\n",
    "plt.title('Распределение температуры')\n",
    "plt.xlabel('Температура')\n",
    "plt.ylabel('Частота')\n",
    "plt.grid(True)\n",
    "plt.show()"
   ]
  },
  {
   "cell_type": "code",
   "execution_count": 268,
   "id": "4c35e6ad-f9b7-4a00-93bf-c5c0061536d7",
   "metadata": {},
   "outputs": [
    {
     "data": {
      "application/vnd.plotly.v1+json": {
       "config": {
        "plotlyServerURL": "https://plot.ly"
       },
       "data": [
        {
         "customdata": [
          [
           "0",
           1.170234800484746,
           -0.6492494853612552
          ],
          [
           "0",
           1.3705572394951924,
           -0.650505626752943
          ],
          [
           "0",
           1.1750043823659468,
           -0.649109914095512
          ],
          [
           "0",
           1.5002898666638624,
           -0.650481562741608
          ],
          [
           "0",
           1.2064836227818743,
           -0.6503131146622629
          ],
          [
           "0",
           1.2293776158116396,
           -0.6499040264695676
          ],
          [
           "0",
           1.2465481105839635,
           -0.6506500108209531
          ],
          [
           "0",
           1.2513176924651646,
           -0.6503131146622629
          ],
          [
           "0",
           1.117769399791534,
           -0.6498318344355626
          ],
          [
           "1",
           0.606470222126775,
           -0.640687510128256
          ],
          [
           "1",
           0.7114010235131996,
           -0.6439096812460148
          ],
          [
           "1",
           0.8468571489393111,
           -0.6482436096874513
          ],
          [
           "1",
           0.5864379782257305,
           -0.643502999454453
          ],
          [
           "1",
           0.7106378904122073,
           -0.6495911943222124
          ],
          [
           "1",
           0.833502319671948,
           -0.6471847931887107
          ],
          [
           "1",
           0.9975759363852659,
           -0.649109914095512
          ],
          [
           "1",
           0.6169633022654177,
           -0.6416500705816567
          ],
          [
           "1",
           0.8773824729789981,
           -0.6482267648795169
          ],
          [
           "1",
           0.653212124562546,
           -0.6445136879305238
          ],
          [
           "2",
           0.5959771419881328,
           -0.6527580182139006
          ],
          [
           "2",
           0.9241243754147688,
           -0.6526632060092407
          ],
          [
           "2",
           0.9441566193158135,
           -0.6526954517844296
          ],
          [
           "2",
           0.9699123614742995,
           -0.6527195157957646
          ],
          [
           "2",
           0.7209401872756018,
           -0.6526232597504246
          ],
          [
           "2",
           0.7533733440677692,
           -0.6527233660375782
          ],
          [
           "2",
           0.9412948701870929,
           -0.6527267349991651
          ],
          [
           "2",
           0.9670506123455789,
           -0.6526521365640265
          ],
          [
           "2",
           0.7877143336124173,
           -0.6526954517844296
          ],
          [
           "2",
           0.9298478736722102,
           -0.6526473237617595
          ],
          [
           "3",
           -0.8616070809069254,
           -0.39788163575793273
          ],
          [
           "3",
           -0.8139112620949143,
           -0.5013568844985066
          ],
          [
           "3",
           -0.6011879101933448,
           -0.4796992742969911
          ],
          [
           "3",
           -0.3980037220541778,
           -0.5834151631509151
          ],
          [
           "3",
           0.06846138592729038,
           -0.6313025457075994
          ],
          [
           "3",
           -0.1824186210238878,
           -0.6096449355060839
          ],
          [
           "3",
           -0.18337253740012802,
           -0.6260084632138955
          ],
          [
           "3",
           -0.1337688858356365,
           -0.629377424800798
          ],
          [
           "3",
           0.012180319729117334,
           -0.6263453593725857
          ],
          [
           "3",
           0.06655355317480997,
           -0.6291367846874478
          ],
          [
           "4",
           -1.0743304328084948,
           -0.19574394054378855
          ],
          [
           "4",
           -1.0046945373429585,
           -0.09948789520371987
          ],
          [
           "4",
           -0.9875240425706344,
           1.464672841572396
          ],
          [
           "4",
           -1.101994007719461,
           -0.24387196321382287
          ],
          [
           "4",
           -0.985616209818154,
           -0.051359872533685534
          ],
          [
           "4",
           -1.0428511923925674,
           0.044896172806383146
          ],
          [
           "4",
           -1.0600216871648915,
           0.42992035416665786
          ],
          [
           "4",
           -0.9131185652238973,
           1.4887368529074132
          ],
          [
           "4",
           -1.0562060216599305,
           1.3684167962323275
          ],
          [
           "4",
           -0.9951553735805563,
           -0.02729586119866836
          ],
          [
           "5",
           -1.3099477777398294,
           1.9151721897738356
          ],
          [
           "5",
           -1.14110457914531,
           1.9151721897738356
          ],
          [
           "5",
           -1.2908694502150249,
           1.9151721897738356
          ],
          [
           "5",
           -1.1811690669473995,
           1.9151721897738356
          ],
          [
           "5",
           -1.1563672411651538,
           1.9151721897738356
          ],
          [
           "5",
           -1.5341181261562815,
           1.9151721897738356
          ],
          [
           "5",
           -1.5503347045523654,
           1.9151721897738356
          ],
          [
           "5",
           -1.489284056472991,
           1.9151721897738356
          ],
          [
           "5",
           -1.4854683909680302,
           1.9151721897738356
          ],
          [
           "5",
           -1.4969153874829126,
           1.9151721897738356
          ],
          [
           "0",
           1.1349398945638578,
           -0.6515885072630189
          ],
          [
           "0",
           1.2026679572769137,
           -0.6483879937554614
          ],
          [
           "0",
           1.1215850652964947,
           -0.6506981388436232
          ],
          [
           "0",
           1.2045757900293939,
           -0.6507510796685602
          ],
          [
           "0",
           1.3886816506437567,
           -0.6501687305942527
          ],
          [
           "0",
           1.2207923684254776,
           -0.6497837064128924
          ],
          [
           "0",
           1.3362162499505443,
           -0.6507222028549582
          ],
          [
           "0",
           1.1559260548411425,
           -0.6507679244764947
          ],
          [
           "0",
           1.2455941942077235,
           -0.6501206025715828
          ],
          [
           "0",
           1.4401931349607284,
           -0.6500724745489127
          ],
          [
           "1",
           0.7600507587014509,
           -0.6463906808146551
          ],
          [
           "1",
           0.5520969886810825,
           -0.6438158316018082
          ],
          [
           "1",
           0.8459032325630707,
           -0.6486286338688116
          ],
          [
           "1",
           0.7257097691568029,
           -0.6445377519418587
          ],
          [
           "1",
           0.6255485496515796,
           -0.6459575286106247
          ],
          [
           "1",
           0.708539274384479,
           -0.6445377519418587
          ],
          [
           "1",
           0.8707050583453166,
           -0.6471847931887107
          ],
          [
           "1",
           0.7190323545231212,
           -0.6455725044292645
          ],
          [
           "1",
           0.8087004938897022,
           -0.6506018827982831
          ],
          [
           "1",
           0.920308709909808,
           -0.649085850084177
          ],
          [
           "2",
           0.9308017900484504,
           -0.6526713877730945
          ],
          [
           "2",
           0.7333411001667245,
           -0.6527387670048326
          ],
          [
           "2",
           0.9012303823850034,
           -0.6527315478014322
          ],
          [
           "2",
           0.774359504345054,
           -0.6525991957390895
          ],
          [
           "2",
           0.747649845810328,
           -0.6527459862082331
          ],
          [
           "2",
           0.920308709909808,
           -0.6526978581855631
          ],
          [
           "2",
           0.7438341803053672,
           -0.6527387670048326
          ],
          [
           "2",
           0.6541660409387862,
           -0.6527507990105
          ],
          [
           "2",
           0.8239631559095457,
           -0.6527455049280064
          ],
          [
           "2",
           0.6684747865823895,
           -0.652644917360626
          ],
          [
           "3",
           0.11043370648186016,
           -0.6310619055942491
          ],
          [
           "3",
           0.20735161030786664,
           -0.6321447861043249
          ],
          [
           "3",
           0.18083273504838843,
           -0.6338292668977761
          ],
          [
           "3",
           0.042705643768804445,
           -0.6257678231005454
          ],
          [
           "3",
           -0.27494850951918925,
           -0.5896718060980196
          ],
          [
           "3",
           -0.6326671506092723,
           -0.4849933567906949
          ],
          [
           "3",
           0.033166480006402176,
           -0.6318800819796397
          ],
          [
           "3",
           -0.18051078827140737,
           -0.6207143807201918
          ],
          [
           "3",
           -0.411358551321541,
           -0.4842714364506444
          ],
          [
           "3",
           -0.8329895896197188,
           -0.40750724029193963
          ],
          [
           "4",
           -1.0333120286301651,
           -0.3641920198889087
          ],
          [
           "4",
           -1.0075562864716794,
           -0.3160639972188744
          ],
          [
           "4",
           -0.9627222167883889,
           0.21334425215150332
          ],
          [
           "4",
           -1.070514767303534,
           1.3443527848973102
          ],
          [
           "4",
           -0.9770309624319922,
           -0.3641920198889087
          ],
          [
           "4",
           -0.9970632063330369,
           0.3577283201616064
          ],
          [
           "4",
           -0.9693996314220703,
           0.8630725581969669
          ],
          [
           "4",
           -1.0180493666103216,
           0.21334425215150332
          ],
          [
           "4",
           -1.0085102028479196,
           0.7186884901868639
          ],
          [
           "4",
           -0.9655839659171095,
           0.9593286035370355
          ],
          [
           "5",
           -1.433956906651058,
           1.9151721897738356
          ],
          [
           "5",
           -1.4444499867897007,
           1.9151721897738356
          ],
          [
           "5",
           -1.494053638354192,
           1.9151721897738356
          ],
          [
           "5",
           -1.454943066928343,
           1.9151721897738356
          ],
          [
           "5",
           -1.4492195686709017,
           1.9151721897738356
          ],
          [
           "5",
           -1.4654361470669854,
           1.9151721897738356
          ],
          [
           "5",
           -1.4997771366116335,
           1.9151721897738356
          ],
          [
           "5",
           -1.3910306697202481,
           1.9151721897738356
          ],
          [
           "5",
           -1.3738601749479242,
           1.9151721897738356
          ],
          [
           "5",
           -1.433956906651058,
           1.9151721897738356
          ],
          [
           "0",
           1.2236541175541984,
           -0.6507655180753612
          ],
          [
           "0",
           1.48884287014898,
           -0.6506115084028171
          ],
          [
           "0",
           1.4964742011589016,
           -0.6503131146622629
          ],
          [
           "0",
           1.2007601245244333,
           -0.6507173900526911
          ],
          [
           "0",
           1.2198384520492376,
           -0.6503371786735979
          ],
          [
           "0",
           1.459271462485533,
           -0.6500484105375777
          ],
          [
           "0",
           1.196944459019472,
           -0.6507173900526911
          ],
          [
           "0",
           1.1807278806233885,
           -0.6507968012900968
          ],
          [
           "0",
           1.4525940478518513,
           -0.6510783502227164
          ],
          [
           "0",
           1.3123683405445388,
           -0.6509002765388373
          ],
          [
           "1",
           0.6236407168990992,
           -0.6411206623322863
          ],
          [
           "1",
           0.5730831489583674,
           -0.6438158316018082
          ],
          [
           "1",
           0.6522582081863058,
           -0.6455003123952595
          ],
          [
           "1",
           0.8382719015531488,
           -0.6447783920552089
          ],
          [
           "1",
           0.9441566193158135,
           -0.6380404688814041
          ],
          [
           "1",
           0.993760270880305,
           -0.6353934276345522
          ],
          [
           "1",
           0.6770600339685515,
           -0.6471847931887107
          ],
          [
           "1",
           0.9470183684445341,
           -0.6394843095615051
          ],
          [
           "1",
           0.7533733440677692,
           -0.6447783920552089
          ],
          [
           "1",
           0.9536957830782158,
           -0.6467997690073504
          ],
          [
           "2",
           0.8907373022463612,
           -0.6527240879579183
          ],
          [
           "2",
           0.6856452813547136,
           -0.6526906389821626
          ],
          [
           "2",
           0.8058387447609814,
           -0.6527353980432457
          ],
          [
           "2",
           0.7238019364043224,
           -0.6527262537189383
          ],
          [
           "2",
           0.6722904520873505,
           -0.6527440610873263
          ],
          [
           "2",
           1.0052072673951875,
           -0.65274863324948
          ],
          [
           "2",
           0.8106083266421826,
           -0.6527327510019988
          ],
          [
           "2",
           0.8163318248996239,
           -0.6527455049280064
          ],
          [
           "2",
           0.9994837691377465,
           -0.6527488738895932
          ],
          [
           "2",
           0.6579817064437472,
           -0.652720478356218
          ],
          [
           "3",
           -0.7957868509463502,
           -0.5080948076723114
          ],
          [
           "3",
           -0.4018193875591387,
           -0.593112959718927
          ],
          [
           "3",
           -0.6078653248270265,
           -0.5147124107894411
          ],
          [
           "3",
           -0.7299666209857749,
           -0.5162765715262173
          ],
          [
           "3",
           -0.7929251018176295,
           -0.5105012088058131
          ],
          [
           "3",
           -0.8034181819562718,
           -0.49895048336500486
          ],
          [
           "3",
           -0.7757546070453054,
           -0.5208487336798705
          ],
          [
           "3",
           -0.7375979519956966,
           -0.4898061590576983
          ],
          [
           "3",
           -0.5449068439951719,
           -0.5035226455186581
          ],
          [
           "3",
           -0.8482522516395621,
           -0.48788103815089695
          ],
          [
           "4",
           -0.9779848788082324,
           0.7186884901868639
          ],
          [
           "4",
           -1.0089871610360397,
           0.21334425215150332
          ],
          [
           "4",
           -0.9493673875210258,
           1.3443527848973102
          ],
          [
           "4",
           -1.045712941521288,
           1.6812489435875506
          ],
          [
           "4",
           -1.113441004234344,
           0.18928024081648614
          ],
          [
           "4",
           -1.101994007719461,
           -0.0754238838687027
          ],
          [
           "4",
           -0.9560448021547074,
           1.1037126715471386
          ],
          [
           "4",
           -0.9693996314220703,
           0.28553628615655485
          ],
          [
           "4",
           -0.9942014572043161,
           0.06896018414140033
          ],
          [
           "4",
           -0.984662293441914,
           -0.0754238838687027
          ],
          [
           "5",
           -1.1363349972641092,
           1.9151721897738356
          ],
          [
           "5",
           -1.1935699798385224,
           1.9151721897738356
          ],
          [
           "5",
           -1.2908694502150249,
           1.9151721897738356
          ],
          [
           "5",
           -1.2813302864526228,
           1.9151721897738356
          ],
          [
           "5",
           -1.165906404927556,
           1.9151721897738356
          ],
          [
           "5",
           -1.1487359101552321,
           1.9151721897738356
          ],
          [
           "5",
           -1.205016976353405,
           1.9151721897738356
          ],
          [
           "5",
           -1.3576435965518405,
           1.9151721897738356
          ],
          [
           "5",
           -1.1611368230463548,
           1.9151721897738356
          ],
          [
           "5",
           -1.1992934780959639,
           1.9151721897738356
          ],
          [
           "0",
           1.1330320618113774,
           -0.6507582988719607
          ],
          [
           "0",
           1.3409858318317456,
           -0.6501687305942527
          ],
          [
           "0",
           1.261810772603807,
           -0.6499280904809026
          ],
          [
           "0",
           1.2408246123265223,
           -0.6505850379903485
          ],
          [
           "0",
           1.2160227865442763,
           -0.6511000078329179
          ],
          [
           "0",
           1.2017140409006732,
           -0.6506187276062175
          ],
          [
           "0",
           1.2513176924651646,
           -0.6500965385602477
          ],
          [
           "0",
           1.1769122151184277,
           -0.6505585675778801
          ],
          [
           "0",
           1.4421009677132088,
           -0.6502649866395929
          ],
          [
           "0",
           1.1463868910787405,
           -0.6498558984468975
          ],
          [
           "1",
           0.6808756994735126,
           -0.6493986822315322
          ],
          [
           "1",
           0.6102858876317361,
           -0.6418907106950068
          ],
          [
           "1",
           0.8697511419690762,
           -0.6462222327353099
          ],
          [
           "1",
           0.8128977259451591,
           -0.6438639596244783
          ],
          [
           "1",
           0.7724516715925738,
           -0.6452837362932443
          ],
          [
           "1",
           0.890451127333489,
           -0.6368372683146533
          ],
          [
           "1",
           0.933663539177171,
           -0.6467516409846803
          ],
          [
           "1",
           1.0118846820288692,
           -0.6448746481005491
          ],
          [
           "1",
           0.8058387447609814,
           -0.6416260065703216
          ],
          [
           "1",
           0.9962404534585296,
           -0.6367169482579782
          ],
          [
           "2",
           0.8144239921471434,
           -0.652668981371961
          ],
          [
           "2",
           0.7238019364043224,
           -0.6526858261798956
          ],
          [
           "2",
           0.7533733440677692,
           -0.6526882325810291
          ],
          [
           "2",
           0.8172857412758641,
           -0.6526810133776285
          ],
          [
           "2",
           0.657027790067507,
           -0.6526617621685605
          ],
          [
           "2",
           0.6684747865823895,
           -0.6526184469481575
          ],
          [
           "2",
           0.5931153928594122,
           -0.6526545429651601
          ],
          [
           "2",
           0.5578204869385239,
           -0.6527098901912306
          ],
          [
           "2",
           0.6990001106220767,
           -0.6527050773889636
          ],
          [
           "2",
           0.6951844451171156,
           -0.6527199970759913
          ],
          [
           "3",
           -0.7633536941541825,
           -0.49991304381840557
          ],
          [
           "3",
           -0.4120262927849091,
           -0.5120413055312542
          ],
          [
           "3",
           -0.424713380588904,
           -0.5087685999896919
          ],
          [
           "3",
           -0.6565150600152778,
           -0.49317512064460073
          ],
          [
           "3",
           -0.8492061680158025,
           -0.499191123478355
          ],
          [
           "3",
           -0.8291739241147578,
           -0.5028729172126126
          ],
          [
           "3",
           -0.29536231997073004,
           -0.606997894259232
          ],
          [
           "3",
           -0.7070726279560096,
           -0.5078541675589612
          ],
          [
           "3",
           -0.6651003074014399,
           -0.5169262998322628
          ],
          [
           "3",
           -0.506750188945563,
           -0.6065166140325317
          ],
          [
           "4",
           -1.0113719519766402,
           0.18928024081648614
          ],
          [
           "4",
           -1.0829156801946567,
           1.17590470555219
          ],
          [
           "4",
           -1.0791000146896959,
           1.7053129549225676
          ],
          [
           "4",
           -0.9832314188775535,
           1.2962247622272758
          ],
          [
           "4",
           -1.0190032829865618,
           0.8390085468619497
          ],
          [
           "4",
           -1.1239340843729861,
           0.45398436550167504
          ],
          [
           "4",
           -1.1060004564996702,
           1.2721607508922588
          ],
          [
           "4",
           -1.0069839366459352,
           -0.051359872533685534
          ],
          [
           "4",
           -0.9765540042438721,
           1.4165448189023617
          ],
          [
           "4",
           -1.114013354060088,
           1.5609288869124647
          ],
          [
           "5",
           -1.256528460670377,
           1.9151721897738356
          ],
          [
           "5",
           -1.299454697601187,
           1.9151721897738356
          ],
          [
           "5",
           -1.4473117359184213,
           1.9151721897738356
          ],
          [
           "5",
           -1.1372889136403495,
           1.9151721897738356
          ],
          [
           "5",
           -1.144920244650271,
           1.9151721897738356
          ],
          [
           "5",
           -1.3605053456805611,
           1.9151721897738356
          ],
          [
           "5",
           -1.4272794920173768,
           1.9151721897738356
          ],
          [
           "5",
           -1.4368186557797789,
           1.9151721897738356
          ],
          [
           "5",
           -1.48451447459179,
           1.9151721897738356
          ],
          [
           "5",
           -1.157321157541394,
           1.9151721897738356
          ],
          [
           "Main Sequence",
           -0.02216066981553066,
           -0.6144577377730872
          ]
         ],
         "hovertemplate": "Температура (K)=%{x}<br>Светимость (L☉)=%{y}<br>Type=%{customdata[0]}<br>A_M=%{customdata[1]}<br>R=%{customdata[2]}<br>Тип звезды (код)=%{marker.color}<extra></extra>",
         "legendgroup": "",
         "marker": {
          "color": [
           0,
           0,
           0,
           0,
           0,
           0,
           0,
           0,
           0,
           1,
           1,
           1,
           1,
           1,
           1,
           1,
           1,
           1,
           1,
           2,
           2,
           2,
           2,
           2,
           2,
           2,
           2,
           2,
           2,
           3,
           3,
           3,
           3,
           3,
           3,
           3,
           3,
           3,
           3,
           4,
           4,
           4,
           4,
           4,
           4,
           4,
           4,
           4,
           4,
           5,
           5,
           5,
           5,
           5,
           5,
           5,
           5,
           5,
           5,
           0,
           0,
           0,
           0,
           0,
           0,
           0,
           0,
           0,
           0,
           1,
           1,
           1,
           1,
           1,
           1,
           1,
           1,
           1,
           1,
           2,
           2,
           2,
           2,
           2,
           2,
           2,
           2,
           2,
           2,
           3,
           3,
           3,
           3,
           3,
           3,
           3,
           3,
           3,
           3,
           4,
           4,
           4,
           4,
           4,
           4,
           4,
           4,
           4,
           4,
           5,
           5,
           5,
           5,
           5,
           5,
           5,
           5,
           5,
           5,
           0,
           0,
           0,
           0,
           0,
           0,
           0,
           0,
           0,
           0,
           1,
           1,
           1,
           1,
           1,
           1,
           1,
           1,
           1,
           1,
           2,
           2,
           2,
           2,
           2,
           2,
           2,
           2,
           2,
           2,
           3,
           3,
           3,
           3,
           3,
           3,
           3,
           3,
           3,
           3,
           4,
           4,
           4,
           4,
           4,
           4,
           4,
           4,
           4,
           4,
           5,
           5,
           5,
           5,
           5,
           5,
           5,
           5,
           5,
           5,
           0,
           0,
           0,
           0,
           0,
           0,
           0,
           0,
           0,
           0,
           1,
           1,
           1,
           1,
           1,
           1,
           1,
           1,
           1,
           1,
           2,
           2,
           2,
           2,
           2,
           2,
           2,
           2,
           2,
           2,
           3,
           3,
           3,
           3,
           3,
           3,
           3,
           3,
           3,
           3,
           4,
           4,
           4,
           4,
           4,
           4,
           4,
           4,
           4,
           4,
           5,
           5,
           5,
           5,
           5,
           5,
           5,
           5,
           5,
           5,
           6
          ],
          "coloraxis": "coloraxis",
          "symbol": "circle"
         },
         "mode": "markers",
         "name": "",
         "orientation": "v",
         "showlegend": false,
         "type": "scatter",
         "x": [
          -0.8063304398227437,
          -0.8552636921626031,
          -0.8331219490223952,
          -0.9284421532409901,
          -0.8286936003943536,
          -0.8511674696816646,
          -0.8552636921626031,
          -0.8497282563775511,
          -0.8441928205924991,
          -0.7445549764615638,
          -0.7966987815567532,
          -0.7961452379782481,
          -0.7414551324219346,
          -0.8497282563775511,
          -0.773339242543834,
          -0.8332326577380963,
          -0.7343697746170681,
          -0.7897241324675878,
          -0.7621576622580291,
          1.624611539540678,
          -0.2862208934592609,
          -0.3437894256238013,
          -0.202082269526471,
          0.6835874560818437,
          0.29499986397119565,
          -0.19433265942739825,
          -0.2906492420873024,
          0.1621494051299484,
          -0.3426823384667909,
          2.4658593929739503,
          2.1781551180458747,
          0.5480799880637716,
          -0.06923181068522379,
          -0.5009958019192773,
          -0.2516797741605366,
          -0.3950475609933825,
          -0.4367847468126743,
          -0.4859394165839358,
          -0.5245767583635986,
          -0.7195348067131289,
          -0.770571524651308,
          -0.7810888526429067,
          -0.7888384627419794,
          -0.810094536156579,
          -0.7445549764615638,
          -0.7473226943540897,
          -0.7474334030697908,
          -0.7417872585690378,
          2.4658593929739503,
          -0.7567329351886781,
          -0.7279486691064079,
          -0.7186491369875205,
          -0.7280593778221089,
          -0.7390195406765118,
          -0.7611612838167197,
          -0.7379124535195014,
          -0.7611612838167197,
          -0.7277272516750057,
          -0.7517510429821314,
          -0.773228533828133,
          -0.7631540406993383,
          -0.8128622540491051,
          -0.8292471439728588,
          -0.8181762724027549,
          -0.7783211347503808,
          -0.8170691852457445,
          -0.8312399008554775,
          -0.8360003756306222,
          -0.8252616302076214,
          -0.7727856989653288,
          -0.7437800154516565,
          -0.7773247563090714,
          -0.7943738985270314,
          -0.7500904122466158,
          -0.7910526370560003,
          -0.8231581646093017,
          -0.7731178251124319,
          -0.8529388091328812,
          -0.7934882288014231,
          -0.35707447150792604,
          0.02752760683748459,
          -0.15447752177502408,
          0.7610835570725711,
          0.4178865383993493,
          -0.07199952857774977,
          0.18650532258417707,
          0.07247534541210657,
          0.37581722643295434,
          1.055568740837336,
          -0.556350159769797,
          -0.6420387057224013,
          -0.691746919072168,
          -0.5917769487941295,
          -0.14340665020492016,
          0.10236669865138717,
          -0.5771633983215924,
          -0.28843506777328165,
          0.19624768956586852,
          2.4658593929739503,
          2.4658593929739503,
          2.4658593929739503,
          1.4031941081385992,
          0.7522268598164881,
          0.08531755643342712,
          0.433939302176,
          1.5836493147312933,
          0.28426111854819486,
          1.5520973307564971,
          2.4658593929739503,
          -0.7601649053754103,
          -0.7440014328830585,
          -0.7428943457260482,
          -0.7668074283174726,
          -0.7434478893045534,
          -0.7497582860995126,
          -0.6986108594456324,
          -0.7417872585690378,
          -0.3847516504331859,
          -0.7246274076353767,
          -0.7752212907107516,
          -0.7521938778449355,
          -0.7868457058593608,
          -0.7948167333898356,
          -0.7544080521589562,
          -0.7860707448494535,
          -0.8181762724027549,
          -0.8263687173646318,
          -0.826922260943137,
          -0.8407608504057669,
          -0.8004628778905886,
          -0.7437800154516565,
          -0.7999093343120834,
          -0.8121980017548988,
          -0.750976081972224,
          -0.7840779879668348,
          -0.8009057127533927,
          -0.7447763938929658,
          -0.7751105819950506,
          -0.751086790687925,
          0.34260461172264256,
          1.1839908510505415,
          0.881756057186704,
          0.4643841989937858,
          0.17432736385706274,
          -0.15514177406923033,
          0.2863645841465146,
          0.48785444672240613,
          -0.28810294162617855,
          0.2943356116769894,
          2.1294432831374173,
          -0.1528168910395085,
          0.4134581897713077,
          0.6714094973547293,
          1.6323611496397508,
          2.0342337876345233,
          1.7508194754398627,
          1.0843530069196061,
          0.29865325158933,
          2.4658593929739503,
          1.6677879386640833,
          0.13746136152861665,
          0.2601266185253683,
          -0.5063098202729271,
          -0.1548096479221272,
          -0.3369254852503369,
          1.0625433899265013,
          1.7766146061982049,
          0.7813432520458614,
          -0.10543356071946365,
          -0.747876237932595,
          -0.7556258480316677,
          -0.6684980887749498,
          1.7353202552417173,
          -0.7445549764615638,
          -0.7430050544417492,
          0.8496505296334026,
          0.07468951972612735,
          0.1964691069972706,
          1.568150094533148,
          -0.829689978835663,
          -0.8205011554324767,
          -0.7645932540034519,
          -0.7868457058593608,
          -0.7608291576696166,
          -0.8232688733250028,
          -0.8145228847846206,
          -0.7573971874828843,
          -0.8355575407678181,
          -0.7530795475705437,
          -0.7598327792283072,
          -0.7825280659470203,
          -0.8116444581763936,
          -0.7875099581535671,
          -0.7530795475705437,
          -0.7447763938929658,
          -0.7952595682526398,
          -0.7560686828944718,
          -0.7751105819950506,
          -0.7597220705126061,
          0.7156929836351451,
          0.5928063092069914,
          0.515531625647666,
          0.33374791446655944,
          0.887291492971756,
          1.0622112637793983,
          1.5161169981536595,
          1.413379309983095,
          0.8407938323773195,
          1.0002143829868162,
          1.3312334429329238,
          -0.034690691386499516,
          0.30596002682559853,
          1.2938138970259725,
          2.4658593929739503,
          2.4504985586704313,
          -0.11130112265161873,
          1.0046427316148578,
          0.7544410341305088,
          -0.22975944845173082,
          1.478254617383904,
          0.26831906348724516,
          -0.10432647356245325,
          1.4519059430470567,
          0.7153608574880419,
          0.9309107269579655,
          -0.047975737270624236,
          0.0669399096270546,
          1.4137114361301981,
          1.2634797089238876,
          1.5299555876162894,
          2.4658593929739503,
          2.4537091114257614,
          1.9278427118458246,
          1.2818573557302602,
          2.4658593929739503,
          2.2710397305190466,
          -0.16565910206082904,
          -0.12071136348620708,
          2.4658593929739503,
          -0.5009958019192773
         ],
         "xaxis": "x",
         "y": [
          -0.6589772544152414,
          -0.6589772557674701,
          -0.6589772564435846,
          -0.6589772568627755,
          -0.6589772534010696,
          -0.658977252860178,
          -0.6589772550913556,
          -0.6589772531306238,
          -0.6589772565788075,
          -0.658977238188495,
          -0.658977175309853,
          -0.6589772550913556,
          -0.6589772206095198,
          -0.6589772537391269,
          -0.658977232103465,
          -0.6589772456257537,
          -0.6589772329824138,
          -0.6589772333204711,
          -0.6589769941111858,
          -0.6589768791717329,
          -0.6589772544828527,
          -0.6589772566464189,
          -0.6589772544152414,
          -0.6589771699009376,
          -0.6589772572211161,
          -0.6589772523192865,
          -0.6589772570520875,
          -0.6589772567816418,
          -0.6589772572549218,
          0.7202961784446025,
          -0.4639858563194722,
          -0.651296597876357,
          -0.6584769331179615,
          -0.6589717812689342,
          -0.6589184358404444,
          -0.6589675893594712,
          -0.6589681302510147,
          -0.6589680829230047,
          -0.6589717204186355,
          0.6932516012634178,
          1.6398118026048798,
          0.35519438649861007,
          0.659445879786937,
          1.2341431448871105,
          1.5045889166989566,
          0.17264349052561384,
          0.6932516012634178,
          0.5850732925386793,
          0.8284744871693409,
          1.1665317019341488,
          1.2544265777729988,
          1.1800539905247411,
          2.6886343026426465,
          1.436977473745995,
          1.1192036918670758,
          1.7953181213966913,
          0.5174618495857177,
          0.7541018999210832,
          0.659445879786937,
          -0.6589772199334053,
          -0.6589772532658468,
          -0.6589772561731388,
          -0.6589772554970244,
          -0.6589772568492532,
          -0.658977251169892,
          -0.6589772556322472,
          -0.658977251169892,
          -0.6589772553618014,
          -0.6589772529277895,
          -0.6589771158117832,
          -0.6589771090506389,
          -0.658977200326087,
          -0.6589771982977436,
          -0.6589772307512363,
          -0.6589772510346691,
          -0.6589772348079228,
          -0.6589772476540969,
          -0.6589772537391269,
          -0.6589772486682686,
          -0.6589772558350816,
          -0.6589772568492532,
          -0.6589772540095726,
          -0.658977251169892,
          -0.6589772532658468,
          -0.6589772547532984,
          -0.6589772525221208,
          -0.6589772527925666,
          -0.6589772565788075,
          -0.6589772503585547,
          -0.6589732687206792,
          -0.6589762233407362,
          -0.6589766830985483,
          -0.6589748440673,
          -0.6586730063025251,
          -0.6544337688293744,
          -0.6589729982749073,
          -0.6589237095329947,
          -0.6543188293763543,
          0.6797293126728255,
          0.9636973730752642,
          2.6886343026426465,
          0.19968806770679848,
          0.9298916515987833,
          0.09827090327735612,
          0.9028470744175987,
          1.7953181213966913,
          0.5850732925386793,
          0.3011052321362408,
          1.7209455341484337,
          0.017137171733802244,
          0.1929269234115023,
          0.6932516012634178,
          0.1320766247538369,
          0.23349378918327923,
          0.32138866502212926,
          1.2476654334777026,
          -0.1586525799438978,
          0.8893247858270064,
          0.6932516012634178,
          -0.6589772548885213,
          -0.6589772515079493,
          -0.6589772541447956,
          -0.6589772567816418,
          -0.6589772534686811,
          -0.6589772526573437,
          -0.6589772519136179,
          -0.658977256511196,
          -0.6589772517378282,
          -0.6589772548411934,
          -0.658977256511196,
          -0.6589772562407502,
          -0.658977203706659,
          -0.658977198973858,
          -0.6589772517107836,
          -0.6589772422451816,
          -0.6589772030305445,
          -0.6589772503585547,
          -0.6589772348079228,
          -0.6589772490063258,
          -0.6589772538067383,
          -0.6589772476540969,
          -0.6589772490063258,
          -0.658977252251675,
          -0.6589772532658468,
          -0.6589772559026931,
          -0.658977252995401,
          -0.6589772570520875,
          -0.6589772568492532,
          -0.6589772518460064,
          0.6121178697198639,
          -0.6587203343125921,
          -0.65159408822535,
          -0.6503365153864249,
          -0.5609406655140191,
          -0.5454576450777909,
          -0.5608054426281133,
          -0.6270646567220156,
          -0.6522296357891079,
          0.7128589197197767,
          0.8487579200552293,
          1.038069960323522,
          2.3970599636780494,
          0.9975030945517449,
          0.956936228779968,
          0.2267326448879831,
          0.36871667508920236,
          0.6797293126728255,
          1.6594191210612386,
          2.211263718443311,
          1.5045889166989566,
          0.2740606549550562,
          2.6886343026426465,
          1.477544339517772,
          0.9636973730752642,
          0.32138866502212926,
          0.6932516012634178,
          0.49041727240453314,
          0.15236005763972538,
          1.0210994881423285,
          -0.6589772562339891,
          -0.6589772535295313,
          -0.658977256139333,
          -0.6589772547397762,
          -0.6589772535971428,
          -0.6589772554158906,
          -0.6589772546789259,
          -0.6589772540704228,
          -0.6589772520556019,
          -0.6589772513253983,
          -0.6589772219617486,
          -0.6589772415690671,
          -0.6589772091155746,
          -0.6589772469779825,
          -0.6589772212856343,
          -0.6589772395407238,
          -0.658977248871103,
          -0.6589772493443831,
          -0.6589772138483755,
          -0.6589772395407238,
          -0.6589772483302114,
          -0.6589772495472174,
          -0.6589772498176631,
          -0.6589772504261661,
          -0.65897724873588,
          -0.6589772472484283,
          -0.658977247045594,
          -0.658977248871103,
          -0.6589772502909432,
          -0.6589772493443831,
          -0.5748010113193763,
          -0.6552451061448099,
          -0.65364947609112,
          -0.613353056091155,
          0.6810815415318847,
          0.5161096207266586,
          -0.6587811846112498,
          -0.5851455620911794,
          -0.6530071673830669,
          -0.658914717211082,
          0.9927026821020846,
          1.5892384432760644,
          1.6596895668330505,
          2.6886343026426465,
          1.0091998741826074,
          0.8607927569008565,
          2.6886343026426465,
          2.6886343026426465,
          1.6926839509940956,
          2.6886343026426465,
          1.9304936792925473,
          1.185665740289837,
          2.6886343026426465,
          2.6886343026426465,
          2.6886343026426465,
          1.8753024584100448,
          2.6886343026426465,
          2.6886343026426465,
          2.0788805131414123,
          1.334904478319909,
          -0.6589711727659476
         ],
         "yaxis": "y"
        }
       ],
       "layout": {
        "autosize": true,
        "coloraxis": {
         "colorbar": {
          "title": {
           "text": "Тип звезды (код)"
          }
         },
         "colorscale": [
          [
           0,
           "#440154"
          ],
          [
           0.1111111111111111,
           "#482878"
          ],
          [
           0.2222222222222222,
           "#3e4989"
          ],
          [
           0.3333333333333333,
           "#31688e"
          ],
          [
           0.4444444444444444,
           "#26828e"
          ],
          [
           0.5555555555555556,
           "#1f9e89"
          ],
          [
           0.6666666666666666,
           "#35b779"
          ],
          [
           0.7777777777777778,
           "#6ece58"
          ],
          [
           0.8888888888888888,
           "#b5de2b"
          ],
          [
           1,
           "#fde725"
          ]
         ]
        },
        "legend": {
         "tracegroupgap": 0
        },
        "showlegend": true,
        "template": {
         "data": {
          "bar": [
           {
            "error_x": {
             "color": "#2a3f5f"
            },
            "error_y": {
             "color": "#2a3f5f"
            },
            "marker": {
             "line": {
              "color": "#E5ECF6",
              "width": 0.5
             },
             "pattern": {
              "fillmode": "overlay",
              "size": 10,
              "solidity": 0.2
             }
            },
            "type": "bar"
           }
          ],
          "barpolar": [
           {
            "marker": {
             "line": {
              "color": "#E5ECF6",
              "width": 0.5
             },
             "pattern": {
              "fillmode": "overlay",
              "size": 10,
              "solidity": 0.2
             }
            },
            "type": "barpolar"
           }
          ],
          "carpet": [
           {
            "aaxis": {
             "endlinecolor": "#2a3f5f",
             "gridcolor": "white",
             "linecolor": "white",
             "minorgridcolor": "white",
             "startlinecolor": "#2a3f5f"
            },
            "baxis": {
             "endlinecolor": "#2a3f5f",
             "gridcolor": "white",
             "linecolor": "white",
             "minorgridcolor": "white",
             "startlinecolor": "#2a3f5f"
            },
            "type": "carpet"
           }
          ],
          "choropleth": [
           {
            "colorbar": {
             "outlinewidth": 0,
             "ticks": ""
            },
            "type": "choropleth"
           }
          ],
          "contour": [
           {
            "colorbar": {
             "outlinewidth": 0,
             "ticks": ""
            },
            "colorscale": [
             [
              0,
              "#0d0887"
             ],
             [
              0.1111111111111111,
              "#46039f"
             ],
             [
              0.2222222222222222,
              "#7201a8"
             ],
             [
              0.3333333333333333,
              "#9c179e"
             ],
             [
              0.4444444444444444,
              "#bd3786"
             ],
             [
              0.5555555555555556,
              "#d8576b"
             ],
             [
              0.6666666666666666,
              "#ed7953"
             ],
             [
              0.7777777777777778,
              "#fb9f3a"
             ],
             [
              0.8888888888888888,
              "#fdca26"
             ],
             [
              1,
              "#f0f921"
             ]
            ],
            "type": "contour"
           }
          ],
          "contourcarpet": [
           {
            "colorbar": {
             "outlinewidth": 0,
             "ticks": ""
            },
            "type": "contourcarpet"
           }
          ],
          "heatmap": [
           {
            "colorbar": {
             "outlinewidth": 0,
             "ticks": ""
            },
            "colorscale": [
             [
              0,
              "#0d0887"
             ],
             [
              0.1111111111111111,
              "#46039f"
             ],
             [
              0.2222222222222222,
              "#7201a8"
             ],
             [
              0.3333333333333333,
              "#9c179e"
             ],
             [
              0.4444444444444444,
              "#bd3786"
             ],
             [
              0.5555555555555556,
              "#d8576b"
             ],
             [
              0.6666666666666666,
              "#ed7953"
             ],
             [
              0.7777777777777778,
              "#fb9f3a"
             ],
             [
              0.8888888888888888,
              "#fdca26"
             ],
             [
              1,
              "#f0f921"
             ]
            ],
            "type": "heatmap"
           }
          ],
          "heatmapgl": [
           {
            "colorbar": {
             "outlinewidth": 0,
             "ticks": ""
            },
            "colorscale": [
             [
              0,
              "#0d0887"
             ],
             [
              0.1111111111111111,
              "#46039f"
             ],
             [
              0.2222222222222222,
              "#7201a8"
             ],
             [
              0.3333333333333333,
              "#9c179e"
             ],
             [
              0.4444444444444444,
              "#bd3786"
             ],
             [
              0.5555555555555556,
              "#d8576b"
             ],
             [
              0.6666666666666666,
              "#ed7953"
             ],
             [
              0.7777777777777778,
              "#fb9f3a"
             ],
             [
              0.8888888888888888,
              "#fdca26"
             ],
             [
              1,
              "#f0f921"
             ]
            ],
            "type": "heatmapgl"
           }
          ],
          "histogram": [
           {
            "marker": {
             "pattern": {
              "fillmode": "overlay",
              "size": 10,
              "solidity": 0.2
             }
            },
            "type": "histogram"
           }
          ],
          "histogram2d": [
           {
            "colorbar": {
             "outlinewidth": 0,
             "ticks": ""
            },
            "colorscale": [
             [
              0,
              "#0d0887"
             ],
             [
              0.1111111111111111,
              "#46039f"
             ],
             [
              0.2222222222222222,
              "#7201a8"
             ],
             [
              0.3333333333333333,
              "#9c179e"
             ],
             [
              0.4444444444444444,
              "#bd3786"
             ],
             [
              0.5555555555555556,
              "#d8576b"
             ],
             [
              0.6666666666666666,
              "#ed7953"
             ],
             [
              0.7777777777777778,
              "#fb9f3a"
             ],
             [
              0.8888888888888888,
              "#fdca26"
             ],
             [
              1,
              "#f0f921"
             ]
            ],
            "type": "histogram2d"
           }
          ],
          "histogram2dcontour": [
           {
            "colorbar": {
             "outlinewidth": 0,
             "ticks": ""
            },
            "colorscale": [
             [
              0,
              "#0d0887"
             ],
             [
              0.1111111111111111,
              "#46039f"
             ],
             [
              0.2222222222222222,
              "#7201a8"
             ],
             [
              0.3333333333333333,
              "#9c179e"
             ],
             [
              0.4444444444444444,
              "#bd3786"
             ],
             [
              0.5555555555555556,
              "#d8576b"
             ],
             [
              0.6666666666666666,
              "#ed7953"
             ],
             [
              0.7777777777777778,
              "#fb9f3a"
             ],
             [
              0.8888888888888888,
              "#fdca26"
             ],
             [
              1,
              "#f0f921"
             ]
            ],
            "type": "histogram2dcontour"
           }
          ],
          "mesh3d": [
           {
            "colorbar": {
             "outlinewidth": 0,
             "ticks": ""
            },
            "type": "mesh3d"
           }
          ],
          "parcoords": [
           {
            "line": {
             "colorbar": {
              "outlinewidth": 0,
              "ticks": ""
             }
            },
            "type": "parcoords"
           }
          ],
          "pie": [
           {
            "automargin": true,
            "type": "pie"
           }
          ],
          "scatter": [
           {
            "fillpattern": {
             "fillmode": "overlay",
             "size": 10,
             "solidity": 0.2
            },
            "type": "scatter"
           }
          ],
          "scatter3d": [
           {
            "line": {
             "colorbar": {
              "outlinewidth": 0,
              "ticks": ""
             }
            },
            "marker": {
             "colorbar": {
              "outlinewidth": 0,
              "ticks": ""
             }
            },
            "type": "scatter3d"
           }
          ],
          "scattercarpet": [
           {
            "marker": {
             "colorbar": {
              "outlinewidth": 0,
              "ticks": ""
             }
            },
            "type": "scattercarpet"
           }
          ],
          "scattergeo": [
           {
            "marker": {
             "colorbar": {
              "outlinewidth": 0,
              "ticks": ""
             }
            },
            "type": "scattergeo"
           }
          ],
          "scattergl": [
           {
            "marker": {
             "colorbar": {
              "outlinewidth": 0,
              "ticks": ""
             }
            },
            "type": "scattergl"
           }
          ],
          "scattermapbox": [
           {
            "marker": {
             "colorbar": {
              "outlinewidth": 0,
              "ticks": ""
             }
            },
            "type": "scattermapbox"
           }
          ],
          "scatterpolar": [
           {
            "marker": {
             "colorbar": {
              "outlinewidth": 0,
              "ticks": ""
             }
            },
            "type": "scatterpolar"
           }
          ],
          "scatterpolargl": [
           {
            "marker": {
             "colorbar": {
              "outlinewidth": 0,
              "ticks": ""
             }
            },
            "type": "scatterpolargl"
           }
          ],
          "scatterternary": [
           {
            "marker": {
             "colorbar": {
              "outlinewidth": 0,
              "ticks": ""
             }
            },
            "type": "scatterternary"
           }
          ],
          "surface": [
           {
            "colorbar": {
             "outlinewidth": 0,
             "ticks": ""
            },
            "colorscale": [
             [
              0,
              "#0d0887"
             ],
             [
              0.1111111111111111,
              "#46039f"
             ],
             [
              0.2222222222222222,
              "#7201a8"
             ],
             [
              0.3333333333333333,
              "#9c179e"
             ],
             [
              0.4444444444444444,
              "#bd3786"
             ],
             [
              0.5555555555555556,
              "#d8576b"
             ],
             [
              0.6666666666666666,
              "#ed7953"
             ],
             [
              0.7777777777777778,
              "#fb9f3a"
             ],
             [
              0.8888888888888888,
              "#fdca26"
             ],
             [
              1,
              "#f0f921"
             ]
            ],
            "type": "surface"
           }
          ],
          "table": [
           {
            "cells": {
             "fill": {
              "color": "#EBF0F8"
             },
             "line": {
              "color": "white"
             }
            },
            "header": {
             "fill": {
              "color": "#C8D4E3"
             },
             "line": {
              "color": "white"
             }
            },
            "type": "table"
           }
          ]
         },
         "layout": {
          "annotationdefaults": {
           "arrowcolor": "#2a3f5f",
           "arrowhead": 0,
           "arrowwidth": 1
          },
          "autotypenumbers": "strict",
          "coloraxis": {
           "colorbar": {
            "outlinewidth": 0,
            "ticks": ""
           }
          },
          "colorscale": {
           "diverging": [
            [
             0,
             "#8e0152"
            ],
            [
             0.1,
             "#c51b7d"
            ],
            [
             0.2,
             "#de77ae"
            ],
            [
             0.3,
             "#f1b6da"
            ],
            [
             0.4,
             "#fde0ef"
            ],
            [
             0.5,
             "#f7f7f7"
            ],
            [
             0.6,
             "#e6f5d0"
            ],
            [
             0.7,
             "#b8e186"
            ],
            [
             0.8,
             "#7fbc41"
            ],
            [
             0.9,
             "#4d9221"
            ],
            [
             1,
             "#276419"
            ]
           ],
           "sequential": [
            [
             0,
             "#0d0887"
            ],
            [
             0.1111111111111111,
             "#46039f"
            ],
            [
             0.2222222222222222,
             "#7201a8"
            ],
            [
             0.3333333333333333,
             "#9c179e"
            ],
            [
             0.4444444444444444,
             "#bd3786"
            ],
            [
             0.5555555555555556,
             "#d8576b"
            ],
            [
             0.6666666666666666,
             "#ed7953"
            ],
            [
             0.7777777777777778,
             "#fb9f3a"
            ],
            [
             0.8888888888888888,
             "#fdca26"
            ],
            [
             1,
             "#f0f921"
            ]
           ],
           "sequentialminus": [
            [
             0,
             "#0d0887"
            ],
            [
             0.1111111111111111,
             "#46039f"
            ],
            [
             0.2222222222222222,
             "#7201a8"
            ],
            [
             0.3333333333333333,
             "#9c179e"
            ],
            [
             0.4444444444444444,
             "#bd3786"
            ],
            [
             0.5555555555555556,
             "#d8576b"
            ],
            [
             0.6666666666666666,
             "#ed7953"
            ],
            [
             0.7777777777777778,
             "#fb9f3a"
            ],
            [
             0.8888888888888888,
             "#fdca26"
            ],
            [
             1,
             "#f0f921"
            ]
           ]
          },
          "colorway": [
           "#636efa",
           "#EF553B",
           "#00cc96",
           "#ab63fa",
           "#FFA15A",
           "#19d3f3",
           "#FF6692",
           "#B6E880",
           "#FF97FF",
           "#FECB52"
          ],
          "font": {
           "color": "#2a3f5f"
          },
          "geo": {
           "bgcolor": "white",
           "lakecolor": "white",
           "landcolor": "#E5ECF6",
           "showlakes": true,
           "showland": true,
           "subunitcolor": "white"
          },
          "hoverlabel": {
           "align": "left"
          },
          "hovermode": "closest",
          "mapbox": {
           "style": "light"
          },
          "paper_bgcolor": "white",
          "plot_bgcolor": "#E5ECF6",
          "polar": {
           "angularaxis": {
            "gridcolor": "white",
            "linecolor": "white",
            "ticks": ""
           },
           "bgcolor": "#E5ECF6",
           "radialaxis": {
            "gridcolor": "white",
            "linecolor": "white",
            "ticks": ""
           }
          },
          "scene": {
           "xaxis": {
            "backgroundcolor": "#E5ECF6",
            "gridcolor": "white",
            "gridwidth": 2,
            "linecolor": "white",
            "showbackground": true,
            "ticks": "",
            "zerolinecolor": "white"
           },
           "yaxis": {
            "backgroundcolor": "#E5ECF6",
            "gridcolor": "white",
            "gridwidth": 2,
            "linecolor": "white",
            "showbackground": true,
            "ticks": "",
            "zerolinecolor": "white"
           },
           "zaxis": {
            "backgroundcolor": "#E5ECF6",
            "gridcolor": "white",
            "gridwidth": 2,
            "linecolor": "white",
            "showbackground": true,
            "ticks": "",
            "zerolinecolor": "white"
           }
          },
          "shapedefaults": {
           "line": {
            "color": "#2a3f5f"
           }
          },
          "ternary": {
           "aaxis": {
            "gridcolor": "white",
            "linecolor": "white",
            "ticks": ""
           },
           "baxis": {
            "gridcolor": "white",
            "linecolor": "white",
            "ticks": ""
           },
           "bgcolor": "#E5ECF6",
           "caxis": {
            "gridcolor": "white",
            "linecolor": "white",
            "ticks": ""
           }
          },
          "title": {
           "x": 0.05
          },
          "xaxis": {
           "automargin": true,
           "gridcolor": "white",
           "linecolor": "white",
           "ticks": "",
           "title": {
            "standoff": 15
           },
           "zerolinecolor": "white",
           "zerolinewidth": 2
          },
          "yaxis": {
           "automargin": true,
           "gridcolor": "white",
           "linecolor": "white",
           "ticks": "",
           "title": {
            "standoff": 15
           },
           "zerolinecolor": "white",
           "zerolinewidth": 2
          }
         }
        },
        "title": {
         "text": "Температура и Светимость (по типам звезд)"
        },
        "xaxis": {
         "anchor": "y",
         "autorange": true,
         "domain": [
          0,
          1
         ],
         "range": [
          -1.6795413286016072,
          0.5112780942947726
         ],
         "title": {
          "text": "Температура (K, лог. шкала)"
         },
         "type": "log"
        },
        "yaxis": {
         "anchor": "x",
         "autorange": true,
         "domain": [
          0,
          1
         ],
         "range": [
          -1.947250530583262,
          0.6107214146866469
         ],
         "title": {
          "text": "Светимость (L☉, лог. шкала)"
         },
         "type": "log"
        }
       }
      },
      "image/png": "[encoded data removed]",
      "text/html": [
       "<div>                            <div id=\"b94e8834-e12c-438e-a239-d9c9b91db32a\" class=\"plotly-graph-div\" style=\"height:525px; width:100%;\"></div>            <script type=\"text/javascript\">                require([\"plotly\"], function(Plotly) {                    window.PLOTLYENV=window.PLOTLYENV || {};                                    if (document.getElementById(\"b94e8834-e12c-438e-a239-d9c9b91db32a\")) {                    Plotly.newPlot(                        \"b94e8834-e12c-438e-a239-d9c9b91db32a\",                        [{\"customdata\":[[\"0\",1.170234800484746,-0.6492494853612552],[\"0\",1.3705572394951924,-0.650505626752943],[\"0\",1.1750043823659468,-0.649109914095512],[\"0\",1.5002898666638624,-0.650481562741608],[\"0\",1.2064836227818743,-0.6503131146622629],[\"0\",1.2293776158116396,-0.6499040264695676],[\"0\",1.2465481105839635,-0.6506500108209531],[\"0\",1.2513176924651646,-0.6503131146622629],[\"0\",1.117769399791534,-0.6498318344355626],[\"1\",0.606470222126775,-0.640687510128256],[\"1\",0.7114010235131996,-0.6439096812460148],[\"1\",0.8468571489393111,-0.6482436096874513],[\"1\",0.5864379782257305,-0.643502999454453],[\"1\",0.7106378904122073,-0.6495911943222124],[\"1\",0.833502319671948,-0.6471847931887107],[\"1\",0.9975759363852659,-0.649109914095512],[\"1\",0.6169633022654177,-0.6416500705816567],[\"1\",0.8773824729789981,-0.6482267648795169],[\"1\",0.653212124562546,-0.6445136879305238],[\"2\",0.5959771419881328,-0.6527580182139006],[\"2\",0.9241243754147688,-0.6526632060092407],[\"2\",0.9441566193158135,-0.6526954517844296],[\"2\",0.9699123614742995,-0.6527195157957646],[\"2\",0.7209401872756018,-0.6526232597504246],[\"2\",0.7533733440677692,-0.6527233660375782],[\"2\",0.9412948701870929,-0.6527267349991651],[\"2\",0.9670506123455789,-0.6526521365640265],[\"2\",0.7877143336124173,-0.6526954517844296],[\"2\",0.9298478736722102,-0.6526473237617595],[\"3\",-0.8616070809069254,-0.39788163575793273],[\"3\",-0.8139112620949143,-0.5013568844985066],[\"3\",-0.6011879101933448,-0.4796992742969911],[\"3\",-0.3980037220541778,-0.5834151631509151],[\"3\",0.06846138592729038,-0.6313025457075994],[\"3\",-0.1824186210238878,-0.6096449355060839],[\"3\",-0.18337253740012802,-0.6260084632138955],[\"3\",-0.1337688858356365,-0.629377424800798],[\"3\",0.012180319729117334,-0.6263453593725857],[\"3\",0.06655355317480997,-0.6291367846874478],[\"4\",-1.0743304328084948,-0.19574394054378855],[\"4\",-1.0046945373429585,-0.09948789520371987],[\"4\",-0.9875240425706344,1.464672841572396],[\"4\",-1.101994007719461,-0.24387196321382287],[\"4\",-0.985616209818154,-0.051359872533685534],[\"4\",-1.0428511923925674,0.044896172806383146],[\"4\",-1.0600216871648915,0.42992035416665786],[\"4\",-0.9131185652238973,1.4887368529074132],[\"4\",-1.0562060216599305,1.3684167962323275],[\"4\",-0.9951553735805563,-0.02729586119866836],[\"5\",-1.3099477777398294,1.9151721897738356],[\"5\",-1.14110457914531,1.9151721897738356],[\"5\",-1.2908694502150249,1.9151721897738356],[\"5\",-1.1811690669473995,1.9151721897738356],[\"5\",-1.1563672411651538,1.9151721897738356],[\"5\",-1.5341181261562815,1.9151721897738356],[\"5\",-1.5503347045523654,1.9151721897738356],[\"5\",-1.489284056472991,1.9151721897738356],[\"5\",-1.4854683909680302,1.9151721897738356],[\"5\",-1.4969153874829126,1.9151721897738356],[\"0\",1.1349398945638578,-0.6515885072630189],[\"0\",1.2026679572769137,-0.6483879937554614],[\"0\",1.1215850652964947,-0.6506981388436232],[\"0\",1.2045757900293939,-0.6507510796685602],[\"0\",1.3886816506437567,-0.6501687305942527],[\"0\",1.2207923684254776,-0.6497837064128924],[\"0\",1.3362162499505443,-0.6507222028549582],[\"0\",1.1559260548411425,-0.6507679244764947],[\"0\",1.2455941942077235,-0.6501206025715828],[\"0\",1.4401931349607284,-0.6500724745489127],[\"1\",0.7600507587014509,-0.6463906808146551],[\"1\",0.5520969886810825,-0.6438158316018082],[\"1\",0.8459032325630707,-0.6486286338688116],[\"1\",0.7257097691568029,-0.6445377519418587],[\"1\",0.6255485496515796,-0.6459575286106247],[\"1\",0.708539274384479,-0.6445377519418587],[\"1\",0.8707050583453166,-0.6471847931887107],[\"1\",0.7190323545231212,-0.6455725044292645],[\"1\",0.8087004938897022,-0.6506018827982831],[\"1\",0.920308709909808,-0.649085850084177],[\"2\",0.9308017900484504,-0.6526713877730945],[\"2\",0.7333411001667245,-0.6527387670048326],[\"2\",0.9012303823850034,-0.6527315478014322],[\"2\",0.774359504345054,-0.6525991957390895],[\"2\",0.747649845810328,-0.6527459862082331],[\"2\",0.920308709909808,-0.6526978581855631],[\"2\",0.7438341803053672,-0.6527387670048326],[\"2\",0.6541660409387862,-0.6527507990105],[\"2\",0.8239631559095457,-0.6527455049280064],[\"2\",0.6684747865823895,-0.652644917360626],[\"3\",0.11043370648186016,-0.6310619055942491],[\"3\",0.20735161030786664,-0.6321447861043249],[\"3\",0.18083273504838843,-0.6338292668977761],[\"3\",0.042705643768804445,-0.6257678231005454],[\"3\",-0.27494850951918925,-0.5896718060980196],[\"3\",-0.6326671506092723,-0.4849933567906949],[\"3\",0.033166480006402176,-0.6318800819796397],[\"3\",-0.18051078827140737,-0.6207143807201918],[\"3\",-0.411358551321541,-0.4842714364506444],[\"3\",-0.8329895896197188,-0.40750724029193963],[\"4\",-1.0333120286301651,-0.3641920198889087],[\"4\",-1.0075562864716794,-0.3160639972188744],[\"4\",-0.9627222167883889,0.21334425215150332],[\"4\",-1.070514767303534,1.3443527848973102],[\"4\",-0.9770309624319922,-0.3641920198889087],[\"4\",-0.9970632063330369,0.3577283201616064],[\"4\",-0.9693996314220703,0.8630725581969669],[\"4\",-1.0180493666103216,0.21334425215150332],[\"4\",-1.0085102028479196,0.7186884901868639],[\"4\",-0.9655839659171095,0.9593286035370355],[\"5\",-1.433956906651058,1.9151721897738356],[\"5\",-1.4444499867897007,1.9151721897738356],[\"5\",-1.494053638354192,1.9151721897738356],[\"5\",-1.454943066928343,1.9151721897738356],[\"5\",-1.4492195686709017,1.9151721897738356],[\"5\",-1.4654361470669854,1.9151721897738356],[\"5\",-1.4997771366116335,1.9151721897738356],[\"5\",-1.3910306697202481,1.9151721897738356],[\"5\",-1.3738601749479242,1.9151721897738356],[\"5\",-1.433956906651058,1.9151721897738356],[\"0\",1.2236541175541984,-0.6507655180753612],[\"0\",1.48884287014898,-0.6506115084028171],[\"0\",1.4964742011589016,-0.6503131146622629],[\"0\",1.2007601245244333,-0.6507173900526911],[\"0\",1.2198384520492376,-0.6503371786735979],[\"0\",1.459271462485533,-0.6500484105375777],[\"0\",1.196944459019472,-0.6507173900526911],[\"0\",1.1807278806233885,-0.6507968012900968],[\"0\",1.4525940478518513,-0.6510783502227164],[\"0\",1.3123683405445388,-0.6509002765388373],[\"1\",0.6236407168990992,-0.6411206623322863],[\"1\",0.5730831489583674,-0.6438158316018082],[\"1\",0.6522582081863058,-0.6455003123952595],[\"1\",0.8382719015531488,-0.6447783920552089],[\"1\",0.9441566193158135,-0.6380404688814041],[\"1\",0.993760270880305,-0.6353934276345522],[\"1\",0.6770600339685515,-0.6471847931887107],[\"1\",0.9470183684445341,-0.6394843095615051],[\"1\",0.7533733440677692,-0.6447783920552089],[\"1\",0.9536957830782158,-0.6467997690073504],[\"2\",0.8907373022463612,-0.6527240879579183],[\"2\",0.6856452813547136,-0.6526906389821626],[\"2\",0.8058387447609814,-0.6527353980432457],[\"2\",0.7238019364043224,-0.6527262537189383],[\"2\",0.6722904520873505,-0.6527440610873263],[\"2\",1.0052072673951875,-0.65274863324948],[\"2\",0.8106083266421826,-0.6527327510019988],[\"2\",0.8163318248996239,-0.6527455049280064],[\"2\",0.9994837691377465,-0.6527488738895932],[\"2\",0.6579817064437472,-0.652720478356218],[\"3\",-0.7957868509463502,-0.5080948076723114],[\"3\",-0.4018193875591387,-0.593112959718927],[\"3\",-0.6078653248270265,-0.5147124107894411],[\"3\",-0.7299666209857749,-0.5162765715262173],[\"3\",-0.7929251018176295,-0.5105012088058131],[\"3\",-0.8034181819562718,-0.49895048336500486],[\"3\",-0.7757546070453054,-0.5208487336798705],[\"3\",-0.7375979519956966,-0.4898061590576983],[\"3\",-0.5449068439951719,-0.5035226455186581],[\"3\",-0.8482522516395621,-0.48788103815089695],[\"4\",-0.9779848788082324,0.7186884901868639],[\"4\",-1.0089871610360397,0.21334425215150332],[\"4\",-0.9493673875210258,1.3443527848973102],[\"4\",-1.045712941521288,1.6812489435875506],[\"4\",-1.113441004234344,0.18928024081648614],[\"4\",-1.101994007719461,-0.0754238838687027],[\"4\",-0.9560448021547074,1.1037126715471386],[\"4\",-0.9693996314220703,0.28553628615655485],[\"4\",-0.9942014572043161,0.06896018414140033],[\"4\",-0.984662293441914,-0.0754238838687027],[\"5\",-1.1363349972641092,1.9151721897738356],[\"5\",-1.1935699798385224,1.9151721897738356],[\"5\",-1.2908694502150249,1.9151721897738356],[\"5\",-1.2813302864526228,1.9151721897738356],[\"5\",-1.165906404927556,1.9151721897738356],[\"5\",-1.1487359101552321,1.9151721897738356],[\"5\",-1.205016976353405,1.9151721897738356],[\"5\",-1.3576435965518405,1.9151721897738356],[\"5\",-1.1611368230463548,1.9151721897738356],[\"5\",-1.1992934780959639,1.9151721897738356],[\"0\",1.1330320618113774,-0.6507582988719607],[\"0\",1.3409858318317456,-0.6501687305942527],[\"0\",1.261810772603807,-0.6499280904809026],[\"0\",1.2408246123265223,-0.6505850379903485],[\"0\",1.2160227865442763,-0.6511000078329179],[\"0\",1.2017140409006732,-0.6506187276062175],[\"0\",1.2513176924651646,-0.6500965385602477],[\"0\",1.1769122151184277,-0.6505585675778801],[\"0\",1.4421009677132088,-0.6502649866395929],[\"0\",1.1463868910787405,-0.6498558984468975],[\"1\",0.6808756994735126,-0.6493986822315322],[\"1\",0.6102858876317361,-0.6418907106950068],[\"1\",0.8697511419690762,-0.6462222327353099],[\"1\",0.8128977259451591,-0.6438639596244783],[\"1\",0.7724516715925738,-0.6452837362932443],[\"1\",0.890451127333489,-0.6368372683146533],[\"1\",0.933663539177171,-0.6467516409846803],[\"1\",1.0118846820288692,-0.6448746481005491],[\"1\",0.8058387447609814,-0.6416260065703216],[\"1\",0.9962404534585296,-0.6367169482579782],[\"2\",0.8144239921471434,-0.652668981371961],[\"2\",0.7238019364043224,-0.6526858261798956],[\"2\",0.7533733440677692,-0.6526882325810291],[\"2\",0.8172857412758641,-0.6526810133776285],[\"2\",0.657027790067507,-0.6526617621685605],[\"2\",0.6684747865823895,-0.6526184469481575],[\"2\",0.5931153928594122,-0.6526545429651601],[\"2\",0.5578204869385239,-0.6527098901912306],[\"2\",0.6990001106220767,-0.6527050773889636],[\"2\",0.6951844451171156,-0.6527199970759913],[\"3\",-0.7633536941541825,-0.49991304381840557],[\"3\",-0.4120262927849091,-0.5120413055312542],[\"3\",-0.424713380588904,-0.5087685999896919],[\"3\",-0.6565150600152778,-0.49317512064460073],[\"3\",-0.8492061680158025,-0.499191123478355],[\"3\",-0.8291739241147578,-0.5028729172126126],[\"3\",-0.29536231997073004,-0.606997894259232],[\"3\",-0.7070726279560096,-0.5078541675589612],[\"3\",-0.6651003074014399,-0.5169262998322628],[\"3\",-0.506750188945563,-0.6065166140325317],[\"4\",-1.0113719519766402,0.18928024081648614],[\"4\",-1.0829156801946567,1.17590470555219],[\"4\",-1.0791000146896959,1.7053129549225676],[\"4\",-0.9832314188775535,1.2962247622272758],[\"4\",-1.0190032829865618,0.8390085468619497],[\"4\",-1.1239340843729861,0.45398436550167504],[\"4\",-1.1060004564996702,1.2721607508922588],[\"4\",-1.0069839366459352,-0.051359872533685534],[\"4\",-0.9765540042438721,1.4165448189023617],[\"4\",-1.114013354060088,1.5609288869124647],[\"5\",-1.256528460670377,1.9151721897738356],[\"5\",-1.299454697601187,1.9151721897738356],[\"5\",-1.4473117359184213,1.9151721897738356],[\"5\",-1.1372889136403495,1.9151721897738356],[\"5\",-1.144920244650271,1.9151721897738356],[\"5\",-1.3605053456805611,1.9151721897738356],[\"5\",-1.4272794920173768,1.9151721897738356],[\"5\",-1.4368186557797789,1.9151721897738356],[\"5\",-1.48451447459179,1.9151721897738356],[\"5\",-1.157321157541394,1.9151721897738356],[\"Main Sequence\",-0.02216066981553066,-0.6144577377730872]],\"hovertemplate\":\"\\u0422\\u0435\\u043c\\u043f\\u0435\\u0440\\u0430\\u0442\\u0443\\u0440\\u0430 (K)=%{x}\\u003cbr\\u003e\\u0421\\u0432\\u0435\\u0442\\u0438\\u043c\\u043e\\u0441\\u0442\\u044c (L\\u2609)=%{y}\\u003cbr\\u003eType=%{customdata[0]}\\u003cbr\\u003eA_M=%{customdata[1]}\\u003cbr\\u003eR=%{customdata[2]}\\u003cbr\\u003e\\u0422\\u0438\\u043f \\u0437\\u0432\\u0435\\u0437\\u0434\\u044b (\\u043a\\u043e\\u0434)=%{marker.color}\\u003cextra\\u003e\\u003c\\u002fextra\\u003e\",\"legendgroup\":\"\",\"marker\":{\"color\":[0,0,0,0,0,0,0,0,0,1,1,1,1,1,1,1,1,1,1,2,2,2,2,2,2,2,2,2,2,3,3,3,3,3,3,3,3,3,3,4,4,4,4,4,4,4,4,4,4,5,5,5,5,5,5,5,5,5,5,0,0,0,0,0,0,0,0,0,0,1,1,1,1,1,1,1,1,1,1,2,2,2,2,2,2,2,2,2,2,3,3,3,3,3,3,3,3,3,3,4,4,4,4,4,4,4,4,4,4,5,5,5,5,5,5,5,5,5,5,0,0,0,0,0,0,0,0,0,0,1,1,1,1,1,1,1,1,1,1,2,2,2,2,2,2,2,2,2,2,3,3,3,3,3,3,3,3,3,3,4,4,4,4,4,4,4,4,4,4,5,5,5,5,5,5,5,5,5,5,0,0,0,0,0,0,0,0,0,0,1,1,1,1,1,1,1,1,1,1,2,2,2,2,2,2,2,2,2,2,3,3,3,3,3,3,3,3,3,3,4,4,4,4,4,4,4,4,4,4,5,5,5,5,5,5,5,5,5,5,6],\"coloraxis\":\"coloraxis\",\"symbol\":\"circle\"},\"mode\":\"markers\",\"name\":\"\",\"orientation\":\"v\",\"showlegend\":false,\"x\":[-0.8063304398227437,-0.8552636921626031,-0.8331219490223952,-0.9284421532409901,-0.8286936003943536,-0.8511674696816646,-0.8552636921626031,-0.8497282563775511,-0.8441928205924991,-0.7445549764615638,-0.7966987815567532,-0.7961452379782481,-0.7414551324219346,-0.8497282563775511,-0.773339242543834,-0.8332326577380963,-0.7343697746170681,-0.7897241324675878,-0.7621576622580291,1.624611539540678,-0.2862208934592609,-0.3437894256238013,-0.202082269526471,0.6835874560818437,0.29499986397119565,-0.19433265942739825,-0.2906492420873024,0.1621494051299484,-0.3426823384667909,2.4658593929739503,2.1781551180458747,0.5480799880637716,-0.06923181068522379,-0.5009958019192773,-0.2516797741605366,-0.3950475609933825,-0.4367847468126743,-0.4859394165839358,-0.5245767583635986,-0.7195348067131289,-0.770571524651308,-0.7810888526429067,-0.7888384627419794,-0.810094536156579,-0.7445549764615638,-0.7473226943540897,-0.7474334030697908,-0.7417872585690378,2.4658593929739503,-0.7567329351886781,-0.7279486691064079,-0.7186491369875205,-0.7280593778221089,-0.7390195406765118,-0.7611612838167197,-0.7379124535195014,-0.7611612838167197,-0.7277272516750057,-0.7517510429821314,-0.773228533828133,-0.7631540406993383,-0.8128622540491051,-0.8292471439728588,-0.8181762724027549,-0.7783211347503808,-0.8170691852457445,-0.8312399008554775,-0.8360003756306222,-0.8252616302076214,-0.7727856989653288,-0.7437800154516565,-0.7773247563090714,-0.7943738985270314,-0.7500904122466158,-0.7910526370560003,-0.8231581646093017,-0.7731178251124319,-0.8529388091328812,-0.7934882288014231,-0.35707447150792604,0.02752760683748459,-0.15447752177502408,0.7610835570725711,0.4178865383993493,-0.07199952857774977,0.18650532258417707,0.07247534541210657,0.37581722643295434,1.055568740837336,-0.556350159769797,-0.6420387057224013,-0.691746919072168,-0.5917769487941295,-0.14340665020492016,0.10236669865138717,-0.5771633983215924,-0.28843506777328165,0.19624768956586852,2.4658593929739503,2.4658593929739503,2.4658593929739503,1.4031941081385992,0.7522268598164881,0.08531755643342712,0.433939302176,1.5836493147312933,0.28426111854819486,1.5520973307564971,2.4658593929739503,-0.7601649053754103,-0.7440014328830585,-0.7428943457260482,-0.7668074283174726,-0.7434478893045534,-0.7497582860995126,-0.6986108594456324,-0.7417872585690378,-0.3847516504331859,-0.7246274076353767,-0.7752212907107516,-0.7521938778449355,-0.7868457058593608,-0.7948167333898356,-0.7544080521589562,-0.7860707448494535,-0.8181762724027549,-0.8263687173646318,-0.826922260943137,-0.8407608504057669,-0.8004628778905886,-0.7437800154516565,-0.7999093343120834,-0.8121980017548988,-0.750976081972224,-0.7840779879668348,-0.8009057127533927,-0.7447763938929658,-0.7751105819950506,-0.751086790687925,0.34260461172264256,1.1839908510505415,0.881756057186704,0.4643841989937858,0.17432736385706274,-0.15514177406923033,0.2863645841465146,0.48785444672240613,-0.28810294162617855,0.2943356116769894,2.1294432831374173,-0.1528168910395085,0.4134581897713077,0.6714094973547293,1.6323611496397508,2.0342337876345233,1.7508194754398627,1.0843530069196061,0.29865325158933,2.4658593929739503,1.6677879386640833,0.13746136152861665,0.2601266185253683,-0.5063098202729271,-0.1548096479221272,-0.3369254852503369,1.0625433899265013,1.7766146061982049,0.7813432520458614,-0.10543356071946365,-0.747876237932595,-0.7556258480316677,-0.6684980887749498,1.7353202552417173,-0.7445549764615638,-0.7430050544417492,0.8496505296334026,0.07468951972612735,0.1964691069972706,1.568150094533148,-0.829689978835663,-0.8205011554324767,-0.7645932540034519,-0.7868457058593608,-0.7608291576696166,-0.8232688733250028,-0.8145228847846206,-0.7573971874828843,-0.8355575407678181,-0.7530795475705437,-0.7598327792283072,-0.7825280659470203,-0.8116444581763936,-0.7875099581535671,-0.7530795475705437,-0.7447763938929658,-0.7952595682526398,-0.7560686828944718,-0.7751105819950506,-0.7597220705126061,0.7156929836351451,0.5928063092069914,0.515531625647666,0.33374791446655944,0.887291492971756,1.0622112637793983,1.5161169981536595,1.413379309983095,0.8407938323773195,1.0002143829868162,1.3312334429329238,-0.034690691386499516,0.30596002682559853,1.2938138970259725,2.4658593929739503,2.4504985586704313,-0.11130112265161873,1.0046427316148578,0.7544410341305088,-0.22975944845173082,1.478254617383904,0.26831906348724516,-0.10432647356245325,1.4519059430470567,0.7153608574880419,0.9309107269579655,-0.047975737270624236,0.0669399096270546,1.4137114361301981,1.2634797089238876,1.5299555876162894,2.4658593929739503,2.4537091114257614,1.9278427118458246,1.2818573557302602,2.4658593929739503,2.2710397305190466,-0.16565910206082904,-0.12071136348620708,2.4658593929739503,-0.5009958019192773],\"xaxis\":\"x\",\"y\":[-0.6589772544152414,-0.6589772557674701,-0.6589772564435846,-0.6589772568627755,-0.6589772534010696,-0.658977252860178,-0.6589772550913556,-0.6589772531306238,-0.6589772565788075,-0.658977238188495,-0.658977175309853,-0.6589772550913556,-0.6589772206095198,-0.6589772537391269,-0.658977232103465,-0.6589772456257537,-0.6589772329824138,-0.6589772333204711,-0.6589769941111858,-0.6589768791717329,-0.6589772544828527,-0.6589772566464189,-0.6589772544152414,-0.6589771699009376,-0.6589772572211161,-0.6589772523192865,-0.6589772570520875,-0.6589772567816418,-0.6589772572549218,0.7202961784446025,-0.4639858563194722,-0.651296597876357,-0.6584769331179615,-0.6589717812689342,-0.6589184358404444,-0.6589675893594712,-0.6589681302510147,-0.6589680829230047,-0.6589717204186355,0.6932516012634178,1.6398118026048798,0.35519438649861007,0.659445879786937,1.2341431448871105,1.5045889166989566,0.17264349052561384,0.6932516012634178,0.5850732925386793,0.8284744871693409,1.1665317019341488,1.2544265777729988,1.1800539905247411,2.6886343026426465,1.436977473745995,1.1192036918670758,1.7953181213966913,0.5174618495857177,0.7541018999210832,0.659445879786937,-0.6589772199334053,-0.6589772532658468,-0.6589772561731388,-0.6589772554970244,-0.6589772568492532,-0.658977251169892,-0.6589772556322472,-0.658977251169892,-0.6589772553618014,-0.6589772529277895,-0.6589771158117832,-0.6589771090506389,-0.658977200326087,-0.6589771982977436,-0.6589772307512363,-0.6589772510346691,-0.6589772348079228,-0.6589772476540969,-0.6589772537391269,-0.6589772486682686,-0.6589772558350816,-0.6589772568492532,-0.6589772540095726,-0.658977251169892,-0.6589772532658468,-0.6589772547532984,-0.6589772525221208,-0.6589772527925666,-0.6589772565788075,-0.6589772503585547,-0.6589732687206792,-0.6589762233407362,-0.6589766830985483,-0.6589748440673,-0.6586730063025251,-0.6544337688293744,-0.6589729982749073,-0.6589237095329947,-0.6543188293763543,0.6797293126728255,0.9636973730752642,2.6886343026426465,0.19968806770679848,0.9298916515987833,0.09827090327735612,0.9028470744175987,1.7953181213966913,0.5850732925386793,0.3011052321362408,1.7209455341484337,0.017137171733802244,0.1929269234115023,0.6932516012634178,0.1320766247538369,0.23349378918327923,0.32138866502212926,1.2476654334777026,-0.1586525799438978,0.8893247858270064,0.6932516012634178,-0.6589772548885213,-0.6589772515079493,-0.6589772541447956,-0.6589772567816418,-0.6589772534686811,-0.6589772526573437,-0.6589772519136179,-0.658977256511196,-0.6589772517378282,-0.6589772548411934,-0.658977256511196,-0.6589772562407502,-0.658977203706659,-0.658977198973858,-0.6589772517107836,-0.6589772422451816,-0.6589772030305445,-0.6589772503585547,-0.6589772348079228,-0.6589772490063258,-0.6589772538067383,-0.6589772476540969,-0.6589772490063258,-0.658977252251675,-0.6589772532658468,-0.6589772559026931,-0.658977252995401,-0.6589772570520875,-0.6589772568492532,-0.6589772518460064,0.6121178697198639,-0.6587203343125921,-0.65159408822535,-0.6503365153864249,-0.5609406655140191,-0.5454576450777909,-0.5608054426281133,-0.6270646567220156,-0.6522296357891079,0.7128589197197767,0.8487579200552293,1.038069960323522,2.3970599636780494,0.9975030945517449,0.956936228779968,0.2267326448879831,0.36871667508920236,0.6797293126728255,1.6594191210612386,2.211263718443311,1.5045889166989566,0.2740606549550562,2.6886343026426465,1.477544339517772,0.9636973730752642,0.32138866502212926,0.6932516012634178,0.49041727240453314,0.15236005763972538,1.0210994881423285,-0.6589772562339891,-0.6589772535295313,-0.658977256139333,-0.6589772547397762,-0.6589772535971428,-0.6589772554158906,-0.6589772546789259,-0.6589772540704228,-0.6589772520556019,-0.6589772513253983,-0.6589772219617486,-0.6589772415690671,-0.6589772091155746,-0.6589772469779825,-0.6589772212856343,-0.6589772395407238,-0.658977248871103,-0.6589772493443831,-0.6589772138483755,-0.6589772395407238,-0.6589772483302114,-0.6589772495472174,-0.6589772498176631,-0.6589772504261661,-0.65897724873588,-0.6589772472484283,-0.658977247045594,-0.658977248871103,-0.6589772502909432,-0.6589772493443831,-0.5748010113193763,-0.6552451061448099,-0.65364947609112,-0.613353056091155,0.6810815415318847,0.5161096207266586,-0.6587811846112498,-0.5851455620911794,-0.6530071673830669,-0.658914717211082,0.9927026821020846,1.5892384432760644,1.6596895668330505,2.6886343026426465,1.0091998741826074,0.8607927569008565,2.6886343026426465,2.6886343026426465,1.6926839509940956,2.6886343026426465,1.9304936792925473,1.185665740289837,2.6886343026426465,2.6886343026426465,2.6886343026426465,1.8753024584100448,2.6886343026426465,2.6886343026426465,2.0788805131414123,1.334904478319909,-0.6589711727659476],\"yaxis\":\"y\",\"type\":\"scatter\"}],                        {\"template\":{\"data\":{\"histogram2dcontour\":[{\"type\":\"histogram2dcontour\",\"colorbar\":{\"outlinewidth\":0,\"ticks\":\"\"},\"colorscale\":[[0.0,\"#0d0887\"],[0.1111111111111111,\"#46039f\"],[0.2222222222222222,\"#7201a8\"],[0.3333333333333333,\"#9c179e\"],[0.4444444444444444,\"#bd3786\"],[0.5555555555555556,\"#d8576b\"],[0.6666666666666666,\"#ed7953\"],[0.7777777777777778,\"#fb9f3a\"],[0.8888888888888888,\"#fdca26\"],[1.0,\"#f0f921\"]]}],\"choropleth\":[{\"type\":\"choropleth\",\"colorbar\":{\"outlinewidth\":0,\"ticks\":\"\"}}],\"histogram2d\":[{\"type\":\"histogram2d\",\"colorbar\":{\"outlinewidth\":0,\"ticks\":\"\"},\"colorscale\":[[0.0,\"#0d0887\"],[0.1111111111111111,\"#46039f\"],[0.2222222222222222,\"#7201a8\"],[0.3333333333333333,\"#9c179e\"],[0.4444444444444444,\"#bd3786\"],[0.5555555555555556,\"#d8576b\"],[0.6666666666666666,\"#ed7953\"],[0.7777777777777778,\"#fb9f3a\"],[0.8888888888888888,\"#fdca26\"],[1.0,\"#f0f921\"]]}],\"heatmap\":[{\"type\":\"heatmap\",\"colorbar\":{\"outlinewidth\":0,\"ticks\":\"\"},\"colorscale\":[[0.0,\"#0d0887\"],[0.1111111111111111,\"#46039f\"],[0.2222222222222222,\"#7201a8\"],[0.3333333333333333,\"#9c179e\"],[0.4444444444444444,\"#bd3786\"],[0.5555555555555556,\"#d8576b\"],[0.6666666666666666,\"#ed7953\"],[0.7777777777777778,\"#fb9f3a\"],[0.8888888888888888,\"#fdca26\"],[1.0,\"#f0f921\"]]}],\"heatmapgl\":[{\"type\":\"heatmapgl\",\"colorbar\":{\"outlinewidth\":0,\"ticks\":\"\"},\"colorscale\":[[0.0,\"#0d0887\"],[0.1111111111111111,\"#46039f\"],[0.2222222222222222,\"#7201a8\"],[0.3333333333333333,\"#9c179e\"],[0.4444444444444444,\"#bd3786\"],[0.5555555555555556,\"#d8576b\"],[0.6666666666666666,\"#ed7953\"],[0.7777777777777778,\"#fb9f3a\"],[0.8888888888888888,\"#fdca26\"],[1.0,\"#f0f921\"]]}],\"contourcarpet\":[{\"type\":\"contourcarpet\",\"colorbar\":{\"outlinewidth\":0,\"ticks\":\"\"}}],\"contour\":[{\"type\":\"contour\",\"colorbar\":{\"outlinewidth\":0,\"ticks\":\"\"},\"colorscale\":[[0.0,\"#0d0887\"],[0.1111111111111111,\"#46039f\"],[0.2222222222222222,\"#7201a8\"],[0.3333333333333333,\"#9c179e\"],[0.4444444444444444,\"#bd3786\"],[0.5555555555555556,\"#d8576b\"],[0.6666666666666666,\"#ed7953\"],[0.7777777777777778,\"#fb9f3a\"],[0.8888888888888888,\"#fdca26\"],[1.0,\"#f0f921\"]]}],\"surface\":[{\"type\":\"surface\",\"colorbar\":{\"outlinewidth\":0,\"ticks\":\"\"},\"colorscale\":[[0.0,\"#0d0887\"],[0.1111111111111111,\"#46039f\"],[0.2222222222222222,\"#7201a8\"],[0.3333333333333333,\"#9c179e\"],[0.4444444444444444,\"#bd3786\"],[0.5555555555555556,\"#d8576b\"],[0.6666666666666666,\"#ed7953\"],[0.7777777777777778,\"#fb9f3a\"],[0.8888888888888888,\"#fdca26\"],[1.0,\"#f0f921\"]]}],\"mesh3d\":[{\"type\":\"mesh3d\",\"colorbar\":{\"outlinewidth\":0,\"ticks\":\"\"}}],\"scatter\":[{\"fillpattern\":{\"fillmode\":\"overlay\",\"size\":10,\"solidity\":0.2},\"type\":\"scatter\"}],\"parcoords\":[{\"type\":\"parcoords\",\"line\":{\"colorbar\":{\"outlinewidth\":0,\"ticks\":\"\"}}}],\"scatterpolargl\":[{\"type\":\"scatterpolargl\",\"marker\":{\"colorbar\":{\"outlinewidth\":0,\"ticks\":\"\"}}}],\"bar\":[{\"error_x\":{\"color\":\"#2a3f5f\"},\"error_y\":{\"color\":\"#2a3f5f\"},\"marker\":{\"line\":{\"color\":\"#E5ECF6\",\"width\":0.5},\"pattern\":{\"fillmode\":\"overlay\",\"size\":10,\"solidity\":0.2}},\"type\":\"bar\"}],\"scattergeo\":[{\"type\":\"scattergeo\",\"marker\":{\"colorbar\":{\"outlinewidth\":0,\"ticks\":\"\"}}}],\"scatterpolar\":[{\"type\":\"scatterpolar\",\"marker\":{\"colorbar\":{\"outlinewidth\":0,\"ticks\":\"\"}}}],\"histogram\":[{\"marker\":{\"pattern\":{\"fillmode\":\"overlay\",\"size\":10,\"solidity\":0.2}},\"type\":\"histogram\"}],\"scattergl\":[{\"type\":\"scattergl\",\"marker\":{\"colorbar\":{\"outlinewidth\":0,\"ticks\":\"\"}}}],\"scatter3d\":[{\"type\":\"scatter3d\",\"line\":{\"colorbar\":{\"outlinewidth\":0,\"ticks\":\"\"}},\"marker\":{\"colorbar\":{\"outlinewidth\":0,\"ticks\":\"\"}}}],\"scattermapbox\":[{\"type\":\"scattermapbox\",\"marker\":{\"colorbar\":{\"outlinewidth\":0,\"ticks\":\"\"}}}],\"scatterternary\":[{\"type\":\"scatterternary\",\"marker\":{\"colorbar\":{\"outlinewidth\":0,\"ticks\":\"\"}}}],\"scattercarpet\":[{\"type\":\"scattercarpet\",\"marker\":{\"colorbar\":{\"outlinewidth\":0,\"ticks\":\"\"}}}],\"carpet\":[{\"aaxis\":{\"endlinecolor\":\"#2a3f5f\",\"gridcolor\":\"white\",\"linecolor\":\"white\",\"minorgridcolor\":\"white\",\"startlinecolor\":\"#2a3f5f\"},\"baxis\":{\"endlinecolor\":\"#2a3f5f\",\"gridcolor\":\"white\",\"linecolor\":\"white\",\"minorgridcolor\":\"white\",\"startlinecolor\":\"#2a3f5f\"},\"type\":\"carpet\"}],\"table\":[{\"cells\":{\"fill\":{\"color\":\"#EBF0F8\"},\"line\":{\"color\":\"white\"}},\"header\":{\"fill\":{\"color\":\"#C8D4E3\"},\"line\":{\"color\":\"white\"}},\"type\":\"table\"}],\"barpolar\":[{\"marker\":{\"line\":{\"color\":\"#E5ECF6\",\"width\":0.5},\"pattern\":{\"fillmode\":\"overlay\",\"size\":10,\"solidity\":0.2}},\"type\":\"barpolar\"}],\"pie\":[{\"automargin\":true,\"type\":\"pie\"}]},\"layout\":{\"autotypenumbers\":\"strict\",\"colorway\":[\"#636efa\",\"#EF553B\",\"#00cc96\",\"#ab63fa\",\"#FFA15A\",\"#19d3f3\",\"#FF6692\",\"#B6E880\",\"#FF97FF\",\"#FECB52\"],\"font\":{\"color\":\"#2a3f5f\"},\"hovermode\":\"closest\",\"hoverlabel\":{\"align\":\"left\"},\"paper_bgcolor\":\"white\",\"plot_bgcolor\":\"#E5ECF6\",\"polar\":{\"bgcolor\":\"#E5ECF6\",\"angularaxis\":{\"gridcolor\":\"white\",\"linecolor\":\"white\",\"ticks\":\"\"},\"radialaxis\":{\"gridcolor\":\"white\",\"linecolor\":\"white\",\"ticks\":\"\"}},\"ternary\":{\"bgcolor\":\"#E5ECF6\",\"aaxis\":{\"gridcolor\":\"white\",\"linecolor\":\"white\",\"ticks\":\"\"},\"baxis\":{\"gridcolor\":\"white\",\"linecolor\":\"white\",\"ticks\":\"\"},\"caxis\":{\"gridcolor\":\"white\",\"linecolor\":\"white\",\"ticks\":\"\"}},\"coloraxis\":{\"colorbar\":{\"outlinewidth\":0,\"ticks\":\"\"}},\"colorscale\":{\"sequential\":[[0.0,\"#0d0887\"],[0.1111111111111111,\"#46039f\"],[0.2222222222222222,\"#7201a8\"],[0.3333333333333333,\"#9c179e\"],[0.4444444444444444,\"#bd3786\"],[0.5555555555555556,\"#d8576b\"],[0.6666666666666666,\"#ed7953\"],[0.7777777777777778,\"#fb9f3a\"],[0.8888888888888888,\"#fdca26\"],[1.0,\"#f0f921\"]],\"sequentialminus\":[[0.0,\"#0d0887\"],[0.1111111111111111,\"#46039f\"],[0.2222222222222222,\"#7201a8\"],[0.3333333333333333,\"#9c179e\"],[0.4444444444444444,\"#bd3786\"],[0.5555555555555556,\"#d8576b\"],[0.6666666666666666,\"#ed7953\"],[0.7777777777777778,\"#fb9f3a\"],[0.8888888888888888,\"#fdca26\"],[1.0,\"#f0f921\"]],\"diverging\":[[0,\"#8e0152\"],[0.1,\"#c51b7d\"],[0.2,\"#de77ae\"],[0.3,\"#f1b6da\"],[0.4,\"#fde0ef\"],[0.5,\"#f7f7f7\"],[0.6,\"#e6f5d0\"],[0.7,\"#b8e186\"],[0.8,\"#7fbc41\"],[0.9,\"#4d9221\"],[1,\"#276419\"]]},\"xaxis\":{\"gridcolor\":\"white\",\"linecolor\":\"white\",\"ticks\":\"\",\"title\":{\"standoff\":15},\"zerolinecolor\":\"white\",\"automargin\":true,\"zerolinewidth\":2},\"yaxis\":{\"gridcolor\":\"white\",\"linecolor\":\"white\",\"ticks\":\"\",\"title\":{\"standoff\":15},\"zerolinecolor\":\"white\",\"automargin\":true,\"zerolinewidth\":2},\"scene\":{\"xaxis\":{\"backgroundcolor\":\"#E5ECF6\",\"gridcolor\":\"white\",\"linecolor\":\"white\",\"showbackground\":true,\"ticks\":\"\",\"zerolinecolor\":\"white\",\"gridwidth\":2},\"yaxis\":{\"backgroundcolor\":\"#E5ECF6\",\"gridcolor\":\"white\",\"linecolor\":\"white\",\"showbackground\":true,\"ticks\":\"\",\"zerolinecolor\":\"white\",\"gridwidth\":2},\"zaxis\":{\"backgroundcolor\":\"#E5ECF6\",\"gridcolor\":\"white\",\"linecolor\":\"white\",\"showbackground\":true,\"ticks\":\"\",\"zerolinecolor\":\"white\",\"gridwidth\":2}},\"shapedefaults\":{\"line\":{\"color\":\"#2a3f5f\"}},\"annotationdefaults\":{\"arrowcolor\":\"#2a3f5f\",\"arrowhead\":0,\"arrowwidth\":1},\"geo\":{\"bgcolor\":\"white\",\"landcolor\":\"#E5ECF6\",\"subunitcolor\":\"white\",\"showland\":true,\"showlakes\":true,\"lakecolor\":\"white\"},\"title\":{\"x\":0.05},\"mapbox\":{\"style\":\"light\"}}},\"xaxis\":{\"anchor\":\"y\",\"domain\":[0.0,1.0],\"title\":{\"text\":\"\\u0422\\u0435\\u043c\\u043f\\u0435\\u0440\\u0430\\u0442\\u0443\\u0440\\u0430 (K, \\u043b\\u043e\\u0433. \\u0448\\u043a\\u0430\\u043b\\u0430)\"},\"type\":\"log\"},\"yaxis\":{\"anchor\":\"x\",\"domain\":[0.0,1.0],\"title\":{\"text\":\"\\u0421\\u0432\\u0435\\u0442\\u0438\\u043c\\u043e\\u0441\\u0442\\u044c (L\\u2609, \\u043b\\u043e\\u0433. \\u0448\\u043a\\u0430\\u043b\\u0430)\"},\"type\":\"log\"},\"coloraxis\":{\"colorbar\":{\"title\":{\"text\":\"\\u0422\\u0438\\u043f \\u0437\\u0432\\u0435\\u0437\\u0434\\u044b (\\u043a\\u043e\\u0434)\"}},\"colorscale\":[[0.0,\"#440154\"],[0.1111111111111111,\"#482878\"],[0.2222222222222222,\"#3e4989\"],[0.3333333333333333,\"#31688e\"],[0.4444444444444444,\"#26828e\"],[0.5555555555555556,\"#1f9e89\"],[0.6666666666666666,\"#35b779\"],[0.7777777777777778,\"#6ece58\"],[0.8888888888888888,\"#b5de2b\"],[1.0,\"#fde725\"]]},\"legend\":{\"tracegroupgap\":0},\"title\":{\"text\":\"\\u0422\\u0435\\u043c\\u043f\\u0435\\u0440\\u0430\\u0442\\u0443\\u0440\\u0430 \\u0438 \\u0421\\u0432\\u0435\\u0442\\u0438\\u043c\\u043e\\u0441\\u0442\\u044c (\\u043f\\u043e \\u0442\\u0438\\u043f\\u0430\\u043c \\u0437\\u0432\\u0435\\u0437\\u0434)\"},\"showlegend\":true},                        {\"responsive\": true}                    ).then(function(){\n",
       "                            \n",
       "var gd = document.getElementById('b94e8834-e12c-438e-a239-d9c9b91db32a');\n",
       "var x = new MutationObserver(function (mutations, observer) {{\n",
       "        var display = window.getComputedStyle(gd).display;\n",
       "        if (!display || display === 'none') {{\n",
       "            console.log([gd, 'removed!']);\n",
       "            Plotly.purge(gd);\n",
       "            observer.disconnect();\n",
       "        }}\n",
       "}});\n",
       "\n",
       "// Listen for the removal of the full notebook cells\n",
       "var notebookContainer = gd.closest('#notebook-container');\n",
       "if (notebookContainer) {{\n",
       "    x.observe(notebookContainer, {childList: true});\n",
       "}}\n",
       "\n",
       "// Listen for the clearing of the current output cell\n",
       "var outputEl = gd.closest('.output');\n",
       "if (outputEl) {{\n",
       "    x.observe(outputEl, {childList: true});\n",
       "}}\n",
       "\n",
       "                        })                };                });            </script>        </div>"
      ]
     },
     "metadata": {},
     "output_type": "display_data"
    }
   ],
   "source": [
    "# Диаграмма рассеяния Temperature и L по Type_Encoded\n",
    "import plotly.express as px\n",
    "import pandas as pd\n",
    "\n",
    "# Копия df с Type для hover_data\n",
    "df_viz = df.copy()\n",
    "df_viz['Type'] = le_type.inverse_transform(df['Type_Encoded'])\n",
    "\n",
    "fig = px.scatter(\n",
    "    df_viz,\n",
    "    x='Temperature',\n",
    "    y='L',\n",
    "    color='Type_Encoded',\n",
    "    color_continuous_scale='Viridis',\n",
    "    log_x=True,\n",
    "    log_y=True,\n",
    "    title='Температура и Светимость (по типам звезд)',\n",
    "    labels={'Temperature': 'Температура (K)', 'L': 'Светимость (L☉)', 'Type_Encoded': 'Тип звезды (код)'},\n",
    "    hover_data=['Type', 'A_M', 'R']\n",
    ")\n",
    "fig.update_layout(\n",
    "    xaxis_title='Температура (K, лог. шкала)',\n",
    "    yaxis_title='Светимость (L☉, лог. шкала)',\n",
    "    showlegend=True\n",
    ")\n",
    "fig.show()"
   ]
  },
  {
   "cell_type": "code",
   "execution_count": 113,
   "id": "95e87e69-5c19-4282-acbe-63bdfc7a3cea",
   "metadata": {},
   "outputs": [
    {
     "data": {
      "text/plain": [
       "Temperature        0\n",
       "L                  0\n",
       "R                  0\n",
       "A_M                0\n",
       "Color              0\n",
       "Spectral_Class     0\n",
       "Type               0\n",
       "Log_Temperature    0\n",
       "Temperature_C      0\n",
       "dtype: int64"
      ]
     },
     "execution_count": 113,
     "metadata": {},
     "output_type": "execute_result"
    }
   ],
   "source": [
    "df.isna().sum()"
   ]
  },
  {
   "cell_type": "code",
   "execution_count": 115,
   "id": "b91f8885-3817-426c-88db-31cc3d5cc539",
   "metadata": {},
   "outputs": [
    {
     "data": {
      "text/html": [
       "<div>\n",
       "<style scoped>\n",
       "    .dataframe tbody tr th:only-of-type {\n",
       "        vertical-align: middle;\n",
       "    }\n",
       "\n",
       "    .dataframe tbody tr th {\n",
       "        vertical-align: top;\n",
       "    }\n",
       "\n",
       "    .dataframe thead th {\n",
       "        text-align: right;\n",
       "    }\n",
       "</style>\n",
       "<table border=\"1\" class=\"dataframe\">\n",
       "  <thead>\n",
       "    <tr style=\"text-align: right;\">\n",
       "      <th></th>\n",
       "      <th>Temperature</th>\n",
       "      <th>L</th>\n",
       "      <th>R</th>\n",
       "      <th>A_M</th>\n",
       "      <th>Type</th>\n",
       "      <th>Log_Temperature</th>\n",
       "      <th>Temperature_C</th>\n",
       "    </tr>\n",
       "  </thead>\n",
       "  <tbody>\n",
       "    <tr>\n",
       "      <th>count</th>\n",
       "      <td>240.000000</td>\n",
       "      <td>240.000000</td>\n",
       "      <td>240.000000</td>\n",
       "      <td>240.000000</td>\n",
       "      <td>240.000000</td>\n",
       "      <td>240.000000</td>\n",
       "      <td>240.000000</td>\n",
       "    </tr>\n",
       "    <tr>\n",
       "      <th>mean</th>\n",
       "      <td>10505.512500</td>\n",
       "      <td>107188.366625</td>\n",
       "      <td>237.160406</td>\n",
       "      <td>4.319396</td>\n",
       "      <td>2.508333</td>\n",
       "      <td>3.857848</td>\n",
       "      <td>10232.362500</td>\n",
       "    </tr>\n",
       "    <tr>\n",
       "      <th>std</th>\n",
       "      <td>9546.950396</td>\n",
       "      <td>179432.241947</td>\n",
       "      <td>517.154557</td>\n",
       "      <td>10.507200</td>\n",
       "      <td>1.704023</td>\n",
       "      <td>0.371604</td>\n",
       "      <td>9546.950396</td>\n",
       "    </tr>\n",
       "    <tr>\n",
       "      <th>min</th>\n",
       "      <td>1939.000000</td>\n",
       "      <td>0.000080</td>\n",
       "      <td>0.008400</td>\n",
       "      <td>-11.920000</td>\n",
       "      <td>0.000000</td>\n",
       "      <td>3.287578</td>\n",
       "      <td>1665.850000</td>\n",
       "    </tr>\n",
       "    <tr>\n",
       "      <th>25%</th>\n",
       "      <td>3360.000000</td>\n",
       "      <td>0.000865</td>\n",
       "      <td>0.102750</td>\n",
       "      <td>-6.232500</td>\n",
       "      <td>1.000000</td>\n",
       "      <td>3.526338</td>\n",
       "      <td>3086.850000</td>\n",
       "    </tr>\n",
       "    <tr>\n",
       "      <th>50%</th>\n",
       "      <td>5776.000000</td>\n",
       "      <td>0.119000</td>\n",
       "      <td>0.797500</td>\n",
       "      <td>6.367000</td>\n",
       "      <td>2.500000</td>\n",
       "      <td>3.761623</td>\n",
       "      <td>5502.850000</td>\n",
       "    </tr>\n",
       "    <tr>\n",
       "      <th>75%</th>\n",
       "      <td>15055.500000</td>\n",
       "      <td>198050.000000</td>\n",
       "      <td>42.750000</td>\n",
       "      <td>13.667750</td>\n",
       "      <td>4.000000</td>\n",
       "      <td>4.177680</td>\n",
       "      <td>14782.350000</td>\n",
       "    </tr>\n",
       "    <tr>\n",
       "      <th>max</th>\n",
       "      <td>40000.000000</td>\n",
       "      <td>849420.000000</td>\n",
       "      <td>1948.500000</td>\n",
       "      <td>20.060000</td>\n",
       "      <td>5.000000</td>\n",
       "      <td>4.602060</td>\n",
       "      <td>39726.850000</td>\n",
       "    </tr>\n",
       "  </tbody>\n",
       "</table>\n",
       "</div>"
      ],
      "text/plain": [
       "        Temperature              L            R         A_M        Type  \\\n",
       "count    240.000000     240.000000   240.000000  240.000000  240.000000   \n",
       "mean   10505.512500  107188.366625   237.160406    4.319396    2.508333   \n",
       "std     9546.950396  179432.241947   517.154557   10.507200    1.704023   \n",
       "min     1939.000000       0.000080     0.008400  -11.920000    0.000000   \n",
       "25%     3360.000000       0.000865     0.102750   -6.232500    1.000000   \n",
       "50%     5776.000000       0.119000     0.797500    6.367000    2.500000   \n",
       "75%    15055.500000  198050.000000    42.750000   13.667750    4.000000   \n",
       "max    40000.000000  849420.000000  1948.500000   20.060000    5.000000   \n",
       "\n",
       "       Log_Temperature  Temperature_C  \n",
       "count       240.000000     240.000000  \n",
       "mean          3.857848   10232.362500  \n",
       "std           0.371604    9546.950396  \n",
       "min           3.287578    1665.850000  \n",
       "25%           3.526338    3086.850000  \n",
       "50%           3.761623    5502.850000  \n",
       "75%           4.177680   14782.350000  \n",
       "max           4.602060   39726.850000  "
      ]
     },
     "execution_count": 115,
     "metadata": {},
     "output_type": "execute_result"
    }
   ],
   "source": [
    "df.describe()"
   ]
  },
  {
   "cell_type": "code",
   "execution_count": 117,
   "id": "6dfbb69c-ccc4-402f-a127-8714d63f4455",
   "metadata": {},
   "outputs": [],
   "source": [
    "df = df[(df['Temperature'] >= 1500) & (df['Temperature'] <= 40000)]"
   ]
  },
  {
   "cell_type": "code",
   "execution_count": 119,
   "id": "8e6ea240-d038-4f90-9ace-10d222ea2303",
   "metadata": {},
   "outputs": [],
   "source": [
    "df = df[(df['R'] > 0) & (df['L'] > 0)]"
   ]
  },
  {
   "cell_type": "code",
   "execution_count": 121,
   "id": "216e9215-87da-401b-b585-563b73d3f6bb",
   "metadata": {},
   "outputs": [
    {
     "data": {
      "text/plain": [
       "125    M\n",
       "66     M\n",
       "130    M\n",
       "57     M\n",
       "197    M\n",
       "Name: Spectral_Class, dtype: object"
      ]
     },
     "execution_count": 121,
     "metadata": {},
     "output_type": "execute_result"
    }
   ],
   "source": [
    "df['Spectral_Class'].sample(5)"
   ]
  },
  {
   "cell_type": "code",
   "execution_count": 123,
   "id": "4cce73d4-2c90-448c-a703-993e0893fb12",
   "metadata": {},
   "outputs": [
    {
     "data": {
      "text/plain": [
       "237.160406375"
      ]
     },
     "execution_count": 123,
     "metadata": {},
     "output_type": "execute_result"
    }
   ],
   "source": [
    "np.mean(df['R'].to_numpy())"
   ]
  },
  {
   "cell_type": "code",
   "execution_count": 127,
   "id": "16688222-685d-4a06-86e6-b991c27f4bab",
   "metadata": {},
   "outputs": [
    {
     "data": {
      "text/plain": [
       "ShapiroResult(statistic=0.7701523765476909, pvalue=3.306249502426371e-11)"
      ]
     },
     "execution_count": 127,
     "metadata": {},
     "output_type": "execute_result"
    }
   ],
   "source": [
    "stats.shapiro(df['Temperature'].sample(100))"
   ]
  },
  {
   "cell_type": "code",
   "execution_count": 129,
   "id": "1b61f43b-32e6-49ea-bf4d-83a0aa7293e8",
   "metadata": {},
   "outputs": [],
   "source": [
    "new_star = {\n",
    "    'Temperature': 5500,\n",
    "    'L': 1.0,\n",
    "    'R': 1.0,\n",
    "    'A_M': 4.83,\n",
    "    'Color': 'Yellow',\n",
    "    'Spectral_Class': 'G',\n",
    "    'Type': 2,\n",
    "    'Inv_Temp': 1 / 5500\n",
    "}\n",
    "df.loc[len(df)] = new_star"
   ]
  },
  {
   "cell_type": "code",
   "execution_count": 131,
   "id": "2187e156-8a4a-41be-be3b-d1968b4f1145",
   "metadata": {},
   "outputs": [],
   "source": [
    "df = df.iloc[:-1]"
   ]
  },
  {
   "cell_type": "code",
   "execution_count": 133,
   "id": "e20f74d4-3232-45ae-b20d-440cc3a6ac9e",
   "metadata": {},
   "outputs": [
    {
     "data": {
      "text/plain": [
       "array(['M', 'B', 'A', 'F', 'O', 'K', 'G'], dtype=object)"
      ]
     },
     "execution_count": 133,
     "metadata": {},
     "output_type": "execute_result"
    }
   ],
   "source": [
    "df['Spectral_Class'].unique()"
   ]
  },
  {
   "cell_type": "code",
   "execution_count": 135,
   "id": "0371a1c9-3739-4665-b405-a68eef46500a",
   "metadata": {},
   "outputs": [
    {
     "data": {
      "text/plain": [
       "Spectral_Class\n",
       "A     49860.247538\n",
       "B     78179.393322\n",
       "F         1.383960\n",
       "G    229000.000000\n",
       "K    152000.204167\n",
       "M     61981.820378\n",
       "O    330564.625000\n",
       "Name: L, dtype: float64"
      ]
     },
     "execution_count": 135,
     "metadata": {},
     "output_type": "execute_result"
    }
   ],
   "source": [
    "df.groupby('Spectral_Class')['L'].mean()"
   ]
  },
  {
   "cell_type": "code",
   "execution_count": 139,
   "id": "61b38d1d-db01-41b6-9758-e607222717d7",
   "metadata": {},
   "outputs": [
    {
     "data": {
      "text/html": [
       "<div>\n",
       "<style scoped>\n",
       "    .dataframe tbody tr th:only-of-type {\n",
       "        vertical-align: middle;\n",
       "    }\n",
       "\n",
       "    .dataframe tbody tr th {\n",
       "        vertical-align: top;\n",
       "    }\n",
       "\n",
       "    .dataframe thead th {\n",
       "        text-align: right;\n",
       "    }\n",
       "</style>\n",
       "<table border=\"1\" class=\"dataframe\">\n",
       "  <thead>\n",
       "    <tr style=\"text-align: right;\">\n",
       "      <th></th>\n",
       "      <th>Temperature</th>\n",
       "      <th>L</th>\n",
       "      <th>R</th>\n",
       "      <th>A_M</th>\n",
       "      <th>Color</th>\n",
       "      <th>Spectral_Class</th>\n",
       "      <th>Type</th>\n",
       "      <th>Log_Temperature</th>\n",
       "      <th>Temperature_C</th>\n",
       "    </tr>\n",
       "  </thead>\n",
       "  <tbody>\n",
       "    <tr>\n",
       "      <th>56</th>\n",
       "      <td>3660</td>\n",
       "      <td>363000.0</td>\n",
       "      <td>1673.0</td>\n",
       "      <td>-11.92</td>\n",
       "      <td>Red</td>\n",
       "      <td>M</td>\n",
       "      <td>5</td>\n",
       "      <td>3.563481</td>\n",
       "      <td>3386.85</td>\n",
       "    </tr>\n",
       "    <tr>\n",
       "      <th>55</th>\n",
       "      <td>3450</td>\n",
       "      <td>263000.0</td>\n",
       "      <td>1349.0</td>\n",
       "      <td>-11.75</td>\n",
       "      <td>Red</td>\n",
       "      <td>M</td>\n",
       "      <td>5</td>\n",
       "      <td>3.537819</td>\n",
       "      <td>3176.85</td>\n",
       "    </tr>\n",
       "    <tr>\n",
       "      <th>116</th>\n",
       "      <td>4015</td>\n",
       "      <td>282000.0</td>\n",
       "      <td>1534.0</td>\n",
       "      <td>-11.39</td>\n",
       "      <td>Red</td>\n",
       "      <td>K</td>\n",
       "      <td>5</td>\n",
       "      <td>3.603686</td>\n",
       "      <td>3741.85</td>\n",
       "    </tr>\n",
       "    <tr>\n",
       "      <th>59</th>\n",
       "      <td>3535</td>\n",
       "      <td>195000.0</td>\n",
       "      <td>1546.0</td>\n",
       "      <td>-11.36</td>\n",
       "      <td>Red</td>\n",
       "      <td>M</td>\n",
       "      <td>5</td>\n",
       "      <td>3.548389</td>\n",
       "      <td>3261.85</td>\n",
       "    </tr>\n",
       "    <tr>\n",
       "      <th>112</th>\n",
       "      <td>3615</td>\n",
       "      <td>200000.0</td>\n",
       "      <td>1635.0</td>\n",
       "      <td>-11.33</td>\n",
       "      <td>Red</td>\n",
       "      <td>M</td>\n",
       "      <td>5</td>\n",
       "      <td>3.558108</td>\n",
       "      <td>3341.85</td>\n",
       "    </tr>\n",
       "  </tbody>\n",
       "</table>\n",
       "</div>"
      ],
      "text/plain": [
       "     Temperature         L       R    A_M Color Spectral_Class  Type  \\\n",
       "56          3660  363000.0  1673.0 -11.92   Red              M     5   \n",
       "55          3450  263000.0  1349.0 -11.75   Red              M     5   \n",
       "116         4015  282000.0  1534.0 -11.39   Red              K     5   \n",
       "59          3535  195000.0  1546.0 -11.36   Red              M     5   \n",
       "112         3615  200000.0  1635.0 -11.33   Red              M     5   \n",
       "\n",
       "     Log_Temperature  Temperature_C  \n",
       "56          3.563481        3386.85  \n",
       "55          3.537819        3176.85  \n",
       "116         3.603686        3741.85  \n",
       "59          3.548389        3261.85  \n",
       "112         3.558108        3341.85  "
      ]
     },
     "execution_count": 139,
     "metadata": {},
     "output_type": "execute_result"
    }
   ],
   "source": [
    "df.sort_values(by='A_M').head()"
   ]
  },
  {
   "cell_type": "code",
   "execution_count": 141,
   "id": "ca54ac36-b547-4ac1-a536-0f941416a4f6",
   "metadata": {},
   "outputs": [
    {
     "data": {
      "text/html": [
       "<div>\n",
       "<style scoped>\n",
       "    .dataframe tbody tr th:only-of-type {\n",
       "        vertical-align: middle;\n",
       "    }\n",
       "\n",
       "    .dataframe tbody tr th {\n",
       "        vertical-align: top;\n",
       "    }\n",
       "\n",
       "    .dataframe thead th {\n",
       "        text-align: right;\n",
       "    }\n",
       "</style>\n",
       "<table border=\"1\" class=\"dataframe\">\n",
       "  <thead>\n",
       "    <tr style=\"text-align: right;\">\n",
       "      <th></th>\n",
       "      <th>Temperature</th>\n",
       "      <th>L</th>\n",
       "      <th>R</th>\n",
       "      <th>A_M</th>\n",
       "      <th>Color</th>\n",
       "      <th>Spectral_Class</th>\n",
       "      <th>Type</th>\n",
       "      <th>Log_Temperature</th>\n",
       "      <th>Temperature_C</th>\n",
       "    </tr>\n",
       "  </thead>\n",
       "  <tbody>\n",
       "    <tr>\n",
       "      <th>30</th>\n",
       "      <td>39000</td>\n",
       "      <td>204000.0</td>\n",
       "      <td>10.600</td>\n",
       "      <td>-4.70</td>\n",
       "      <td>Blue</td>\n",
       "      <td>O</td>\n",
       "      <td>3</td>\n",
       "      <td>4.591065</td>\n",
       "      <td>38726.85</td>\n",
       "    </tr>\n",
       "    <tr>\n",
       "      <th>99</th>\n",
       "      <td>36108</td>\n",
       "      <td>198000.0</td>\n",
       "      <td>10.200</td>\n",
       "      <td>-4.40</td>\n",
       "      <td>Blue</td>\n",
       "      <td>O</td>\n",
       "      <td>3</td>\n",
       "      <td>4.557603</td>\n",
       "      <td>35834.85</td>\n",
       "    </tr>\n",
       "    <tr>\n",
       "      <th>101</th>\n",
       "      <td>40000</td>\n",
       "      <td>813000.0</td>\n",
       "      <td>14.000</td>\n",
       "      <td>-6.23</td>\n",
       "      <td>Blue</td>\n",
       "      <td>O</td>\n",
       "      <td>4</td>\n",
       "      <td>4.602060</td>\n",
       "      <td>39726.85</td>\n",
       "    </tr>\n",
       "    <tr>\n",
       "      <th>109</th>\n",
       "      <td>33421</td>\n",
       "      <td>352000.0</td>\n",
       "      <td>67.000</td>\n",
       "      <td>-5.79</td>\n",
       "      <td>Blue</td>\n",
       "      <td>O</td>\n",
       "      <td>4</td>\n",
       "      <td>4.524019</td>\n",
       "      <td>33147.85</td>\n",
       "    </tr>\n",
       "    <tr>\n",
       "      <th>159</th>\n",
       "      <td>37800</td>\n",
       "      <td>202900.0</td>\n",
       "      <td>6.860</td>\n",
       "      <td>-4.56</td>\n",
       "      <td>Blue</td>\n",
       "      <td>O</td>\n",
       "      <td>3</td>\n",
       "      <td>4.577492</td>\n",
       "      <td>37526.85</td>\n",
       "    </tr>\n",
       "    <tr>\n",
       "      <th>214</th>\n",
       "      <td>34190</td>\n",
       "      <td>198200.0</td>\n",
       "      <td>6.390</td>\n",
       "      <td>-4.57</td>\n",
       "      <td>Blue</td>\n",
       "      <td>O</td>\n",
       "      <td>3</td>\n",
       "      <td>4.533899</td>\n",
       "      <td>33916.85</td>\n",
       "    </tr>\n",
       "    <tr>\n",
       "      <th>215</th>\n",
       "      <td>32460</td>\n",
       "      <td>173800.0</td>\n",
       "      <td>6.237</td>\n",
       "      <td>-4.36</td>\n",
       "      <td>Blue</td>\n",
       "      <td>O</td>\n",
       "      <td>3</td>\n",
       "      <td>4.511349</td>\n",
       "      <td>32186.85</td>\n",
       "    </tr>\n",
       "    <tr>\n",
       "      <th>231</th>\n",
       "      <td>38234</td>\n",
       "      <td>272830.0</td>\n",
       "      <td>1356.000</td>\n",
       "      <td>-9.29</td>\n",
       "      <td>Blue</td>\n",
       "      <td>O</td>\n",
       "      <td>5</td>\n",
       "      <td>4.582450</td>\n",
       "      <td>37960.85</td>\n",
       "    </tr>\n",
       "    <tr>\n",
       "      <th>232</th>\n",
       "      <td>32489</td>\n",
       "      <td>648430.0</td>\n",
       "      <td>1948.500</td>\n",
       "      <td>-10.84</td>\n",
       "      <td>Blue</td>\n",
       "      <td>O</td>\n",
       "      <td>5</td>\n",
       "      <td>4.511736</td>\n",
       "      <td>32215.85</td>\n",
       "    </tr>\n",
       "    <tr>\n",
       "      <th>235</th>\n",
       "      <td>38940</td>\n",
       "      <td>374830.0</td>\n",
       "      <td>1356.000</td>\n",
       "      <td>-9.93</td>\n",
       "      <td>Blue</td>\n",
       "      <td>O</td>\n",
       "      <td>5</td>\n",
       "      <td>4.590396</td>\n",
       "      <td>38666.85</td>\n",
       "    </tr>\n",
       "    <tr>\n",
       "      <th>236</th>\n",
       "      <td>30839</td>\n",
       "      <td>834042.0</td>\n",
       "      <td>1194.000</td>\n",
       "      <td>-10.63</td>\n",
       "      <td>Blue</td>\n",
       "      <td>O</td>\n",
       "      <td>5</td>\n",
       "      <td>4.489100</td>\n",
       "      <td>30565.85</td>\n",
       "    </tr>\n",
       "    <tr>\n",
       "      <th>239</th>\n",
       "      <td>37882</td>\n",
       "      <td>294903.0</td>\n",
       "      <td>1783.000</td>\n",
       "      <td>-7.80</td>\n",
       "      <td>Blue</td>\n",
       "      <td>O</td>\n",
       "      <td>5</td>\n",
       "      <td>4.578433</td>\n",
       "      <td>37608.85</td>\n",
       "    </tr>\n",
       "  </tbody>\n",
       "</table>\n",
       "</div>"
      ],
      "text/plain": [
       "     Temperature         L         R    A_M Color Spectral_Class  Type  \\\n",
       "30         39000  204000.0    10.600  -4.70  Blue              O     3   \n",
       "99         36108  198000.0    10.200  -4.40  Blue              O     3   \n",
       "101        40000  813000.0    14.000  -6.23  Blue              O     4   \n",
       "109        33421  352000.0    67.000  -5.79  Blue              O     4   \n",
       "159        37800  202900.0     6.860  -4.56  Blue              O     3   \n",
       "214        34190  198200.0     6.390  -4.57  Blue              O     3   \n",
       "215        32460  173800.0     6.237  -4.36  Blue              O     3   \n",
       "231        38234  272830.0  1356.000  -9.29  Blue              O     5   \n",
       "232        32489  648430.0  1948.500 -10.84  Blue              O     5   \n",
       "235        38940  374830.0  1356.000  -9.93  Blue              O     5   \n",
       "236        30839  834042.0  1194.000 -10.63  Blue              O     5   \n",
       "239        37882  294903.0  1783.000  -7.80  Blue              O     5   \n",
       "\n",
       "     Log_Temperature  Temperature_C  \n",
       "30          4.591065       38726.85  \n",
       "99          4.557603       35834.85  \n",
       "101         4.602060       39726.85  \n",
       "109         4.524019       33147.85  \n",
       "159         4.577492       37526.85  \n",
       "214         4.533899       33916.85  \n",
       "215         4.511349       32186.85  \n",
       "231         4.582450       37960.85  \n",
       "232         4.511736       32215.85  \n",
       "235         4.590396       38666.85  \n",
       "236         4.489100       30565.85  \n",
       "239         4.578433       37608.85  "
      ]
     },
     "execution_count": 141,
     "metadata": {},
     "output_type": "execute_result"
    }
   ],
   "source": [
    "df[(df['Spectral_Class'] == 'O') & (df['Temperature'] > 30000)]"
   ]
  },
  {
   "cell_type": "code",
   "execution_count": 145,
   "id": "87f0dcaf-bc8f-43b3-8e91-9abd551d9ed9",
   "metadata": {},
   "outputs": [
    {
     "name": "stdout",
     "output_type": "stream",
     "text": [
      "Количество звезд с температурой выше медианы: 119\n"
     ]
    }
   ],
   "source": [
    "median_temp = df['Temperature'].median()\n",
    "high_temp_count = sum(1 for t in df['Temperature'] if t > median_temp)\n",
    "print(\"Количество звезд с температурой выше медианы:\", high_temp_count)"
   ]
  },
  {
   "cell_type": "code",
   "execution_count": 147,
   "id": "2c3bf2e2-f2b9-4204-8020-18a5296cef28",
   "metadata": {},
   "outputs": [
    {
     "name": "stdout",
     "output_type": "stream",
     "text": [
      "Датасет после добавления строки и столбца:\n",
      "     Temperature    L    R  A_M   Color Spectral_Class           Type  \\\n",
      "239         5800  0.9  1.6  4.1  Yellow              G  Main Sequence   \n",
      "\n",
      "     Log_Temperature  Temperature_C     Log_R  \n",
      "239              NaN            NaN  0.955511  \n"
     ]
    }
   ],
   "source": [
    "df['Log_R'] = np.log1p(df['R'])\n",
    "new_row = pd.DataFrame({\n",
    "    'Temperature': [5800], 'L': [0.9], 'R': [1.6], 'A_M': [4.1],\n",
    "    'Color': ['Yellow'], 'Spectral_Class': ['G'], 'Type': ['Main Sequence'],\n",
    "    'Log_R': [np.log1p(1.6)]\n",
    "})\n",
    "df = pd.concat([df, new_row], ignore_index=True)\n",
    "print(\"Датасет после добавления строки и столбца:\")\n",
    "print(df.tail(1))"
   ]
  },
  {
   "cell_type": "code",
   "execution_count": 151,
   "id": "9c22aeb6-1212-4b57-92b5-7cd51aaea8b4",
   "metadata": {},
   "outputs": [
    {
     "data": {
      "text/plain": [
       "0"
      ]
     },
     "execution_count": 151,
     "metadata": {},
     "output_type": "execute_result"
    }
   ],
   "source": [
    "df.duplicated().sum()"
   ]
  },
  {
   "cell_type": "code",
   "execution_count": 153,
   "id": "ce29b86c-d669-4dcf-95a4-2a182a2ca1ed",
   "metadata": {},
   "outputs": [],
   "source": [
    "for col in ['Temperature', 'L', 'R', 'A_M']:\n",
    "    Q1 = df[col].quantile(0.25)\n",
    "    Q3 = df[col].quantile(0.75)\n",
    "    IQR = Q3 - Q1\n",
    "    lower_bound = Q1 - 1.5 * IQR\n",
    "    upper_bound = Q3 + 1.5 * IQR\n",
    "    df[col] = df[col].clip(lower=lower_bound, upper=upper_bound)"
   ]
  },
  {
   "cell_type": "code",
   "execution_count": 157,
   "id": "e5aece9f-67f6-4a12-b016-3856e809778c",
   "metadata": {},
   "outputs": [],
   "source": [
    "for col in ['Color', 'Spectral_Class']:\n",
    "    value_counts = df[col].value_counts(normalize=True)\n",
    "    rare_categories = value_counts[value_counts < 0.01].index\n",
    "    if not rare_categories.empty:\n",
    "        df.loc[df[col].isin(rare_categories), col] = df[col].mode()[0]"
   ]
  },
  {
   "cell_type": "code",
   "execution_count": 169,
   "id": "9e47912a-63c6-434e-a16a-1e7bd9589c65",
   "metadata": {},
   "outputs": [
    {
     "name": "stdout",
     "output_type": "stream",
     "text": [
      "[0 1 2 3 4 5 'Main Sequence']\n"
     ]
    }
   ],
   "source": [
    "print(df['Type'].unique())\n"
   ]
  },
  {
   "cell_type": "code",
   "execution_count": 171,
   "id": "8915f965-f1ef-474d-8d14-20fb21085f3c",
   "metadata": {},
   "outputs": [],
   "source": [
    "df['Type'] = df['Type'].astype(str)\n",
    "df['Type_Encoded'] = le_type.fit_transform(df['Type'])"
   ]
  },
  {
   "cell_type": "code",
   "execution_count": 191,
   "id": "7123aae4-bbcb-4bb9-9154-ee08e0daf956",
   "metadata": {},
   "outputs": [
    {
     "name": "stdout",
     "output_type": "stream",
     "text": [
      "\n",
      "Первые 5 строк после масштабирования:\n",
      "   Temperature         L         R       A_M  Color_Encoded  \\\n",
      "0    -0.806330 -0.658977 -0.649249  1.170235       0.484021   \n",
      "1    -0.855264 -0.658977 -0.650506  1.370557       0.484021   \n",
      "2    -0.833122 -0.658977 -0.649110  1.175004       0.484021   \n",
      "3    -0.928442 -0.658977 -0.650482  1.500290       0.484021   \n",
      "4    -0.828694 -0.658977 -0.650313  1.206484       0.484021   \n",
      "\n",
      "   Spectral_Class_Encoded  \n",
      "0                0.545528  \n",
      "1                0.545528  \n",
      "2                0.545528  \n",
      "3                0.545528  \n",
      "4                0.545528  \n"
     ]
    }
   ],
   "source": [
    "from sklearn.preprocessing import StandardScaler\n",
    "# Масштабирование числовых признаков\n",
    "\n",
    "features = ['Temperature', 'L', 'R', 'A_M', 'Color_Encoded', 'Spectral_Class_Encoded']\n",
    "scaler = StandardScaler()\n",
    "df[features] = scaler.fit_transform(df[features])\n",
    "# Вывод\n",
    "print(\"\\nПервые 5 строк после масштабирования:\")\n",
    "print(df[features].head())"
   ]
  },
  {
   "cell_type": "code",
   "execution_count": 209,
   "id": "c6e58523-cd13-46d7-9d2c-cb29ff0e63a7",
   "metadata": {},
   "outputs": [
    {
     "name": "stdout",
     "output_type": "stream",
     "text": [
      "\n",
      "Размеры выборок:\n",
      "Обучающая: (192, 6) Тестовая: (48, 6)\n"
     ]
    }
   ],
   "source": [
    "from sklearn.model_selection import train_test_split\n",
    "\n",
    "# Разделение данных\n",
    "# признаки (X) и целевая переменная (y)\n",
    "# Обучающая (80%) и тестовая (20%) выборки\n",
    "\n",
    "X = df[['Temperature', 'L', 'R', 'A_M', 'Color_Encoded', 'Spectral_Class_Encoded']]\n",
    "y = df['Type_Encoded']\n",
    "X_train, X_test, y_train, y_test = train_test_split(X, y, test_size=0.2, random_state=42)\n",
    "\n",
    "# Размеры выборок для проверки\n",
    "print(\"\\nРазмеры выборок:\")\n",
    "print(\"Обучающая:\", X_train.shape, \"Тестовая:\", X_test.shape)"
   ]
  },
  {
   "cell_type": "code",
   "execution_count": 193,
   "id": "1f92fac1-6386-48c2-909c-9047b0b2fa7e",
   "metadata": {},
   "outputs": [],
   "source": [
    "import numpy as np\n",
    "from sklearn.ensemble import RandomForestClassifier\n",
    "from sklearn.metrics import accuracy_score, classification_report, confusion_matrix\n",
    "from sklearn.model_selection import cross_val_score\n",
    "import warnings\n",
    "warnings.filterwarnings('ignore')"
   ]
  },
  {
   "cell_type": "code",
   "execution_count": 195,
   "id": "5d2fe5cd-ad06-494e-b804-7b8862943b20",
   "metadata": {},
   "outputs": [
    {
     "name": "stdout",
     "output_type": "stream",
     "text": [
      "Столбцы датасета: ['Temperature', 'L', 'R', 'A_M', 'Log_Temperature', 'Temperature_C', 'Log_R', 'Color_Encoded', 'Spectral_Class_Encoded', 'Type_Encoded']\n"
     ]
    }
   ],
   "source": [
    "# Проверка готовности данных\n",
    "\n",
    "required_columns = ['Temperature', 'L', 'R', 'A_M', 'Color_Encoded', 'Spectral_Class_Encoded', 'Type_Encoded']\n",
    "if not all(col in df.columns for col in required_columns):\n",
    "    raise ValueError(\"Отсутствуют необходимые столбцы в датасете\")\n",
    "# Вывод\n",
    "print(\"Столбцы датасета:\", df.columns.tolist())"
   ]
  },
  {
   "cell_type": "code",
   "execution_count": 199,
   "id": "35344b68-3b34-48f6-8bf4-217e9f8e3360",
   "metadata": {},
   "outputs": [
    {
     "data": {
      "text/html": [
       "<style>#sk-container-id-1 {\n",
       "  /* Definition of color scheme common for light and dark mode */\n",
       "  --sklearn-color-text: black;\n",
       "  --sklearn-color-line: gray;\n",
       "  /* Definition of color scheme for unfitted estimators */\n",
       "  --sklearn-color-unfitted-level-0: #fff5e6;\n",
       "  --sklearn-color-unfitted-level-1: #f6e4d2;\n",
       "  --sklearn-color-unfitted-level-2: #ffe0b3;\n",
       "  --sklearn-color-unfitted-level-3: chocolate;\n",
       "  /* Definition of color scheme for fitted estimators */\n",
       "  --sklearn-color-fitted-level-0: #f0f8ff;\n",
       "  --sklearn-color-fitted-level-1: #d4ebff;\n",
       "  --sklearn-color-fitted-level-2: #b3dbfd;\n",
       "  --sklearn-color-fitted-level-3: cornflowerblue;\n",
       "\n",
       "  /* Specific color for light theme */\n",
       "  --sklearn-color-text-on-default-background: var(--sg-text-color, var(--theme-code-foreground, var(--jp-content-font-color1, black)));\n",
       "  --sklearn-color-background: var(--sg-background-color, var(--theme-background, var(--jp-layout-color0, white)));\n",
       "  --sklearn-color-border-box: var(--sg-text-color, var(--theme-code-foreground, var(--jp-content-font-color1, black)));\n",
       "  --sklearn-color-icon: #696969;\n",
       "\n",
       "  @media (prefers-color-scheme: dark) {\n",
       "    /* Redefinition of color scheme for dark theme */\n",
       "    --sklearn-color-text-on-default-background: var(--sg-text-color, var(--theme-code-foreground, var(--jp-content-font-color1, white)));\n",
       "    --sklearn-color-background: var(--sg-background-color, var(--theme-background, var(--jp-layout-color0, #111)));\n",
       "    --sklearn-color-border-box: var(--sg-text-color, var(--theme-code-foreground, var(--jp-content-font-color1, white)));\n",
       "    --sklearn-color-icon: #878787;\n",
       "  }\n",
       "}\n",
       "\n",
       "#sk-container-id-1 {\n",
       "  color: var(--sklearn-color-text);\n",
       "}\n",
       "\n",
       "#sk-container-id-1 pre {\n",
       "  padding: 0;\n",
       "}\n",
       "\n",
       "#sk-container-id-1 input.sk-hidden--visually {\n",
       "  border: 0;\n",
       "  clip: rect(1px 1px 1px 1px);\n",
       "  clip: rect(1px, 1px, 1px, 1px);\n",
       "  height: 1px;\n",
       "  margin: -1px;\n",
       "  overflow: hidden;\n",
       "  padding: 0;\n",
       "  position: absolute;\n",
       "  width: 1px;\n",
       "}\n",
       "\n",
       "#sk-container-id-1 div.sk-dashed-wrapped {\n",
       "  border: 1px dashed var(--sklearn-color-line);\n",
       "  margin: 0 0.4em 0.5em 0.4em;\n",
       "  box-sizing: border-box;\n",
       "  padding-bottom: 0.4em;\n",
       "  background-color: var(--sklearn-color-background);\n",
       "}\n",
       "\n",
       "#sk-container-id-1 div.sk-container {\n",
       "  /* jupyter's `normalize.less` sets `[hidden] { display: none; }`\n",
       "     but bootstrap.min.css set `[hidden] { display: none !important; }`\n",
       "     so we also need the `!important` here to be able to override the\n",
       "     default hidden behavior on the sphinx rendered scikit-learn.org.\n",
       "     See: https://github.com/scikit-learn/scikit-learn/issues/21755 */\n",
       "  display: inline-block !important;\n",
       "  position: relative;\n",
       "}\n",
       "\n",
       "#sk-container-id-1 div.sk-text-repr-fallback {\n",
       "  display: none;\n",
       "}\n",
       "\n",
       "div.sk-parallel-item,\n",
       "div.sk-serial,\n",
       "div.sk-item {\n",
       "  /* draw centered vertical line to link estimators */\n",
       "  background-image: linear-gradient(var(--sklearn-color-text-on-default-background), var(--sklearn-color-text-on-default-background));\n",
       "  background-size: 2px 100%;\n",
       "  background-repeat: no-repeat;\n",
       "  background-position: center center;\n",
       "}\n",
       "\n",
       "/* Parallel-specific style estimator block */\n",
       "\n",
       "#sk-container-id-1 div.sk-parallel-item::after {\n",
       "  content: \"\";\n",
       "  width: 100%;\n",
       "  border-bottom: 2px solid var(--sklearn-color-text-on-default-background);\n",
       "  flex-grow: 1;\n",
       "}\n",
       "\n",
       "#sk-container-id-1 div.sk-parallel {\n",
       "  display: flex;\n",
       "  align-items: stretch;\n",
       "  justify-content: center;\n",
       "  background-color: var(--sklearn-color-background);\n",
       "  position: relative;\n",
       "}\n",
       "\n",
       "#sk-container-id-1 div.sk-parallel-item {\n",
       "  display: flex;\n",
       "  flex-direction: column;\n",
       "}\n",
       "\n",
       "#sk-container-id-1 div.sk-parallel-item:first-child::after {\n",
       "  align-self: flex-end;\n",
       "  width: 50%;\n",
       "}\n",
       "\n",
       "#sk-container-id-1 div.sk-parallel-item:last-child::after {\n",
       "  align-self: flex-start;\n",
       "  width: 50%;\n",
       "}\n",
       "\n",
       "#sk-container-id-1 div.sk-parallel-item:only-child::after {\n",
       "  width: 0;\n",
       "}\n",
       "\n",
       "/* Serial-specific style estimator block */\n",
       "\n",
       "#sk-container-id-1 div.sk-serial {\n",
       "  display: flex;\n",
       "  flex-direction: column;\n",
       "  align-items: center;\n",
       "  background-color: var(--sklearn-color-background);\n",
       "  padding-right: 1em;\n",
       "  padding-left: 1em;\n",
       "}\n",
       "\n",
       "\n",
       "/* Toggleable style: style used for estimator/Pipeline/ColumnTransformer box that is\n",
       "clickable and can be expanded/collapsed.\n",
       "- Pipeline and ColumnTransformer use this feature and define the default style\n",
       "- Estimators will overwrite some part of the style using the `sk-estimator` class\n",
       "*/\n",
       "\n",
       "/* Pipeline and ColumnTransformer style (default) */\n",
       "\n",
       "#sk-container-id-1 div.sk-toggleable {\n",
       "  /* Default theme specific background. It is overwritten whether we have a\n",
       "  specific estimator or a Pipeline/ColumnTransformer */\n",
       "  background-color: var(--sklearn-color-background);\n",
       "}\n",
       "\n",
       "/* Toggleable label */\n",
       "#sk-container-id-1 label.sk-toggleable__label {\n",
       "  cursor: pointer;\n",
       "  display: block;\n",
       "  width: 100%;\n",
       "  margin-bottom: 0;\n",
       "  padding: 0.5em;\n",
       "  box-sizing: border-box;\n",
       "  text-align: center;\n",
       "}\n",
       "\n",
       "#sk-container-id-1 label.sk-toggleable__label-arrow:before {\n",
       "  /* Arrow on the left of the label */\n",
       "  content: \"▸\";\n",
       "  float: left;\n",
       "  margin-right: 0.25em;\n",
       "  color: var(--sklearn-color-icon);\n",
       "}\n",
       "\n",
       "#sk-container-id-1 label.sk-toggleable__label-arrow:hover:before {\n",
       "  color: var(--sklearn-color-text);\n",
       "}\n",
       "\n",
       "/* Toggleable content - dropdown */\n",
       "\n",
       "#sk-container-id-1 div.sk-toggleable__content {\n",
       "  max-height: 0;\n",
       "  max-width: 0;\n",
       "  overflow: hidden;\n",
       "  text-align: left;\n",
       "  /* unfitted */\n",
       "  background-color: var(--sklearn-color-unfitted-level-0);\n",
       "}\n",
       "\n",
       "#sk-container-id-1 div.sk-toggleable__content.fitted {\n",
       "  /* fitted */\n",
       "  background-color: var(--sklearn-color-fitted-level-0);\n",
       "}\n",
       "\n",
       "#sk-container-id-1 div.sk-toggleable__content pre {\n",
       "  margin: 0.2em;\n",
       "  border-radius: 0.25em;\n",
       "  color: var(--sklearn-color-text);\n",
       "  /* unfitted */\n",
       "  background-color: var(--sklearn-color-unfitted-level-0);\n",
       "}\n",
       "\n",
       "#sk-container-id-1 div.sk-toggleable__content.fitted pre {\n",
       "  /* unfitted */\n",
       "  background-color: var(--sklearn-color-fitted-level-0);\n",
       "}\n",
       "\n",
       "#sk-container-id-1 input.sk-toggleable__control:checked~div.sk-toggleable__content {\n",
       "  /* Expand drop-down */\n",
       "  max-height: 200px;\n",
       "  max-width: 100%;\n",
       "  overflow: auto;\n",
       "}\n",
       "\n",
       "#sk-container-id-1 input.sk-toggleable__control:checked~label.sk-toggleable__label-arrow:before {\n",
       "  content: \"▾\";\n",
       "}\n",
       "\n",
       "/* Pipeline/ColumnTransformer-specific style */\n",
       "\n",
       "#sk-container-id-1 div.sk-label input.sk-toggleable__control:checked~label.sk-toggleable__label {\n",
       "  color: var(--sklearn-color-text);\n",
       "  background-color: var(--sklearn-color-unfitted-level-2);\n",
       "}\n",
       "\n",
       "#sk-container-id-1 div.sk-label.fitted input.sk-toggleable__control:checked~label.sk-toggleable__label {\n",
       "  background-color: var(--sklearn-color-fitted-level-2);\n",
       "}\n",
       "\n",
       "/* Estimator-specific style */\n",
       "\n",
       "/* Colorize estimator box */\n",
       "#sk-container-id-1 div.sk-estimator input.sk-toggleable__control:checked~label.sk-toggleable__label {\n",
       "  /* unfitted */\n",
       "  background-color: var(--sklearn-color-unfitted-level-2);\n",
       "}\n",
       "\n",
       "#sk-container-id-1 div.sk-estimator.fitted input.sk-toggleable__control:checked~label.sk-toggleable__label {\n",
       "  /* fitted */\n",
       "  background-color: var(--sklearn-color-fitted-level-2);\n",
       "}\n",
       "\n",
       "#sk-container-id-1 div.sk-label label.sk-toggleable__label,\n",
       "#sk-container-id-1 div.sk-label label {\n",
       "  /* The background is the default theme color */\n",
       "  color: var(--sklearn-color-text-on-default-background);\n",
       "}\n",
       "\n",
       "/* On hover, darken the color of the background */\n",
       "#sk-container-id-1 div.sk-label:hover label.sk-toggleable__label {\n",
       "  color: var(--sklearn-color-text);\n",
       "  background-color: var(--sklearn-color-unfitted-level-2);\n",
       "}\n",
       "\n",
       "/* Label box, darken color on hover, fitted */\n",
       "#sk-container-id-1 div.sk-label.fitted:hover label.sk-toggleable__label.fitted {\n",
       "  color: var(--sklearn-color-text);\n",
       "  background-color: var(--sklearn-color-fitted-level-2);\n",
       "}\n",
       "\n",
       "/* Estimator label */\n",
       "\n",
       "#sk-container-id-1 div.sk-label label {\n",
       "  font-family: monospace;\n",
       "  font-weight: bold;\n",
       "  display: inline-block;\n",
       "  line-height: 1.2em;\n",
       "}\n",
       "\n",
       "#sk-container-id-1 div.sk-label-container {\n",
       "  text-align: center;\n",
       "}\n",
       "\n",
       "/* Estimator-specific */\n",
       "#sk-container-id-1 div.sk-estimator {\n",
       "  font-family: monospace;\n",
       "  border: 1px dotted var(--sklearn-color-border-box);\n",
       "  border-radius: 0.25em;\n",
       "  box-sizing: border-box;\n",
       "  margin-bottom: 0.5em;\n",
       "  /* unfitted */\n",
       "  background-color: var(--sklearn-color-unfitted-level-0);\n",
       "}\n",
       "\n",
       "#sk-container-id-1 div.sk-estimator.fitted {\n",
       "  /* fitted */\n",
       "  background-color: var(--sklearn-color-fitted-level-0);\n",
       "}\n",
       "\n",
       "/* on hover */\n",
       "#sk-container-id-1 div.sk-estimator:hover {\n",
       "  /* unfitted */\n",
       "  background-color: var(--sklearn-color-unfitted-level-2);\n",
       "}\n",
       "\n",
       "#sk-container-id-1 div.sk-estimator.fitted:hover {\n",
       "  /* fitted */\n",
       "  background-color: var(--sklearn-color-fitted-level-2);\n",
       "}\n",
       "\n",
       "/* Specification for estimator info (e.g. \"i\" and \"?\") */\n",
       "\n",
       "/* Common style for \"i\" and \"?\" */\n",
       "\n",
       ".sk-estimator-doc-link,\n",
       "a:link.sk-estimator-doc-link,\n",
       "a:visited.sk-estimator-doc-link {\n",
       "  float: right;\n",
       "  font-size: smaller;\n",
       "  line-height: 1em;\n",
       "  font-family: monospace;\n",
       "  background-color: var(--sklearn-color-background);\n",
       "  border-radius: 1em;\n",
       "  height: 1em;\n",
       "  width: 1em;\n",
       "  text-decoration: none !important;\n",
       "  margin-left: 1ex;\n",
       "  /* unfitted */\n",
       "  border: var(--sklearn-color-unfitted-level-1) 1pt solid;\n",
       "  color: var(--sklearn-color-unfitted-level-1);\n",
       "}\n",
       "\n",
       ".sk-estimator-doc-link.fitted,\n",
       "a:link.sk-estimator-doc-link.fitted,\n",
       "a:visited.sk-estimator-doc-link.fitted {\n",
       "  /* fitted */\n",
       "  border: var(--sklearn-color-fitted-level-1) 1pt solid;\n",
       "  color: var(--sklearn-color-fitted-level-1);\n",
       "}\n",
       "\n",
       "/* On hover */\n",
       "div.sk-estimator:hover .sk-estimator-doc-link:hover,\n",
       ".sk-estimator-doc-link:hover,\n",
       "div.sk-label-container:hover .sk-estimator-doc-link:hover,\n",
       ".sk-estimator-doc-link:hover {\n",
       "  /* unfitted */\n",
       "  background-color: var(--sklearn-color-unfitted-level-3);\n",
       "  color: var(--sklearn-color-background);\n",
       "  text-decoration: none;\n",
       "}\n",
       "\n",
       "div.sk-estimator.fitted:hover .sk-estimator-doc-link.fitted:hover,\n",
       ".sk-estimator-doc-link.fitted:hover,\n",
       "div.sk-label-container:hover .sk-estimator-doc-link.fitted:hover,\n",
       ".sk-estimator-doc-link.fitted:hover {\n",
       "  /* fitted */\n",
       "  background-color: var(--sklearn-color-fitted-level-3);\n",
       "  color: var(--sklearn-color-background);\n",
       "  text-decoration: none;\n",
       "}\n",
       "\n",
       "/* Span, style for the box shown on hovering the info icon */\n",
       ".sk-estimator-doc-link span {\n",
       "  display: none;\n",
       "  z-index: 9999;\n",
       "  position: relative;\n",
       "  font-weight: normal;\n",
       "  right: .2ex;\n",
       "  padding: .5ex;\n",
       "  margin: .5ex;\n",
       "  width: min-content;\n",
       "  min-width: 20ex;\n",
       "  max-width: 50ex;\n",
       "  color: var(--sklearn-color-text);\n",
       "  box-shadow: 2pt 2pt 4pt #999;\n",
       "  /* unfitted */\n",
       "  background: var(--sklearn-color-unfitted-level-0);\n",
       "  border: .5pt solid var(--sklearn-color-unfitted-level-3);\n",
       "}\n",
       "\n",
       ".sk-estimator-doc-link.fitted span {\n",
       "  /* fitted */\n",
       "  background: var(--sklearn-color-fitted-level-0);\n",
       "  border: var(--sklearn-color-fitted-level-3);\n",
       "}\n",
       "\n",
       ".sk-estimator-doc-link:hover span {\n",
       "  display: block;\n",
       "}\n",
       "\n",
       "/* \"?\"-specific style due to the `<a>` HTML tag */\n",
       "\n",
       "#sk-container-id-1 a.estimator_doc_link {\n",
       "  float: right;\n",
       "  font-size: 1rem;\n",
       "  line-height: 1em;\n",
       "  font-family: monospace;\n",
       "  background-color: var(--sklearn-color-background);\n",
       "  border-radius: 1rem;\n",
       "  height: 1rem;\n",
       "  width: 1rem;\n",
       "  text-decoration: none;\n",
       "  /* unfitted */\n",
       "  color: var(--sklearn-color-unfitted-level-1);\n",
       "  border: var(--sklearn-color-unfitted-level-1) 1pt solid;\n",
       "}\n",
       "\n",
       "#sk-container-id-1 a.estimator_doc_link.fitted {\n",
       "  /* fitted */\n",
       "  border: var(--sklearn-color-fitted-level-1) 1pt solid;\n",
       "  color: var(--sklearn-color-fitted-level-1);\n",
       "}\n",
       "\n",
       "/* On hover */\n",
       "#sk-container-id-1 a.estimator_doc_link:hover {\n",
       "  /* unfitted */\n",
       "  background-color: var(--sklearn-color-unfitted-level-3);\n",
       "  color: var(--sklearn-color-background);\n",
       "  text-decoration: none;\n",
       "}\n",
       "\n",
       "#sk-container-id-1 a.estimator_doc_link.fitted:hover {\n",
       "  /* fitted */\n",
       "  background-color: var(--sklearn-color-fitted-level-3);\n",
       "}\n",
       "</style><div id=\"sk-container-id-1\" class=\"sk-top-container\"><div class=\"sk-text-repr-fallback\"><pre>RandomForestClassifier(random_state=42)</pre><b>In a Jupyter environment, please rerun this cell to show the HTML representation or trust the notebook. <br />On GitHub, the HTML representation is unable to render, please try loading this page with nbviewer.org.</b></div><div class=\"sk-container\" hidden><div class=\"sk-item\"><div class=\"sk-estimator fitted sk-toggleable\"><input class=\"sk-toggleable__control sk-hidden--visually\" id=\"sk-estimator-id-1\" type=\"checkbox\" checked><label for=\"sk-estimator-id-1\" class=\"sk-toggleable__label fitted sk-toggleable__label-arrow fitted\">&nbsp;&nbsp;RandomForestClassifier<a class=\"sk-estimator-doc-link fitted\" rel=\"noreferrer\" target=\"_blank\" href=\"https://scikit-learn.org/1.5/modules/generated/sklearn.ensemble.RandomForestClassifier.html\">?<span>Documentation for RandomForestClassifier</span></a><span class=\"sk-estimator-doc-link fitted\">i<span>Fitted</span></span></label><div class=\"sk-toggleable__content fitted\"><pre>RandomForestClassifier(random_state=42)</pre></div> </div></div></div></div>"
      ],
      "text/plain": [
       "RandomForestClassifier(random_state=42)"
      ]
     },
     "execution_count": 199,
     "metadata": {},
     "output_type": "execute_result"
    }
   ],
   "source": [
    "# Обучение модели Random Forest\n",
    "\n",
    "model = RandomForestClassifier(n_estimators=100, random_state=42)\n",
    "model.fit(X_train, y_train)"
   ]
  },
  {
   "cell_type": "code",
   "execution_count": 203,
   "id": "04620a6b-b999-4255-9977-145fe9a11756",
   "metadata": {},
   "outputs": [
    {
     "name": "stdout",
     "output_type": "stream",
     "text": [
      "\n",
      "Точность на тестовой выборке: 1.0\n",
      "\n",
      "Отчет по классификации:\n",
      "              precision    recall  f1-score   support\n",
      "\n",
      "           0       1.00      1.00      1.00         6\n",
      "           1       1.00      1.00      1.00         7\n",
      "           2       1.00      1.00      1.00         8\n",
      "           3       1.00      1.00      1.00         8\n",
      "           4       1.00      1.00      1.00         7\n",
      "           5       1.00      1.00      1.00        12\n",
      "\n",
      "    accuracy                           1.00        48\n",
      "   macro avg       1.00      1.00      1.00        48\n",
      "weighted avg       1.00      1.00      1.00        48\n",
      "\n"
     ]
    }
   ],
   "source": [
    "# Предсказания и оценка метрик качества\n",
    "\n",
    "y_pred = model.predict(X_test)\n",
    "# Ууникальные классы из y_test\n",
    "unique_classes = np.unique(y_test)\n",
    "# Сопоставляем с именами из le_type.classes_\n",
    "target_names = [le_type.classes_[i] for i in unique_classes]\n",
    "# Вывод метрик\n",
    "print(\"\\nТочность на тестовой выборке:\", accuracy_score(y_test, y_pred))\n",
    "print(\"\\nОтчет по классификации:\")\n",
    "print(classification_report(y_test, y_pred, target_names=target_names))"
   ]
  },
  {
   "cell_type": "code",
   "execution_count": 213,
   "id": "5ac70090-f149-47ec-a9d7-7f68380fb382",
   "metadata": {},
   "outputs": [
    {
     "name": "stdout",
     "output_type": "stream",
     "text": [
      "\n",
      "Матрица ошибок:\n",
      "[[ 6  0  0  0  0  0]\n",
      " [ 0  7  0  0  0  0]\n",
      " [ 0  0  8  0  0  0]\n",
      " [ 0  0  0  8  0  0]\n",
      " [ 0  0  0  0  7  0]\n",
      " [ 0  0  0  0  0 12]]\n"
     ]
    }
   ],
   "source": [
    "cm = confusion_matrix(y_test, y_pred, labels=unique_classes)\n",
    "# Матрица ошибок\n",
    "print(\"\\nМатрица ошибок:\")\n",
    "print(cm)"
   ]
  },
  {
   "cell_type": "code",
   "execution_count": 211,
   "id": "d48c4f6a-3c61-409a-a13e-d52ee29cb12c",
   "metadata": {},
   "outputs": [
    {
     "name": "stdout",
     "output_type": "stream",
     "text": [
      "Temperature               0.405017\n",
      "L                         0.727025\n",
      "R                         0.797529\n",
      "A_M                      -0.947158\n",
      "Log_Temperature           0.467016\n",
      "Temperature_C             0.408709\n",
      "Log_R                     0.868912\n",
      "Color_Encoded            -0.276387\n",
      "Spectral_Class_Encoded   -0.015831\n",
      "Type_Encoded              1.000000\n",
      "Name: Type_Encoded, dtype: float64\n"
     ]
    }
   ],
   "source": [
    "print(df.corr()['Type_Encoded'])"
   ]
  },
  {
   "cell_type": "code",
   "execution_count": 219,
   "id": "1f2040c1-abdf-4905-8a85-2dab1a48fbc9",
   "metadata": {},
   "outputs": [
    {
     "name": "stdout",
     "output_type": "stream",
     "text": [
      "Кросс-валидация (accuracy):\n",
      "Средняя: 0.9833333333333334 \n",
      "Стандартное отклонение: 0.02429563289518875\n"
     ]
    }
   ],
   "source": [
    "# 5-кратная кросс-валидация для оценки стабильности модели\n",
    "# accuracy - основная метрика\n",
    "# На полном датасете (X, y)\n",
    "cv_scores = cross_val_score(model, X, y, cv=5, scoring='accuracy')\n",
    "# Вывод\n",
    "print(\"Кросс-валидация (accuracy):\")\n",
    "print(\"Средняя:\", cv_scores.mean(), \"\\nСтандартное отклонение:\", cv_scores.std())"
   ]
  },
  {
   "cell_type": "code",
   "execution_count": 221,
   "id": "1c31f5fb-7979-43b1-9a0e-62b7faeab32e",
   "metadata": {},
   "outputs": [
    {
     "name": "stdout",
     "output_type": "stream",
     "text": [
      "Важность признаков: [0.08730037 0.15237667 0.28961291 0.35795767 0.035475   0.07727739]\n",
      "Признаки: Index(['Temperature', 'L', 'R', 'A_M', 'Color_Encoded',\n",
      "       'Spectral_Class_Encoded'],\n",
      "      dtype='object')\n"
     ]
    }
   ],
   "source": [
    "print(\"Важность признаков:\", model.feature_importances_)\n",
    "print(\"Признаки:\", X.columns)"
   ]
  },
  {
   "cell_type": "code",
   "execution_count": 223,
   "id": "21dc43d3-f834-40fb-b14f-4e7910df163e",
   "metadata": {},
   "outputs": [
    {
     "name": "stdout",
     "output_type": "stream",
     "text": [
      "Признаки без A_M: ['Temperature', 'L', 'R', 'Color_Encoded', 'Spectral_Class_Encoded']\n"
     ]
    }
   ],
   "source": [
    "# Создание набора признаков без самого доминирующего признака (A_M)\n",
    "X_reduced = X.drop('A_M', axis=1)\n",
    "# Проверка столбцов\n",
    "print(\"Признаки без A_M:\", X_reduced.columns.tolist())"
   ]
  },
  {
   "cell_type": "code",
   "execution_count": 233,
   "id": "ddd0201c-8990-479a-a940-9b600eb7c45c",
   "metadata": {},
   "outputs": [
    {
     "name": "stdout",
     "output_type": "stream",
     "text": [
      "\n",
      "Распределение классов в y:\n",
      "Класс 0 (0): 39 объектов\n",
      "Класс 1 (1): 40 объектов\n",
      "Класс 2 (2): 40 объектов\n",
      "Класс 3 (3): 40 объектов\n",
      "Класс 4 (4): 40 объектов\n",
      "Класс 5 (5): 40 объектов\n",
      "Класс 6 (Main Sequence): 1 объектов\n"
     ]
    }
   ],
   "source": [
    "# Проверка распределения классов в y\n",
    "import numpy as np\n",
    "from sklearn.ensemble import RandomForestClassifier\n",
    "from sklearn.metrics import accuracy_score, classification_report, confusion_matrix\n",
    "from sklearn.model_selection import train_test_split, cross_val_score\n",
    "class_counts = np.bincount(y)\n",
    "print(\"\\nРаспределение классов в y:\")\n",
    "for class_id, count in enumerate(class_counts):\n",
    "    if count > 0:\n",
    "        print(f\"Класс {class_id} ({le_type.classes_[class_id]}): {count} объектов\")"
   ]
  },
  {
   "cell_type": "code",
   "execution_count": 237,
   "id": "fa0f98d6-4864-4ac5-88f8-bfb1b408823e",
   "metadata": {},
   "outputs": [
    {
     "name": "stdout",
     "output_type": "stream",
     "text": [
      "Размеры выборок: Обучающая: (192, 5) Тестовая: (48, 5)\n"
     ]
    }
   ],
   "source": [
    "# Разделение данных на обучающую и тестовую выборки\n",
    "X_train_red, X_test_red, y_train_red, y_test_red = train_test_split(\n",
    "    X_reduced, y, test_size=0.2, random_state=42\n",
    ")\n",
    "# Вывод размеров выборок для проверки\n",
    "print(\"Размеры выборок: Обучающая:\", X_train_red.shape, \"Тестовая:\", X_test_red.shape)\n"
   ]
  },
  {
   "cell_type": "code",
   "execution_count": 239,
   "id": "bcd83400-9061-429b-b0f0-bd3578602036",
   "metadata": {},
   "outputs": [
    {
     "data": {
      "text/html": [
       "<style>#sk-container-id-2 {\n",
       "  /* Definition of color scheme common for light and dark mode */\n",
       "  --sklearn-color-text: black;\n",
       "  --sklearn-color-line: gray;\n",
       "  /* Definition of color scheme for unfitted estimators */\n",
       "  --sklearn-color-unfitted-level-0: #fff5e6;\n",
       "  --sklearn-color-unfitted-level-1: #f6e4d2;\n",
       "  --sklearn-color-unfitted-level-2: #ffe0b3;\n",
       "  --sklearn-color-unfitted-level-3: chocolate;\n",
       "  /* Definition of color scheme for fitted estimators */\n",
       "  --sklearn-color-fitted-level-0: #f0f8ff;\n",
       "  --sklearn-color-fitted-level-1: #d4ebff;\n",
       "  --sklearn-color-fitted-level-2: #b3dbfd;\n",
       "  --sklearn-color-fitted-level-3: cornflowerblue;\n",
       "\n",
       "  /* Specific color for light theme */\n",
       "  --sklearn-color-text-on-default-background: var(--sg-text-color, var(--theme-code-foreground, var(--jp-content-font-color1, black)));\n",
       "  --sklearn-color-background: var(--sg-background-color, var(--theme-background, var(--jp-layout-color0, white)));\n",
       "  --sklearn-color-border-box: var(--sg-text-color, var(--theme-code-foreground, var(--jp-content-font-color1, black)));\n",
       "  --sklearn-color-icon: #696969;\n",
       "\n",
       "  @media (prefers-color-scheme: dark) {\n",
       "    /* Redefinition of color scheme for dark theme */\n",
       "    --sklearn-color-text-on-default-background: var(--sg-text-color, var(--theme-code-foreground, var(--jp-content-font-color1, white)));\n",
       "    --sklearn-color-background: var(--sg-background-color, var(--theme-background, var(--jp-layout-color0, #111)));\n",
       "    --sklearn-color-border-box: var(--sg-text-color, var(--theme-code-foreground, var(--jp-content-font-color1, white)));\n",
       "    --sklearn-color-icon: #878787;\n",
       "  }\n",
       "}\n",
       "\n",
       "#sk-container-id-2 {\n",
       "  color: var(--sklearn-color-text);\n",
       "}\n",
       "\n",
       "#sk-container-id-2 pre {\n",
       "  padding: 0;\n",
       "}\n",
       "\n",
       "#sk-container-id-2 input.sk-hidden--visually {\n",
       "  border: 0;\n",
       "  clip: rect(1px 1px 1px 1px);\n",
       "  clip: rect(1px, 1px, 1px, 1px);\n",
       "  height: 1px;\n",
       "  margin: -1px;\n",
       "  overflow: hidden;\n",
       "  padding: 0;\n",
       "  position: absolute;\n",
       "  width: 1px;\n",
       "}\n",
       "\n",
       "#sk-container-id-2 div.sk-dashed-wrapped {\n",
       "  border: 1px dashed var(--sklearn-color-line);\n",
       "  margin: 0 0.4em 0.5em 0.4em;\n",
       "  box-sizing: border-box;\n",
       "  padding-bottom: 0.4em;\n",
       "  background-color: var(--sklearn-color-background);\n",
       "}\n",
       "\n",
       "#sk-container-id-2 div.sk-container {\n",
       "  /* jupyter's `normalize.less` sets `[hidden] { display: none; }`\n",
       "     but bootstrap.min.css set `[hidden] { display: none !important; }`\n",
       "     so we also need the `!important` here to be able to override the\n",
       "     default hidden behavior on the sphinx rendered scikit-learn.org.\n",
       "     See: https://github.com/scikit-learn/scikit-learn/issues/21755 */\n",
       "  display: inline-block !important;\n",
       "  position: relative;\n",
       "}\n",
       "\n",
       "#sk-container-id-2 div.sk-text-repr-fallback {\n",
       "  display: none;\n",
       "}\n",
       "\n",
       "div.sk-parallel-item,\n",
       "div.sk-serial,\n",
       "div.sk-item {\n",
       "  /* draw centered vertical line to link estimators */\n",
       "  background-image: linear-gradient(var(--sklearn-color-text-on-default-background), var(--sklearn-color-text-on-default-background));\n",
       "  background-size: 2px 100%;\n",
       "  background-repeat: no-repeat;\n",
       "  background-position: center center;\n",
       "}\n",
       "\n",
       "/* Parallel-specific style estimator block */\n",
       "\n",
       "#sk-container-id-2 div.sk-parallel-item::after {\n",
       "  content: \"\";\n",
       "  width: 100%;\n",
       "  border-bottom: 2px solid var(--sklearn-color-text-on-default-background);\n",
       "  flex-grow: 1;\n",
       "}\n",
       "\n",
       "#sk-container-id-2 div.sk-parallel {\n",
       "  display: flex;\n",
       "  align-items: stretch;\n",
       "  justify-content: center;\n",
       "  background-color: var(--sklearn-color-background);\n",
       "  position: relative;\n",
       "}\n",
       "\n",
       "#sk-container-id-2 div.sk-parallel-item {\n",
       "  display: flex;\n",
       "  flex-direction: column;\n",
       "}\n",
       "\n",
       "#sk-container-id-2 div.sk-parallel-item:first-child::after {\n",
       "  align-self: flex-end;\n",
       "  width: 50%;\n",
       "}\n",
       "\n",
       "#sk-container-id-2 div.sk-parallel-item:last-child::after {\n",
       "  align-self: flex-start;\n",
       "  width: 50%;\n",
       "}\n",
       "\n",
       "#sk-container-id-2 div.sk-parallel-item:only-child::after {\n",
       "  width: 0;\n",
       "}\n",
       "\n",
       "/* Serial-specific style estimator block */\n",
       "\n",
       "#sk-container-id-2 div.sk-serial {\n",
       "  display: flex;\n",
       "  flex-direction: column;\n",
       "  align-items: center;\n",
       "  background-color: var(--sklearn-color-background);\n",
       "  padding-right: 1em;\n",
       "  padding-left: 1em;\n",
       "}\n",
       "\n",
       "\n",
       "/* Toggleable style: style used for estimator/Pipeline/ColumnTransformer box that is\n",
       "clickable and can be expanded/collapsed.\n",
       "- Pipeline and ColumnTransformer use this feature and define the default style\n",
       "- Estimators will overwrite some part of the style using the `sk-estimator` class\n",
       "*/\n",
       "\n",
       "/* Pipeline and ColumnTransformer style (default) */\n",
       "\n",
       "#sk-container-id-2 div.sk-toggleable {\n",
       "  /* Default theme specific background. It is overwritten whether we have a\n",
       "  specific estimator or a Pipeline/ColumnTransformer */\n",
       "  background-color: var(--sklearn-color-background);\n",
       "}\n",
       "\n",
       "/* Toggleable label */\n",
       "#sk-container-id-2 label.sk-toggleable__label {\n",
       "  cursor: pointer;\n",
       "  display: block;\n",
       "  width: 100%;\n",
       "  margin-bottom: 0;\n",
       "  padding: 0.5em;\n",
       "  box-sizing: border-box;\n",
       "  text-align: center;\n",
       "}\n",
       "\n",
       "#sk-container-id-2 label.sk-toggleable__label-arrow:before {\n",
       "  /* Arrow on the left of the label */\n",
       "  content: \"▸\";\n",
       "  float: left;\n",
       "  margin-right: 0.25em;\n",
       "  color: var(--sklearn-color-icon);\n",
       "}\n",
       "\n",
       "#sk-container-id-2 label.sk-toggleable__label-arrow:hover:before {\n",
       "  color: var(--sklearn-color-text);\n",
       "}\n",
       "\n",
       "/* Toggleable content - dropdown */\n",
       "\n",
       "#sk-container-id-2 div.sk-toggleable__content {\n",
       "  max-height: 0;\n",
       "  max-width: 0;\n",
       "  overflow: hidden;\n",
       "  text-align: left;\n",
       "  /* unfitted */\n",
       "  background-color: var(--sklearn-color-unfitted-level-0);\n",
       "}\n",
       "\n",
       "#sk-container-id-2 div.sk-toggleable__content.fitted {\n",
       "  /* fitted */\n",
       "  background-color: var(--sklearn-color-fitted-level-0);\n",
       "}\n",
       "\n",
       "#sk-container-id-2 div.sk-toggleable__content pre {\n",
       "  margin: 0.2em;\n",
       "  border-radius: 0.25em;\n",
       "  color: var(--sklearn-color-text);\n",
       "  /* unfitted */\n",
       "  background-color: var(--sklearn-color-unfitted-level-0);\n",
       "}\n",
       "\n",
       "#sk-container-id-2 div.sk-toggleable__content.fitted pre {\n",
       "  /* unfitted */\n",
       "  background-color: var(--sklearn-color-fitted-level-0);\n",
       "}\n",
       "\n",
       "#sk-container-id-2 input.sk-toggleable__control:checked~div.sk-toggleable__content {\n",
       "  /* Expand drop-down */\n",
       "  max-height: 200px;\n",
       "  max-width: 100%;\n",
       "  overflow: auto;\n",
       "}\n",
       "\n",
       "#sk-container-id-2 input.sk-toggleable__control:checked~label.sk-toggleable__label-arrow:before {\n",
       "  content: \"▾\";\n",
       "}\n",
       "\n",
       "/* Pipeline/ColumnTransformer-specific style */\n",
       "\n",
       "#sk-container-id-2 div.sk-label input.sk-toggleable__control:checked~label.sk-toggleable__label {\n",
       "  color: var(--sklearn-color-text);\n",
       "  background-color: var(--sklearn-color-unfitted-level-2);\n",
       "}\n",
       "\n",
       "#sk-container-id-2 div.sk-label.fitted input.sk-toggleable__control:checked~label.sk-toggleable__label {\n",
       "  background-color: var(--sklearn-color-fitted-level-2);\n",
       "}\n",
       "\n",
       "/* Estimator-specific style */\n",
       "\n",
       "/* Colorize estimator box */\n",
       "#sk-container-id-2 div.sk-estimator input.sk-toggleable__control:checked~label.sk-toggleable__label {\n",
       "  /* unfitted */\n",
       "  background-color: var(--sklearn-color-unfitted-level-2);\n",
       "}\n",
       "\n",
       "#sk-container-id-2 div.sk-estimator.fitted input.sk-toggleable__control:checked~label.sk-toggleable__label {\n",
       "  /* fitted */\n",
       "  background-color: var(--sklearn-color-fitted-level-2);\n",
       "}\n",
       "\n",
       "#sk-container-id-2 div.sk-label label.sk-toggleable__label,\n",
       "#sk-container-id-2 div.sk-label label {\n",
       "  /* The background is the default theme color */\n",
       "  color: var(--sklearn-color-text-on-default-background);\n",
       "}\n",
       "\n",
       "/* On hover, darken the color of the background */\n",
       "#sk-container-id-2 div.sk-label:hover label.sk-toggleable__label {\n",
       "  color: var(--sklearn-color-text);\n",
       "  background-color: var(--sklearn-color-unfitted-level-2);\n",
       "}\n",
       "\n",
       "/* Label box, darken color on hover, fitted */\n",
       "#sk-container-id-2 div.sk-label.fitted:hover label.sk-toggleable__label.fitted {\n",
       "  color: var(--sklearn-color-text);\n",
       "  background-color: var(--sklearn-color-fitted-level-2);\n",
       "}\n",
       "\n",
       "/* Estimator label */\n",
       "\n",
       "#sk-container-id-2 div.sk-label label {\n",
       "  font-family: monospace;\n",
       "  font-weight: bold;\n",
       "  display: inline-block;\n",
       "  line-height: 1.2em;\n",
       "}\n",
       "\n",
       "#sk-container-id-2 div.sk-label-container {\n",
       "  text-align: center;\n",
       "}\n",
       "\n",
       "/* Estimator-specific */\n",
       "#sk-container-id-2 div.sk-estimator {\n",
       "  font-family: monospace;\n",
       "  border: 1px dotted var(--sklearn-color-border-box);\n",
       "  border-radius: 0.25em;\n",
       "  box-sizing: border-box;\n",
       "  margin-bottom: 0.5em;\n",
       "  /* unfitted */\n",
       "  background-color: var(--sklearn-color-unfitted-level-0);\n",
       "}\n",
       "\n",
       "#sk-container-id-2 div.sk-estimator.fitted {\n",
       "  /* fitted */\n",
       "  background-color: var(--sklearn-color-fitted-level-0);\n",
       "}\n",
       "\n",
       "/* on hover */\n",
       "#sk-container-id-2 div.sk-estimator:hover {\n",
       "  /* unfitted */\n",
       "  background-color: var(--sklearn-color-unfitted-level-2);\n",
       "}\n",
       "\n",
       "#sk-container-id-2 div.sk-estimator.fitted:hover {\n",
       "  /* fitted */\n",
       "  background-color: var(--sklearn-color-fitted-level-2);\n",
       "}\n",
       "\n",
       "/* Specification for estimator info (e.g. \"i\" and \"?\") */\n",
       "\n",
       "/* Common style for \"i\" and \"?\" */\n",
       "\n",
       ".sk-estimator-doc-link,\n",
       "a:link.sk-estimator-doc-link,\n",
       "a:visited.sk-estimator-doc-link {\n",
       "  float: right;\n",
       "  font-size: smaller;\n",
       "  line-height: 1em;\n",
       "  font-family: monospace;\n",
       "  background-color: var(--sklearn-color-background);\n",
       "  border-radius: 1em;\n",
       "  height: 1em;\n",
       "  width: 1em;\n",
       "  text-decoration: none !important;\n",
       "  margin-left: 1ex;\n",
       "  /* unfitted */\n",
       "  border: var(--sklearn-color-unfitted-level-1) 1pt solid;\n",
       "  color: var(--sklearn-color-unfitted-level-1);\n",
       "}\n",
       "\n",
       ".sk-estimator-doc-link.fitted,\n",
       "a:link.sk-estimator-doc-link.fitted,\n",
       "a:visited.sk-estimator-doc-link.fitted {\n",
       "  /* fitted */\n",
       "  border: var(--sklearn-color-fitted-level-1) 1pt solid;\n",
       "  color: var(--sklearn-color-fitted-level-1);\n",
       "}\n",
       "\n",
       "/* On hover */\n",
       "div.sk-estimator:hover .sk-estimator-doc-link:hover,\n",
       ".sk-estimator-doc-link:hover,\n",
       "div.sk-label-container:hover .sk-estimator-doc-link:hover,\n",
       ".sk-estimator-doc-link:hover {\n",
       "  /* unfitted */\n",
       "  background-color: var(--sklearn-color-unfitted-level-3);\n",
       "  color: var(--sklearn-color-background);\n",
       "  text-decoration: none;\n",
       "}\n",
       "\n",
       "div.sk-estimator.fitted:hover .sk-estimator-doc-link.fitted:hover,\n",
       ".sk-estimator-doc-link.fitted:hover,\n",
       "div.sk-label-container:hover .sk-estimator-doc-link.fitted:hover,\n",
       ".sk-estimator-doc-link.fitted:hover {\n",
       "  /* fitted */\n",
       "  background-color: var(--sklearn-color-fitted-level-3);\n",
       "  color: var(--sklearn-color-background);\n",
       "  text-decoration: none;\n",
       "}\n",
       "\n",
       "/* Span, style for the box shown on hovering the info icon */\n",
       ".sk-estimator-doc-link span {\n",
       "  display: none;\n",
       "  z-index: 9999;\n",
       "  position: relative;\n",
       "  font-weight: normal;\n",
       "  right: .2ex;\n",
       "  padding: .5ex;\n",
       "  margin: .5ex;\n",
       "  width: min-content;\n",
       "  min-width: 20ex;\n",
       "  max-width: 50ex;\n",
       "  color: var(--sklearn-color-text);\n",
       "  box-shadow: 2pt 2pt 4pt #999;\n",
       "  /* unfitted */\n",
       "  background: var(--sklearn-color-unfitted-level-0);\n",
       "  border: .5pt solid var(--sklearn-color-unfitted-level-3);\n",
       "}\n",
       "\n",
       ".sk-estimator-doc-link.fitted span {\n",
       "  /* fitted */\n",
       "  background: var(--sklearn-color-fitted-level-0);\n",
       "  border: var(--sklearn-color-fitted-level-3);\n",
       "}\n",
       "\n",
       ".sk-estimator-doc-link:hover span {\n",
       "  display: block;\n",
       "}\n",
       "\n",
       "/* \"?\"-specific style due to the `<a>` HTML tag */\n",
       "\n",
       "#sk-container-id-2 a.estimator_doc_link {\n",
       "  float: right;\n",
       "  font-size: 1rem;\n",
       "  line-height: 1em;\n",
       "  font-family: monospace;\n",
       "  background-color: var(--sklearn-color-background);\n",
       "  border-radius: 1rem;\n",
       "  height: 1rem;\n",
       "  width: 1rem;\n",
       "  text-decoration: none;\n",
       "  /* unfitted */\n",
       "  color: var(--sklearn-color-unfitted-level-1);\n",
       "  border: var(--sklearn-color-unfitted-level-1) 1pt solid;\n",
       "}\n",
       "\n",
       "#sk-container-id-2 a.estimator_doc_link.fitted {\n",
       "  /* fitted */\n",
       "  border: var(--sklearn-color-fitted-level-1) 1pt solid;\n",
       "  color: var(--sklearn-color-fitted-level-1);\n",
       "}\n",
       "\n",
       "/* On hover */\n",
       "#sk-container-id-2 a.estimator_doc_link:hover {\n",
       "  /* unfitted */\n",
       "  background-color: var(--sklearn-color-unfitted-level-3);\n",
       "  color: var(--sklearn-color-background);\n",
       "  text-decoration: none;\n",
       "}\n",
       "\n",
       "#sk-container-id-2 a.estimator_doc_link.fitted:hover {\n",
       "  /* fitted */\n",
       "  background-color: var(--sklearn-color-fitted-level-3);\n",
       "}\n",
       "</style><div id=\"sk-container-id-2\" class=\"sk-top-container\"><div class=\"sk-text-repr-fallback\"><pre>RandomForestClassifier(random_state=42)</pre><b>In a Jupyter environment, please rerun this cell to show the HTML representation or trust the notebook. <br />On GitHub, the HTML representation is unable to render, please try loading this page with nbviewer.org.</b></div><div class=\"sk-container\" hidden><div class=\"sk-item\"><div class=\"sk-estimator fitted sk-toggleable\"><input class=\"sk-toggleable__control sk-hidden--visually\" id=\"sk-estimator-id-2\" type=\"checkbox\" checked><label for=\"sk-estimator-id-2\" class=\"sk-toggleable__label fitted sk-toggleable__label-arrow fitted\">&nbsp;&nbsp;RandomForestClassifier<a class=\"sk-estimator-doc-link fitted\" rel=\"noreferrer\" target=\"_blank\" href=\"https://scikit-learn.org/1.5/modules/generated/sklearn.ensemble.RandomForestClassifier.html\">?<span>Documentation for RandomForestClassifier</span></a><span class=\"sk-estimator-doc-link fitted\">i<span>Fitted</span></span></label><div class=\"sk-toggleable__content fitted\"><pre>RandomForestClassifier(random_state=42)</pre></div> </div></div></div></div>"
      ],
      "text/plain": [
       "RandomForestClassifier(random_state=42)"
      ]
     },
     "execution_count": 239,
     "metadata": {},
     "output_type": "execute_result"
    }
   ],
   "source": [
    "# Обучение Random Forest без A_M\n",
    "model_reduced = RandomForestClassifier(n_estimators=100, random_state=42)\n",
    "model_reduced.fit(X_train_red, y_train_red)"
   ]
  },
  {
   "cell_type": "code",
   "execution_count": 241,
   "id": "08bcd8d2-e43b-4eab-a324-5f673d45ccf8",
   "metadata": {},
   "outputs": [
    {
     "name": "stdout",
     "output_type": "stream",
     "text": [
      "\n",
      "Точность на тестовой выборке (без A_M): 0.9791666666666666\n",
      "\n",
      "Отчет по классификации (без A_M):\n",
      "              precision    recall  f1-score   support\n",
      "\n",
      "           0       0.86      1.00      0.92         6\n",
      "           1       1.00      0.86      0.92         7\n",
      "           2       1.00      1.00      1.00         8\n",
      "           3       1.00      1.00      1.00         8\n",
      "           4       1.00      1.00      1.00         7\n",
      "           5       1.00      1.00      1.00        12\n",
      "\n",
      "    accuracy                           0.98        48\n",
      "   macro avg       0.98      0.98      0.97        48\n",
      "weighted avg       0.98      0.98      0.98        48\n",
      "\n"
     ]
    }
   ],
   "source": [
    "# Предсказания и оценка метрик качества\n",
    "# Точность и детальные метрики\n",
    "y_pred_red = model_reduced.predict(X_test_red)\n",
    "# Уникальные классы из y_test_red\n",
    "unique_classes = np.unique(y_test_red)\n",
    "target_names = [le_type.classes_[i] for i in unique_classes]\n",
    "# Вывод\n",
    "print(\"\\nТочность на тестовой выборке (без A_M):\", accuracy_score(y_test_red, y_pred_red))\n",
    "print(\"\\nОтчет по классификации (без A_M):\")\n",
    "print(classification_report(y_test_red, y_pred_red, target_names=target_names))"
   ]
  },
  {
   "cell_type": "code",
   "execution_count": 243,
   "id": "f07ecfc0-f965-4def-bdab-1e806ecdb837",
   "metadata": {},
   "outputs": [
    {
     "name": "stdout",
     "output_type": "stream",
     "text": [
      "Матрица ошибок (без A_M):\n",
      "[[ 6  0  0  0  0  0]\n",
      " [ 1  6  0  0  0  0]\n",
      " [ 0  0  8  0  0  0]\n",
      " [ 0  0  0  8  0  0]\n",
      " [ 0  0  0  0  7  0]\n",
      " [ 0  0  0  0  0 12]]\n"
     ]
    }
   ],
   "source": [
    "# Матрица ошибок\n",
    "cm = confusion_matrix(y_test_red, y_pred_red, labels=unique_classes)\n",
    "# Вывод\n",
    "print(\"Матрица ошибок (без A_M):\")\n",
    "print(cm)"
   ]
  },
  {
   "cell_type": "code",
   "execution_count": 247,
   "id": "07625ea4-3f68-4133-8967-aed90de5ee80",
   "metadata": {},
   "outputs": [
    {
     "name": "stdout",
     "output_type": "stream",
     "text": [
      "Кросс-валидация (accuracy, без A_M):\n",
      "Средняя: 0.95 \n",
      "Стандартное отклонение: 0.04082482904638629\n"
     ]
    }
   ],
   "source": [
    "# 5-кратная кросс-валидация модели без A_M\n",
    "\n",
    "cv_scores_red = cross_val_score(model_reduced, X_reduced, y, cv=5, scoring='accuracy')\n",
    "# Вывод\n",
    "print(\"Кросс-валидация (accuracy, без A_M):\")\n",
    "print(\"Средняя:\", cv_scores_red.mean(), \"\\nСтандартное отклонение:\", cv_scores_red.std())\n"
   ]
  },
  {
   "cell_type": "code",
   "execution_count": 249,
   "id": "7c00b17a-74cc-4f85-8d2d-8d2ce469dd68",
   "metadata": {},
   "outputs": [
    {
     "name": "stdout",
     "output_type": "stream",
     "text": [
      "Кросс-валидация (F1-macro): Средняя: 0.923851257102031\n"
     ]
    }
   ],
   "source": [
    "cv_scores_f1 = cross_val_score(model_reduced, X_reduced, y, cv=5, scoring='f1_macro')\n",
    "print(\"Кросс-валидация (F1-macro): Средняя:\", cv_scores_f1.mean())"
   ]
  },
  {
   "cell_type": "code",
   "execution_count": 252,
   "id": "9cd179c5-292b-46b1-9cb8-c35f4d81a51b",
   "metadata": {},
   "outputs": [
    {
     "name": "stdout",
     "output_type": "stream",
     "text": [
      "Лучшие параметры: {'max_depth': 10, 'n_estimators': 50}\n"
     ]
    }
   ],
   "source": [
    "from sklearn.model_selection import GridSearchCV\n",
    "param_grid = {'n_estimators': [50, 100, 200], 'max_depth': [5, 10, None]}\n",
    "grid_search = GridSearchCV(RandomForestClassifier(random_state=42), param_grid, cv=5, scoring='f1_macro')\n",
    "grid_search.fit(X_reduced, y)\n",
    "print(\"Лучшие параметры:\", grid_search.best_params_)\n",
    "\n",
    "model_reduced = RandomForestClassifier(n_estimators=100, class_weight='balanced', random_state=42)"
   ]
  },
  {
   "cell_type": "code",
   "execution_count": 253,
   "id": "9b537c24-7e1d-4494-919f-0ee9c45855c5",
   "metadata": {},
   "outputs": [
    {
     "name": "stdout",
     "output_type": "stream",
     "text": [
      "Кросс-валидация (F1-macro): Средняя: 0.9239696463380673\n"
     ]
    }
   ],
   "source": [
    "cv_scores_f1 = cross_val_score(model_reduced, X_reduced, y, cv=5, scoring='f1_macro')\n",
    "print(\"Кросс-валидация (F1-macro): Средняя:\", cv_scores_f1.mean())"
   ]
  },
  {
   "cell_type": "code",
   "execution_count": null,
   "id": "77438bb4-519b-430d-8bae-e45edd351d7e",
   "metadata": {},
   "outputs": [],
   "source": []
  }
 ],
 "metadata": {
  "kernelspec": {
   "display_name": "Python [conda env:base] *",
   "language": "python",
   "name": "conda-base-py"
  },
  "language_info": {
   "codemirror_mode": {
    "name": "ipython",
    "version": 3
   },
   "file_extension": ".py",
   "mimetype": "text/x-python",
   "name": "python",
   "nbconvert_exporter": "python",
   "pygments_lexer": "ipython3",
   "version": "3.12.7"
  }
 },
 "nbformat": 4,
 "nbformat_minor": 5
}
